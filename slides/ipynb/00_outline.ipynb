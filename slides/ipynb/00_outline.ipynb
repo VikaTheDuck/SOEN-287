{
 "cells": [
  {
   "cell_type": "markdown",
   "metadata": {
    "slideshow": {
     "slide_type": "slide"
    }
   },
   "source": [
    "# SOEN287 Web Programming\n",
    "## Fall 2019 Course Outline\n",
    "### Professor: Denis Rinfret\n",
    "- Email: denis.rinfret@concordia.ca\n",
    "- Office: EV 3.217\n",
    "- Office hours: \n",
    "    - Wednesday: from 15:00 to 16:30\n",
    "    - Friday: from 10:00 to 11:30\n",
    "    - or by appointment."
   ]
  },
  {
   "cell_type": "markdown",
   "metadata": {
    "slideshow": {
     "slide_type": "subslide"
    }
   },
   "source": [
    "## Course Description\n",
    "\n",
    "From the [Undergraduate Calendar](https://www.concordia.ca/academics/undergraduate/calendar/current/sec71/71-70.html#softeng)\n",
    "\n",
    "**SOEN 287 *Web Programming*** (3 credits)\n",
    "\n",
    "*Prerequisite*: COMP 248. Internet architecture and protocols. Web applications through clients and servers. Markup languages. Client‑side programming using scripting languages. Static website contents and dynamic page generation through server‑side programming. Preserving state (client‑side) in web applications. Lectures: three hours per week. Tutorial: two hours per week.\n",
    "\n",
    "### Background Knowledge\n",
    "The prerequisite is *COMP 248 Object-Oriented Programming 1*, so it is assumed that you have some programming experience. In particular, you are expected to be able to write conditionals, loops and functions, and how to use these to implement simple (or relatively simple) algorithms."
   ]
  },
  {
   "cell_type": "markdown",
   "metadata": {
    "slideshow": {
     "slide_type": "subslide"
    }
   },
   "source": [
    "## Course Objectives and Content\n",
    "\n",
    "This is an introductory course on Web programming.\n",
    "\n",
    "Please note that Web programming and Web applications is a very wide domain. Many techniques are used to build a complex online business system. The following topics are NOT covered in this course, but in some other courses:\n",
    "- J2EE, JSP, Servlet, (SOEN 387), Web services (SOEN 487)\n",
    "- Security (SOEN 321)\n",
    "- Enterprise level systems and applications (SOEN 387, SOEN 487)\n",
    "- Database and SQL (COMP 353)"
   ]
  },
  {
   "cell_type": "markdown",
   "metadata": {
    "slideshow": {
     "slide_type": "subslide"
    }
   },
   "source": [
    "## Course Learning Outcomes (CLO)\n",
    "\n",
    "Upon successful completion of this course, students will be able to:\n",
    "- CLO 1. Have gained factual knowledge on Web site development.\n",
    "- CLO 2. Be able to analyze and evaluate different technical solutions when developing a Web site and apply the learned techniques properly.\n",
    "- CLO 3. Be able to cultivate creative and innovative ideas when developing Internet applications."
   ]
  },
  {
   "cell_type": "markdown",
   "metadata": {
    "slideshow": {
     "slide_type": "subslide"
    }
   },
   "source": [
    "## CEAB Attribute Assessment\n",
    "\n",
    "As part of either the Computer Science or Software Engineering program curriculum, the content of this course includes material and exercises related to the teaching and evaluation of graduate attributes. Graduate attributes are skills that have been identified by the Canadian Engineering Accreditation Board (CEAB) and the Canadian Information Processing Society (CIPS) as being central to the formation of Engineers, computer scientists and information technology professionals.\n",
    "\n",
    "As such, the accreditation criteria for the Software Engineering and Computer Science programs dictate that graduate attributes are taught and evaluated as part of the courses."
   ]
  },
  {
   "cell_type": "markdown",
   "metadata": {
    "slideshow": {
     "slide_type": "subslide"
    }
   },
   "source": [
    "The following is the list of graduate attributes covered in SOEN287, along with a description of how these attributes are incorporated in the course:\n",
    "- Knowledge-base: Internet architecture and protocols. Web applications through clients and servers. Markup languages. Client-side programming using scripting languages. Static website contents and dynamic page generation through server-side programming. Preserving state (client-side) in web applications. (CLO 1)\n",
    "- Design: Design and implementation of web-based systems using different basic architectures and design principles. (CLO 2)\n",
    "- Use of Engineering tools: Use of appropriate software development tools and languages to develop web applications both on client and server side. (CLO 3)"
   ]
  },
  {
   "cell_type": "markdown",
   "metadata": {
    "slideshow": {
     "slide_type": "slide"
    }
   },
   "source": [
    "## Resources\n",
    "\n",
    "### Required Text Book\n",
    "There are no required text books for this course. Instead, suggested readings from a number of different online resources and/or books will be given throughout the semester.\n",
    "\n",
    "### Course Web Page\n",
    "Many resources for the course (lecture slides, assignments, example programs . . .) will be\n",
    "available on the course web site on Moodle which is accessible through MyConcordia\n",
    "portal at https://my.concordia.ca. Be sure to consult the web page frequently."
   ]
  },
  {
   "cell_type": "markdown",
   "metadata": {
    "slideshow": {
     "slide_type": "subslide"
    }
   },
   "source": [
    "### Computing Facilities\n",
    "You should obtain a computer account, if you don’t already have one, from the help desk at H-\n",
    "960 or EV-007.182. This account will give you access to the laboratories. For more information\n",
    "on CSE Computer accounts please visit the website:\n",
    "http://www.encs.concordia.ca/helpdesk/access.html.\n",
    "If you have a computer at home and prefer to use it, you may do so.\n",
    "\n",
    "### Tutorials\n",
    "Tutorials will take place every week starting from the second week. Tutorial attendance is strongly encouraged. The tutorials will reinforce the material seen during the lectures with examples and practical exercises. Tutorials are always in a lab. You are allowed to use your own laptop in the tutorial sessions to profit from your own settings in your computer."
   ]
  },
  {
   "cell_type": "markdown",
   "metadata": {
    "slideshow": {
     "slide_type": "slide"
    }
   },
   "source": [
    "## Evaluation Scheme\n",
    "\n",
    "- 3 Assignments: 30% (7% + 8% + 15%)\n",
    "- Midterm Exam: 20%\n",
    "- Final Exam: 50%\n",
    "\n",
    "\n",
    "1. In order to pass the course, you must \n",
    "    1. pass the final exam by getting at least 50% of the marks, regardless of your grade in other required components, \n",
    "    2. pass the assignments by getting at least 50% of the marks for the 3 assignments combined, regardless of your grade in other required components, \n",
    "    3. attend both the midterm and final exams.\n",
    "\n",
    "2. If the mark for the final exam (as a percentage out of 100) is higher than the midterm exam mark (as a percentage out of 100), then the weight of the midterm exam will be shifted to the final exam. Thus students will benefit from improving their performance on the final exam."
   ]
  },
  {
   "cell_type": "markdown",
   "metadata": {
    "slideshow": {
     "slide_type": "subslide"
    }
   },
   "source": [
    "3. There is no standard relationship between percentages and letter grades assigned.\n",
    "\n",
    "4. Although we encourage discussion of the assignment questions among students, you should be aware of the University regulations concerning plagiarism described in 16.3.13 of the undergraduate Calendar. All students should become familiar with the University’s Code of Conduct located at http://www.concordia.ca/students/academic-integrity/code.html . In cases where cheating or plagiarism is suspected, the case will be forwarded directly to the appropriate university office for consideration. Please do not assume that you get “second chances” when it comes to cheating. Once is often enough to damage your academic career."
   ]
  },
  {
   "cell_type": "markdown",
   "metadata": {
    "slideshow": {
     "slide_type": "subslide"
    }
   },
   "source": [
    "### Note from University Administration\n",
    "> In the event of extraordinary circumstances beyond the University's control, the content and/or evaluation scheme in this course is subject to change\"."
   ]
  },
  {
   "cell_type": "markdown",
   "metadata": {
    "slideshow": {
     "slide_type": "subslide"
    }
   },
   "source": [
    "### Assignments\n",
    "\n",
    "There will be 3 assignments. The assignment descriptions will be available on the course webpage. All assignment questions must be downloaded from the course web page and submitted electronically. Instructions on submitting assignments will be available on the course web page. The assignment schedule can be found in the tentative course schedule at the end of this document.\n",
    "\n",
    "**Please Note**:\n",
    "- Late assignments will be accepted, but there will be a penalty of 10% per late day, with a maximum of 5 late days per assignment. After 5 late days, your assignment will not be graded.\n",
    "- You are allowed a maximum of 7 late days for all 3 assignments combined. Any assignment submitted late after you run out of late days will not be graded.\n",
    "- Penalty-free extensions will not normally be granted, except for extreme cases.\n",
    "- Assignments submitted in the incorrect location and/or in an incorrect format will not be considered."
   ]
  },
  {
   "cell_type": "markdown",
   "metadata": {
    "slideshow": {
     "slide_type": "subslide"
    }
   },
   "source": [
    "### Examinations\n",
    "#### Midterm Exam\n",
    "The midterm exam will take place during regular lecture time. There will be no make-up exam.\n",
    "    \n",
    "- **Date** (tentative): Thursday October 24 (in-class) \n",
    "\n",
    "#### Final Examination\n",
    "The final examination will last three hours, and will be administered during the examination period at the end of the term. The final examination will cover all material seen during the term."
   ]
  },
  {
   "cell_type": "markdown",
   "metadata": {
    "slideshow": {
     "slide_type": "slide"
    }
   },
   "source": [
    "## How to study in this course\n",
    "- If certain concepts are unclear to you, seek help right away. Ask your TA during the tutorial and/or your instructor for help. Make use of your instructor’s office hours; book an appointment with your instructor if the office hours are not suitable.\n",
    "- Programming is not a “spectator sport”. You need to get your hands dirty by trying the examples discussed in class and doing the assignments."
   ]
  },
  {
   "cell_type": "markdown",
   "metadata": {
    "slideshow": {
     "slide_type": "subslide"
    }
   },
   "source": [
    "## Classroom behavior\n",
    "- Please arrive on time, as late arrivals are distracting to your peers.\n",
    "- NO cell phones. If your cell phone rings during class, you will be asked to leave the classroom for the rest of that class period.\n",
    "- No walking in and out of the classroom once class has started.\n",
    "\n",
    "\n",
    "### Special Needs:\n",
    "If you have any special needs please contact your instructor to arrange a time to discuss the situation.\n",
    "\n",
    "\n",
    "### Academic Support:\n",
    "If you are experiencing difficulties that are affecting your studies, Concordia offers many on-campus free of charge services. You can find a list of resources at the Student Success Centre Website: http://www.concordia.ca/students/success.html"
   ]
  },
  {
   "cell_type": "markdown",
   "metadata": {
    "slideshow": {
     "slide_type": "slide"
    }
   },
   "source": [
    "## Tentative Schedule\n",
    "The list below provides a summary of the material that will be covered during the course as well as a tentative schedule. Please check course webpage for any changes.\n",
    "\n",
    "<table>\n",
    "    <caption>SOEN287 Tentative Schedule</caption>\n",
    "    <tr>\n",
    "        <th colspan=\"2\">Topic</th>\n",
    "        <th>Description</th>\n",
    "        <th colspan=\"2\">Weeks</th>\n",
    "        <th>Assignments and exams</th>\n",
    "    </tr>\n",
    "    <tr>\n",
    "        <td>1</td>\n",
    "        <td>HTML</td>\n",
    "        <td>HTML basics, elements, tags, attributes</td>\n",
    "        <td>1</td>\n",
    "        <td>Sep. 2</td>\n",
    "        <td></td>\n",
    "    </tr>\n",
    "    <tr>\n",
    "        <td rowspan=\"2\">2</td>\n",
    "        <td rowspan=\"2\">CSS</td>\n",
    "        <td rowspan=\"2\">Cascading StyleSheets, styles, colors, rules, positioning, introduction to Bootstrap</td>\n",
    "        <td>2</td>\n",
    "        <td>Sep. 9</td>\n",
    "        <td></td>\n",
    "    </tr>\n",
    "    <tr>\n",
    "        <td>3</td>\n",
    "        <td>Sep. 16</td>\n",
    "        <td>Assignment 1 due</td>\n",
    "    </tr>\n",
    "    <tr>\n",
    "        <td rowspan=\"2\">3</td>\n",
    "        <td rowspan=\"2\">Basic Python</td>\n",
    "        <td rowspan=\"2\">Introduction to Python, variables, loops, conditionals, functions</td>\n",
    "        <td>4</td>\n",
    "        <td>Sep. 23</td>\n",
    "        <td></td>\n",
    "    </tr>\n",
    "    <tr>\n",
    "        <td>5</td>\n",
    "        <td>Sep. 30</td>\n",
    "        <td></td>\n",
    "    </tr>\n",
    "</table>\n"
   ]
  },
  {
   "cell_type": "markdown",
   "metadata": {
    "slideshow": {
     "slide_type": "subslide"
    }
   },
   "source": [
    "<table>\n",
    "    <tr>\n",
    "        <th colspan=\"2\">Topic</th>\n",
    "        <th>Description</th>\n",
    "        <th colspan=\"2\">Weeks</th>\n",
    "        <th>Assignments and exams</th>\n",
    "    </tr>\n",
    "    <tr>\n",
    "        <td rowspan=\"4\">4</td>\n",
    "        <td rowspan=\"4\">Flask</td>\n",
    "        <td rowspan=\"4\">Endpoints, routes, templates, forms, sessions, data stores</td>\n",
    "        <td>6</td>\n",
    "        <td>Oct. 7</td>\n",
    "        <td>Assignment 2 due</td>\n",
    "    </tr>\n",
    "    <tr>\n",
    "        <td>7</td>\n",
    "        <td>Oct. 14</td>\n",
    "        <td></td>\n",
    "    </tr>\n",
    "    <tr>\n",
    "        <td>8</td>\n",
    "        <td>Oct. 21</td>\n",
    "        <td>Midterm (Thursday)</td>\n",
    "    </tr>\n",
    "    <tr>\n",
    "        <td>9</td>\n",
    "        <td>Oct. 28</td>\n",
    "        <td></td>\n",
    "    </tr>\n",
    "    <tr>\n",
    "        <td rowspan=\"4\">5</td>\n",
    "        <td rowspan=\"4\">JavaScript</td>\n",
    "        <td rowspan=\"4\">Introduction to JavaScript, variables, loops, conditionals, functions, DOM, events, AJAX</td>\n",
    "        <td>10</td>\n",
    "        <td>Nov. 4</td>\n",
    "        <td></td>\n",
    "    </tr>\n",
    "    <tr>\n",
    "        <td>11</td>\n",
    "        <td>Nov. 11</td>\n",
    "        <td></td>\n",
    "    </tr>\n",
    "    <tr>\n",
    "        <td>12</td>\n",
    "        <td>Nov. 18</td>\n",
    "        <td></td>\n",
    "    </tr>\n",
    "    <tr>\n",
    "        <td>13</td>\n",
    "        <td>Nov. 25</td>\n",
    "        <td>Assignment 3 due</td>\n",
    "    </tr>\n",
    "</table>   "
   ]
  }
 ],
 "metadata": {
  "celltoolbar": "Slideshow",
  "kernelspec": {
   "display_name": "Python 3",
   "language": "python",
   "name": "python3"
  },
  "language_info": {
   "codemirror_mode": {
    "name": "ipython",
    "version": 3
   },
   "file_extension": ".py",
   "mimetype": "text/x-python",
   "name": "python",
   "nbconvert_exporter": "python",
   "pygments_lexer": "ipython3",
   "version": "3.7.3"
  }
 },
 "nbformat": 4,
 "nbformat_minor": 2
}

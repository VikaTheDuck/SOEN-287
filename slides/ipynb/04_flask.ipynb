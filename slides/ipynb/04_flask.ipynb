{
 "cells": [
  {
   "cell_type": "markdown",
   "metadata": {
    "slideshow": {
     "slide_type": "slide"
    }
   },
   "source": [
    "# SOEN287 Web Programming\n",
    "## Web Programming with Flask\n",
    "### Author: Denis Rinfret "
   ]
  },
  {
   "cell_type": "markdown",
   "metadata": {
    "slideshow": {
     "slide_type": "slide"
    }
   },
   "source": [
    "## The Flask Framework\n",
    "### Web Development One Drop at a Time\n",
    "\n",
    "- Documentation: https://flask.palletsprojects.com/en/1.1.x/\n",
    "- Recommended book: **Flask Web Development**, by Miguel Grinberg, 2018, Published by O’Reilly Media.\n",
    "- *Flask* is a web development *micro*framework\n",
    "    - *micro* in microframework means Flask aims to keep the core *simple* but *extensible*\n",
    "    - *Flask won’t make many decisions for you*, such as what database to use. \n",
    "    - Those decisions that it does make, such as what templating engine to use, are easy to change \n",
    "    - Everything else is *up to you*, so that Flask can be everything you need and nothing you don’t\n"
   ]
  },
  {
   "cell_type": "markdown",
   "metadata": {
    "slideshow": {
     "slide_type": "slide"
    }
   },
   "source": [
    "## Flask Basics\n",
    "### First Web Site\n",
    "- Flask's *hello world* program is very simple compared to other web frameworks\n",
    "- We need a Python environment with the *Flask* package installed\n",
    "    - first option: use this command in a Python virtual environment\n",
    "        - `pip install Flask`\n",
    "        - more details here: https://flask.palletsprojects.com/en/1.1.x/installation/#installation\n",
    "    - second option (recommended): use PyCharm to simplify creating and updating Python virtual environments and Flask projects\n",
    "        - create a new project\n",
    "        - select *Flask* as the project type\n",
    "        - select an existing Python virtual environment to use or create a new one\n",
    "            - note: you should probably not create a new Python virtual environment for each project since you will have to reinstall all the necessary packages in each environment and use up more disk space in the process\n"
   ]
  },
  {
   "cell_type": "markdown",
   "metadata": {
    "slideshow": {
     "slide_type": "subslide"
    }
   },
   "source": [
    "- PyCharm will automatically create a basic Flask project for you\n",
    "- In the `app.py` file, you will have code similar to the code given below"
   ]
  },
  {
   "cell_type": "code",
   "execution_count": null,
   "metadata": {
    "scrolled": true
   },
   "outputs": [],
   "source": [
    "from flask import Flask\n",
    "\n",
    "app = Flask(__name__)\n",
    "\n",
    "\n",
    "@app.route('/')\n",
    "def hello_soen287():\n",
    "    return '<h1>Hello SOEN287!</h1>'\n",
    "\n",
    "\n",
    "if __name__ == '__main__':\n",
    "    app.run()"
   ]
  },
  {
   "cell_type": "markdown",
   "metadata": {
    "slideshow": {
     "slide_type": "subslide"
    }
   },
   "source": [
    "- **Warning**:\n",
    "    - running a web server within the slides is not good idea\n",
    "    - there's no way to stop it other than stopping and restarting the kernel\n",
    "- Code examples available in project `01_flask_basics`\n",
    "    - Note that usually, a Flask project would contain only one *main* file, `app.py`, to start the development web server\n",
    "    - To reduce the number of different projects, many *main* files have been grouped together for the examples\n",
    "    - In real life, a project would have only 1 `app.py` file"
   ]
  },
  {
   "cell_type": "markdown",
   "metadata": {
    "slideshow": {
     "slide_type": "subslide"
    }
   },
   "source": [
    "### Code Overview\n",
    "- We always need to import the `Flask` class from the `flask` package\n",
    "- We create a Flask `app` by creating an instance of the `Flask` class\n",
    "- ` @app.route('/')` is a function decorator, applying to the following function definition\n",
    "    - it means that when a request to access the root page `/` is sent to the server\n",
    "    - it will execute the `hello_soen287` function\n",
    "    - this function simply returns a string containing some simple HTML\n",
    "    - this string will be sent back to the client (probably a web browser) which sent the request\n",
    "- If `__name__` is `__main__`, then we need to call `app.run()` to start the server\n",
    "    - this will be the case when we run the `app.py` directly\n",
    "- In production mode, the server is normally started differently (more on this later when discussing deployment strategies)\n",
    "\n"
   ]
  },
  {
   "cell_type": "markdown",
   "metadata": {
    "slideshow": {
     "slide_type": "subslide"
    }
   },
   "source": [
    "### How to Run\n",
    "- Run the server\n",
    "- In your browser, go to http://127.0.0.1:5000\n",
    "- You should see *Hello SOEN287* in a `h1` header\n",
    "- Modify the route to ` @app.route('/hello')`\n",
    "- Reload in browser: did something change?\n",
    "- By default in PyCharm, servers do **not** run in *debug* mode\n",
    "- You need to restart the server to see the changes\n",
    "- Or modify the run configuration to run the server in debug mode (check the *FLASK_DEBUG* option)\n",
    "- In debug mode, it will detect changes to source code files and rerun the server automatically\n"
   ]
  },
  {
   "cell_type": "markdown",
   "metadata": {
    "slideshow": {
     "slide_type": "slide"
    }
   },
   "source": [
    "### `url_for` Example\n",
    "#### File: `02_app.py`\n",
    "- Example with 2 endpoints \n",
    "    - each ` @app.route()` with its associated function is often called an *endpoint*\n",
    "- The `index` endpoint uses the `format` string function to create an `a` element referring to the other endpoint\n",
    "- `url_for` takes a function name as its argument, an returns the route associated to it\n",
    "    - in this case, it will return `/hello`\n",
    "- Why not write `/hello` directly instead of calling `url_for`?\n",
    "    - in this simple example, we don't need to use `url_for`\n",
    "    - but in larger project, it's better to use `url_for` in case we need to move endpoints around\n",
    "    - try changing the route for `hello_soen287`, and with `url_for`, you don't need to change anything else\n",
    "    - without `url_for`, you would need to update every reference to it\n"
   ]
  },
  {
   "cell_type": "code",
   "execution_count": null,
   "metadata": {
    "slideshow": {
     "slide_type": "subslide"
    }
   },
   "outputs": [],
   "source": [
    "from flask import Flask, url_for\n",
    "app = Flask(__name__)\n",
    "\n",
    "@app.route('/')\n",
    "def index():\n",
    "    return '<a href=\"{0}\">{0}</a>'.format(url_for('hello_soen287'))\n",
    "\n",
    "@app.route('/hello')\n",
    "def hello_soen287():\n",
    "    return '<h1>Hello SOEN287!</h1>'\n",
    "\n",
    "if __name__ == '__main__':\n",
    "    app.run()\n"
   ]
  },
  {
   "cell_type": "markdown",
   "metadata": {
    "slideshow": {
     "slide_type": "slide"
    }
   },
   "source": [
    "### First Template\n",
    "#### Files: `03_app.py` and `03_index.html`\n",
    "\n",
    "- Returning full HTML pages this way is a bad idea\n",
    "    - it would take too much space in the source code\n",
    "    - it's better to separate the logic code from the presentation code\n",
    "- Use the `render_template` function to return the HTML code stored in an external file\n",
    "- Usually, template files are stored in the `templates` folder\n",
    "- By default, Flask uses the *jinja2* package as the template rendering engine"
   ]
  },
  {
   "cell_type": "code",
   "execution_count": null,
   "metadata": {},
   "outputs": [],
   "source": [
    "@app.route('/') \n",
    "def index():\n",
    "    return render_template(\"03_index.html\")"
   ]
  },
  {
   "cell_type": "markdown",
   "metadata": {
    "slideshow": {
     "slide_type": "subslide"
    }
   },
   "source": [
    "~~~~html\n",
    "<!DOCTYPE html>\n",
    "<html lang=\"en\">\n",
    "<head>\n",
    "    <meta charset=\"UTF-8\">\n",
    "    <title>First Template</title>\n",
    "</head>\n",
    "<body>\n",
    "<h1>First Template</h1>\n",
    "<ul>\n",
    "    <li><a href=\"/hello\">/hello</a></li>\n",
    "    <li><a href=\"/goodbye\">/goodbye</a></li>\n",
    "</ul>\n",
    "</body>\n",
    "</html>\n",
    "~~~~"
   ]
  },
  {
   "cell_type": "markdown",
   "metadata": {
    "slideshow": {
     "slide_type": "subslide"
    }
   },
   "source": [
    "- This template is static, it will always be rendered the same way\n",
    "- In general, templates are dynamic\n",
    "    - variables can be passed to the template\n",
    "    - the template can include loops, conditionals, ... to make the contents more dynamic\n",
    "- Templates provide a skeleton for the page, the contents can change depending on the situation\n",
    "- You can pass variables to a template in this way (file `04_app.py`)"
   ]
  },
  {
   "cell_type": "code",
   "execution_count": null,
   "metadata": {},
   "outputs": [],
   "source": [
    "@app.route('/')\n",
    "def index():\n",
    "    return render_template('04_index.html',\n",
    "                           hello=url_for('hello_soen287'),\n",
    "                           goodbye=url_for('goodbye_soen287'))"
   ]
  },
  {
   "cell_type": "markdown",
   "metadata": {
    "slideshow": {
     "slide_type": "subslide"
    }
   },
   "source": [
    "- To get the value of a variable in a template, use the double curly brackets notation `{{ }}`\n",
    "- File: `04_index.html`"
   ]
  },
  {
   "cell_type": "markdown",
   "metadata": {
    "slideshow": {
     "slide_type": "-"
    }
   },
   "source": [
    "~~~~html\n",
    "<!DOCTYPE html>\n",
    "<html lang=\"en\">\n",
    "<head>\n",
    "    <meta charset=\"UTF-8\">\n",
    "    <title>Second Template</title>\n",
    "</head>\n",
    "<body>\n",
    "<h1>Second Template</h1>\n",
    "<ul>\n",
    "    <li><a href=\"{{ hello }}\">{{ hello }}</a></li>\n",
    "    <li><a href=\"{{ goodbye }}\">{{ goodbye}} </a></li>\n",
    "</ul>\n",
    "</body>\n",
    "</html>\n",
    "~~~~"
   ]
  },
  {
   "cell_type": "markdown",
   "metadata": {
    "slideshow": {
     "slide_type": "subslide"
    }
   },
   "source": [
    "- You can also pass a list to a template (file `05_app.py`)"
   ]
  },
  {
   "cell_type": "code",
   "execution_count": null,
   "metadata": {
    "slideshow": {
     "slide_type": "-"
    }
   },
   "outputs": [],
   "source": [
    "@app.route('/')\n",
    "def index():\n",
    "    links = [url_for('hello_soen287'), url_for('goodbye_soen287')]\n",
    "    return render_template('05_index.html', links=links)"
   ]
  },
  {
   "cell_type": "markdown",
   "metadata": {
    "slideshow": {
     "slide_type": "subslide"
    }
   },
   "source": [
    "- You will probably need to use a loop in the template to get all values in the list (file `05_index.html`)\n",
    "- The curly bracket percent notation is used for many template constructs, such as loops and conditionals and many others"
   ]
  },
  {
   "cell_type": "markdown",
   "metadata": {
    "slideshow": {
     "slide_type": "-"
    }
   },
   "source": [
    "~~~~html\n",
    "<!DOCTYPE html>\n",
    "<html lang=\"en\">\n",
    "<head>\n",
    "    <meta charset=\"UTF-8\">\n",
    "    <title>Second Template</title>\n",
    "</head>\n",
    "<body>\n",
    "<h1>Second Template</h1>\n",
    "<ul>\n",
    "    {% for link in links %}\n",
    "        <li><a href=\"{{ link }}\">{{ link }}</a></li>\n",
    "    {% endfor %}\n",
    "</ul>\n",
    "</body>\n",
    "</html>\n",
    "~~~~"
   ]
  },
  {
   "cell_type": "markdown",
   "metadata": {
    "slideshow": {
     "slide_type": "subslide"
    }
   },
   "source": [
    "### Dynamic Routes\n",
    "- Routes can also be dynamic\n",
    "- Routes can contain *variables*  (kind of)\n",
    "- There must be a corresponding parameter in the endpoint function (file `06_app.py`)"
   ]
  },
  {
   "cell_type": "code",
   "execution_count": 5,
   "metadata": {},
   "outputs": [],
   "source": [
    "@app.route('/hello/<name>')\n",
    "def hello_name(name):\n",
    "    return render_template('hello_name.html', name=name)"
   ]
  },
  {
   "cell_type": "markdown",
   "metadata": {},
   "source": [
    "- `<name>` denotes a variable part of the route\n",
    "- By default, it should be a string not containing any special URL characters (such as `/`)\n",
    "- The `name` parameter will be equal to the part of the route matching `<name>`\n",
    "- The template can use the name variable as shown earlier, with the `{{ }}` notation"
   ]
  },
  {
   "cell_type": "markdown",
   "metadata": {
    "slideshow": {
     "slide_type": "slide"
    }
   },
   "source": [
    "## Template Inheritance\n",
    "\n",
    "- Jinja2 supports *template inheritance*\n",
    "    - create a base template that contains the common blocks of your web site, such as\n",
    "        - the *HTML DOCTYPE* and the `<head>` element\n",
    "        - the web page banner\n",
    "        - the navigation bar\n",
    "        - the footer\n",
    "        - etc...\n",
    "    - create one template for each page that extends the base template\n",
    "    - add the page specific contents to the subtemplates\n",
    "- To facilitate adding page specific contents to each subtemplate, define *blocks* in the base template\n",
    "- Subtemplates can redefine these blocks\n",
    "    - use `{% block head %}` to define the start of a block named *head* (replace *head* by whatever is appropriate)\n",
    "    - use `{% endblock %}` to mark the end of a block"
   ]
  },
  {
   "cell_type": "markdown",
   "metadata": {
    "slideshow": {
     "slide_type": "subslide"
    }
   },
   "source": [
    "### Simple Template Inheritance Example\n",
    "- Parent template\n",
    "    - project `02_flask_templates`, file `simple.html`"
   ]
  },
  {
   "cell_type": "markdown",
   "metadata": {},
   "source": [
    "~~~~html\n",
    "<!DOCTYPE html>\n",
    "<html lang=\"en\">\n",
    "<head>{% block head %}\n",
    "    <meta charset=\"UTF-8\">\n",
    "    <title>{% block title %}Simple Template Inheritance Example{% endblock %}</title>\n",
    "{% endblock %}</head>\n",
    "<body>\n",
    "{% block contents %}\n",
    "    <h1>Simple h1</h1>\n",
    "{% endblock %}\n",
    "{% block foot %}\n",
    "    <a href=\"sub\">Subtemplate</a>\n",
    "{% endblock %}\n",
    "</body>\n",
    "</html>\n",
    "~~~~"
   ]
  },
  {
   "cell_type": "markdown",
   "metadata": {
    "slideshow": {
     "slide_type": "subslide"
    }
   },
   "source": [
    "![Simple](images/simple.png)"
   ]
  },
  {
   "cell_type": "markdown",
   "metadata": {
    "slideshow": {
     "slide_type": "subslide"
    }
   },
   "source": [
    "- Child template\n",
    "    - file `sub.html`"
   ]
  },
  {
   "cell_type": "markdown",
   "metadata": {},
   "source": [
    "~~~~html\n",
    "{% extends \"simple.html\" %}\n",
    "\n",
    "{% block title %}Subtemplate{% endblock %}\n",
    "\n",
    "{% block contents %}\n",
    "{{ super() }}\n",
    "<h3>Subtemplate h3</h3>\n",
    "{% endblock %}\n",
    "\n",
    "{% block foot %}\n",
    "<a href=\"simple\">Simple</a>\n",
    "{% endblock %}\n",
    "~~~~"
   ]
  },
  {
   "cell_type": "markdown",
   "metadata": {
    "slideshow": {
     "slide_type": "subslide"
    }
   },
   "source": [
    "- A new title is defined in the `title` block\n",
    "- An `h3` is added to the `contents` block \n",
    "    - `super()` is called to keep the parent template's contents\n",
    "- The `foot` block is replaced by a new link\n",
    "- The `head` block is not modified directly (only the `title` sub-block is modified)"
   ]
  },
  {
   "cell_type": "markdown",
   "metadata": {
    "slideshow": {
     "slide_type": "-"
    }
   },
   "source": [
    "![Subtemplate](images/sub.png)"
   ]
  },
  {
   "cell_type": "markdown",
   "metadata": {
    "slideshow": {
     "slide_type": "subslide"
    }
   },
   "source": [
    "### Bootstrap Template Example\n",
    "#### File `base.html`\n",
    "- This template uses Bootstrap 4\n",
    "- Almost the same as aprevious example (`bs4_base.html`), but with Jinja2 blocks added"
   ]
  },
  {
   "cell_type": "markdown",
   "metadata": {},
   "source": [
    "![Base](images/base.png)"
   ]
  },
  {
   "cell_type": "markdown",
   "metadata": {
    "slideshow": {
     "slide_type": "subslide"
    }
   },
   "source": [
    "~~~~html\n",
    "<!DOCTYPE html>\n",
    "<html lang=\"en\">\n",
    "<head>\n",
    "    {% block head %}\n",
    "        <title>{% block title %}SOEN287 Web Programming{% endblock %}</title>\n",
    "        <meta charset=\"utf-8\">\n",
    "        <meta name=\"viewport\" content=\"width=device-width, initial-scale=1\">\n",
    "        <link rel=\"stylesheet\" href=\"https://maxcdn.bootstrapcdn.com/bootstrap/4.3.1/css/bootstrap.min.css\">\n",
    "        <script src=\"https://ajax.googleapis.com/ajax/libs/jquery/3.4.1/jquery.min.js\"></script>\n",
    "        <script src=\"https://cdnjs.cloudflare.com/ajax/libs/popper.js/1.14.7/umd/popper.min.js\"></script>\n",
    "        <script src=\"https://maxcdn.bootstrapcdn.com/bootstrap/4.3.1/js/bootstrap.min.js\"></script>\n",
    "        <style>body {\n",
    "            padding-top: 50px\n",
    "        }</style>\n",
    "    {% endblock %}\n",
    "</head>\n",
    "<body>\n",
    "\n",
    "{% block navbar %}\n",
    "    <nav class=\"navbar navbar-expand-md bg-dark navbar-dark fixed-top\">\n",
    "        <a class=\"navbar-brand\" href=\"/\">SOEN287</a>\n",
    "        <button class=\"navbar-toggler\" type=\"button\" data-toggle=\"collapse\" data-target=\"#collapsibleNavbar\">\n",
    "            <span class=\"navbar-toggler-icon\"></span>\n",
    "        </button>\n",
    "        <div class=\"collapse navbar-collapse\" id=\"collapsibleNavbar\">\n",
    "            <ul class=\"navbar-nav\">\n",
    "                <li class=\"nav-item\">\n",
    "                    <a class=\"nav-link\" href=\"/slides\">Slides</a>\n",
    "                </li>\n",
    "                <li class=\"nav-item\">\n",
    "                    <a class=\"nav-link\" href=\"/documents\">Course Documents</a>\n",
    "                </li>\n",
    "                <li class=\"nav-item\">\n",
    "                    <a class=\"nav-link\" href=\"/assignments\">Assignments</a>\n",
    "                </li>\n",
    "                <li class=\"nav-item\">\n",
    "                    <a class=\"nav-link\" href=\"/contact\">Contact</a>\n",
    "                </li>\n",
    "            </ul>\n",
    "        </div>\n",
    "    </nav>\n",
    "{% endblock %}\n",
    "<br>\n",
    "\n",
    "{% block content %}\n",
    "    <div class=\"container\">\n",
    "        <h1>Welcome to the <em>SOEN287 Web Programming</em> course web site!</h1>\n",
    "        <p>This is a course taught at <a href=\"https://concordia.ca\">Concordia University</a> in Montreal, Canada.</p>\n",
    "        <p>Follow the links in the navigation bar for more details.</p>\n",
    "        <p>Please note that the source code for this web site, written in Python using the Flask framework, is used\n",
    "            as examples in the course. That's why some pages are not really necessary or contain multiple formats for\n",
    "            the same data, such as the <a href=\"/slides\">Slides</a> page.</p>\n",
    "    </div>\n",
    "{% endblock %}\n",
    "\n",
    "</body>\n",
    "</html>\n",
    "\n",
    "\n",
    "\n",
    "~~~~"
   ]
  },
  {
   "cell_type": "markdown",
   "metadata": {
    "slideshow": {
     "slide_type": "subslide"
    }
   },
   "source": [
    "#### File `assignments.html`\n",
    "- Template rendered by the `/assignments` endpoint\n",
    "    - extends the base template\n",
    "    - calls `super()` in the `title` block and adds a string to it\n",
    "    - the content block is completely redefined here\n",
    "    - the other blocks are left as-is\n"
   ]
  },
  {
   "cell_type": "markdown",
   "metadata": {
    "slideshow": {
     "slide_type": "fragment"
    }
   },
   "source": [
    "![assignments](images/assignments.png)"
   ]
  },
  {
   "cell_type": "markdown",
   "metadata": {
    "slideshow": {
     "slide_type": "subslide"
    }
   },
   "source": [
    "~~~~html\n",
    "{% extends \"base.html\" %}\n",
    "\n",
    "{% block title %}{{ super() }} - Assignments{% endblock %}\n",
    "\n",
    "{% block content %}\n",
    "    <div class=\"container\">\n",
    "        <h1>Assignments</h1>\n",
    "        <p>Assignments will be posted on the <a href=\"https://moodle.concordia.ca\">Moodle course page</a>.</p>\n",
    "    </div>\n",
    "{% endblock %} <!-- content -->\n",
    "~~~~"
   ]
  },
  {
   "cell_type": "markdown",
   "metadata": {
    "slideshow": {
     "slide_type": "subslide"
    }
   },
   "source": [
    "#### File `contact.html`\n",
    "- Template rendered by the `/contact` endpoint\n",
    "    - extends the base template\n",
    "    - it simply lists contact information in a `<dl>`\n"
   ]
  },
  {
   "cell_type": "markdown",
   "metadata": {
    "slideshow": {
     "slide_type": "fragment"
    }
   },
   "source": [
    "![Contact](images/contact.png)"
   ]
  },
  {
   "cell_type": "markdown",
   "metadata": {
    "slideshow": {
     "slide_type": "subslide"
    }
   },
   "source": [
    "~~~~html\n",
    "{% extends \"base.html\" %}\n",
    "\n",
    "{% block title %}{{ super() }} - Contact{% endblock %}\n",
    "\n",
    "{% block content %}\n",
    "    <div class=\"container\">\n",
    "        <h1>Contact</h1>\n",
    "        <dl class=\"row\">\n",
    "            <dt class=\"col-sm-3\">Professor</dt>\n",
    "            <dd class=\"col-sm-9\">Denis Rinfret</dd>\n",
    "\n",
    "            <dt class=\"col-sm-3\">Email</dt>\n",
    "            <dd class=\"col-sm-9\"><a href=\"mailto:denis.rinfret@concordia.ca\">mailto:denis.rinfret@concordia.ca</a> </dd>\n",
    "\n",
    "            <dt class=\"col-sm-3\">Office</dt>\n",
    "            <dd class=\"col-sm-9\">EV3.217</dd>\n",
    "\n",
    "            <dt class=\"col-sm-3\">Office Hours</dt>\n",
    "            <dd class=\"col-sm-9\">To be announced (probably Wednesday and/or Friday morning)</dd>\n",
    "        </dl>\n",
    "    </div>\n",
    "{% endblock %} <!-- content -->\n",
    "~~~~"
   ]
  },
  {
   "cell_type": "markdown",
   "metadata": {
    "slideshow": {
     "slide_type": "subslide"
    }
   },
   "source": [
    "#### File `slides.html`\n",
    "- Template rendered by the `/slides` endpoint\n",
    "    - extends the base template\n",
    "    - this example shows 2 ways to list a number of files using a `for` loop\n",
    "    - normally, only 1 of the 2 would be used in a page"
   ]
  },
  {
   "cell_type": "markdown",
   "metadata": {
    "slideshow": {
     "slide_type": "fragment"
    }
   },
   "source": [
    "![Slides](images/slides.png)"
   ]
  },
  {
   "cell_type": "markdown",
   "metadata": {
    "slideshow": {
     "slide_type": "subslide"
    }
   },
   "source": [
    "~~~~html\n",
    "{% extends \"base.html\" %}\n",
    "\n",
    "{% block title %}{{ super() }} - Slides{% endblock %}\n",
    "\n",
    "{% block content %}\n",
    "    <div class=\"container\">\n",
    "        <h1>Slides</h1>\n",
    "        <h3>Plain HTML list</h3>\n",
    "        <ol>\n",
    "            {% for slide in slide_list %}\n",
    "                <li><a href=\"{{ slide[1] }}\">{{ slide[0] }}</a></li>\n",
    "            {% endfor %}\n",
    "\n",
    "        </ol>\n",
    "        <h3>Bootstrap List Group</h3>\n",
    "        <div class=\"list-group\">\n",
    "            {% for slide in slide_list %}\n",
    "                <a href=\"{{ slide[1] }}\" class=\"list-group-item list-group-item-action\">{{ slide[0] }}</a>\n",
    "            {% endfor %}\n",
    "        </div>\n",
    "    </div>\n",
    "{% endblock %} <!-- content -->\n",
    "~~~~"
   ]
  },
  {
   "cell_type": "markdown",
   "metadata": {
    "slideshow": {
     "slide_type": "subslide"
    }
   },
   "source": [
    "#### Generating a Plain HTML List\n",
    "- `slide_list` is a Python list containing tuples of the form *(text, href)*, where \n",
    "    - *text* is the link text to be displayed, and\n",
    "    - *href* is the URL\n",
    "- So we loop over all the tuples in the list with a `for` loop\n",
    "- And we build an `<a>` element using \n",
    "    - `{{ slide[1] }}` to get the value of `href`, and \n",
    "    - `{{ slide[0] }}` to get the text"
   ]
  },
  {
   "cell_type": "markdown",
   "metadata": {
    "slideshow": {
     "slide_type": "subslide"
    }
   },
   "source": [
    "#### Generating a Bootstrap List Group\n",
    "- We use the same `for` loop as before, except that the loop is located inside a `<div class=\"list-group\">`\n",
    "- The `<a>` element is generated in the same way, except that we need to add a couple Bootstrap classes to display each link correctly\n",
    "    - `class=\"list-group-item list-group-item-action\">`"
   ]
  },
  {
   "cell_type": "markdown",
   "metadata": {
    "slideshow": {
     "slide_type": "subslide"
    }
   },
   "source": [
    "#### The `/slides` Endpoint\n",
    "- For now, we build a list of tuples for each slides manually in the endpoint\n",
    "- In the documents endpoint, the list will be built with data read from a CSV file\n",
    "- How to read data from a database will be covered later on"
   ]
  },
  {
   "cell_type": "code",
   "execution_count": null,
   "metadata": {},
   "outputs": [],
   "source": [
    "@app.route('/slides')\n",
    "def slides():\n",
    "    prefix = '/static/'\n",
    "    slide_list = [('Course Outline', prefix+'00_outline.slides.html'), \n",
    "                  ('HTML', prefix+'01_html.slides.html')]\n",
    "    return render_template('slides.html', slide_list=slide_list)\n"
   ]
  },
  {
   "cell_type": "markdown",
   "metadata": {
    "slideshow": {
     "slide_type": "subslide"
    }
   },
   "source": [
    "##### Notes\n",
    "- The `.slides.html` files are not templates, they are HTML versions of the slides used in class\n",
    "- These files are *static* files, not executed or processed by Flask in anyway\n",
    "- Static files are usually put inside the `static/` folder\n",
    "- Flask has a special `/static/<file_to_be_returned_as_is>` endpoint to handle these\n",
    "- In a live deployment, the web server (not Flask) will serve the static files to get better performance"
   ]
  },
  {
   "cell_type": "markdown",
   "metadata": {
    "slideshow": {
     "slide_type": "subslide"
    }
   },
   "source": [
    "#### File `documents.html`\n",
    "- Template rendered by the `/documents` endpoint\n",
    "    - extends the base template\n",
    "    - it builds a table from a Python list passed to the template\n",
    "    - data read from a CSV file is used to build the list\n",
    "    - the contents of this CSV file is given next\n",
    "    - the first column is the *id*, the second is the *topic*, followed by 3 file names, one for each format:\n",
    "        - HTML slides (`.slides.html`)\n",
    "        - HTML (1 page, `.html`)\n",
    "        - Jupyter Notebook (`.ipynb`)\n",
    "- the endpoint code and CSV files are shown after the screenshot but before the template"
   ]
  },
  {
   "cell_type": "markdown",
   "metadata": {
    "slideshow": {
     "slide_type": "subslide"
    }
   },
   "source": [
    "![Documents](images/documents.png)"
   ]
  },
  {
   "cell_type": "markdown",
   "metadata": {
    "slideshow": {
     "slide_type": "subslide"
    }
   },
   "source": [
    "#### File: `slides.csv`"
   ]
  },
  {
   "cell_type": "markdown",
   "metadata": {},
   "source": [
    "`id,title,slides,html,notebook\n",
    "0,Course Outline,00_outline.slides.html,00_outline.html,00_outline.ipynb\n",
    "1,HTML,01_html.slides.html,01_html.html,01_html.ipynb\n",
    "2,CSS,02_css.slides.html,02_css.html,02_css.ipynb\n",
    "3,Python,03_python.slides.html,03_python.html,03_python.ipynb\n",
    "4,Flask,04_flask.slides.html,04_flask.html,04_flask.ipynb\n",
    "5,JavaScript,05_js.slides.html,05_js.html,05_js.ipynb`"
   ]
  },
  {
   "cell_type": "markdown",
   "metadata": {
    "slideshow": {
     "slide_type": "subslide"
    }
   },
   "source": [
    "#### The `/documents` Endpoint"
   ]
  },
  {
   "cell_type": "code",
   "execution_count": null,
   "metadata": {},
   "outputs": [],
   "source": [
    "@app.route('/documents')\n",
    "def documents():\n",
    "    # TODO: put the prefix in the app config dictionary\n",
    "    prefix = '/static/'\n",
    "    with open('data/slides.csv') as f:\n",
    "        doc_list = list(csv.reader(f))[1:]\n",
    "    return render_template('documents.html', \n",
    "                           doc_list=doc_list, \n",
    "                           prefix=prefix)"
   ]
  },
  {
   "cell_type": "markdown",
   "metadata": {
    "slideshow": {
     "slide_type": "subslide"
    }
   },
   "source": [
    "#### File `documents.html`"
   ]
  },
  {
   "cell_type": "markdown",
   "metadata": {
    "slideshow": {
     "slide_type": "-"
    }
   },
   "source": [
    "~~~~html\n",
    "{% extends \"base.html\" %}\n",
    "\n",
    "{% block title %}{{ super() }} - Course Documents{% endblock %}\n",
    "\n",
    "{% block content %}\n",
    "    <div class=\"container\">\n",
    "        <h1>Course Documents</h1>\n",
    "        <table class=\"table table-dark table-striped table-hover table-responsive-md\">\n",
    "            <thead>\n",
    "                <tr>\n",
    "                    <th></th>\n",
    "                    <th>Topic</th>\n",
    "                    <th>Slides</th>\n",
    "                    <th>HTML (1 page)</th>\n",
    "                    <th>Jupyter Notebook</th>\n",
    "                </tr>\n",
    "            </thead>\n",
    "            <tbody>\n",
    "                {% for doc in doc_list %}\n",
    "                    <tr>\n",
    "                        {% for col in doc[:2] %}\n",
    "                            <td>{{ col }}</td>\n",
    "                        {%  endfor %}\n",
    "                        {% for col in doc[2:] %}\n",
    "                            <td><a href=\"{{ prefix }}{{ col }}\">{{ col }}</a></td>\n",
    "                        {%  endfor %}\n",
    "                    </tr>\n",
    "                {%  endfor %}\n",
    "            </tbody>\n",
    "        </table>\n",
    "    </div>\n",
    "{% endblock %} <!-- content -->\n",
    "~~~~"
   ]
  },
  {
   "cell_type": "markdown",
   "metadata": {
    "slideshow": {
     "slide_type": "slide"
    }
   },
   "source": [
    "## Sending Data to the Web Server Using HTML Forms\n",
    "### Example: Contact Form\n",
    "- Project: `03_flask_forms`, file `01_contact_form.html`"
   ]
  },
  {
   "cell_type": "markdown",
   "metadata": {
    "slideshow": {
     "slide_type": "-"
    }
   },
   "source": [
    "<!DOCTYPE html>\n",
    "<html lang=\"en\">\n",
    "<head>\n",
    "    <meta charset=\"UTF-8\">\n",
    "    <title>Contact Form</title>\n",
    "</head>\n",
    "<body>\n",
    "    <h1>Contact Form</h1>\n",
    "    <!-- The action is usually an endpoint on the server to handle the submitted data -->\n",
    "    <form action=\"/contact_form\" method=\"post\">\n",
    "        <label>Your name <input type=\"text\" name=\"name\"/></label><br/>\n",
    "        <label>Your email address <input type=\"email\" name=\"email\"/></label><br/>\n",
    "        <label>Your message <textarea name=\"message\"></textarea></label><br/>\n",
    "        <button type=\"submit\">Send</button>\n",
    "        <button type=\"reset\">Clear</button>\n",
    "    </form>\n",
    "</body>\n",
    "</html>"
   ]
  },
  {
   "cell_type": "markdown",
   "metadata": {
    "slideshow": {
     "slide_type": "subslide"
    }
   },
   "source": [
    "~~~~html\n",
    "<!DOCTYPE html>\n",
    "<html lang=\"en\">\n",
    "<head>\n",
    "    <meta charset=\"UTF-8\">\n",
    "    <title>Contact Form</title>\n",
    "</head>\n",
    "<body>\n",
    "    <h1>Contact Form</h1>\n",
    "    <!-- The action is usually an endpoint on the server to handle the submitted data -->\n",
    "    <form action=\"/contact_form\" method=\"post\">\n",
    "        <label>Your name <input type=\"text\" name=\"name\"/></label><br/>\n",
    "        <label>Your email address <input type=\"email\" name=\"email\"/></label><br/>\n",
    "        <label>Your message <textarea name=\"message\"></textarea></label><br/>\n",
    "        <button type=\"submit\">Send</button>\n",
    "        <button type=\"reset\">Clear</button>\n",
    "    </form>\n",
    "</body>\n",
    "</html>\n",
    "~~~~"
   ]
  },
  {
   "cell_type": "markdown",
   "metadata": {
    "slideshow": {
     "slide_type": "subslide"
    }
   },
   "source": [
    "#### The `form` element\n",
    "- The 2 most important attributes to the `form` element are the `action` and `method` attributes\n",
    "- The `action` specifies where the form data will be sent\n",
    "    - in this case, it will send the data to the `/contact_form` endpoint\n",
    "- The `method` specifies how to send the data\n",
    "    - in this case, it will send the data using the *POST* method\n",
    "    - the default method is *GET*, which should **not** normally be used by forms in most cases\n",
    "    - the `/contact_form` endpoint should be configured to handle POST requests\n",
    "    - by default, endpoints will only accept GET requests"
   ]
  },
  {
   "cell_type": "markdown",
   "metadata": {
    "slideshow": {
     "slide_type": "subslide"
    }
   },
   "source": [
    "#### Labels and Inputs\n",
    "- It is common to label the input elements with a `label` element containing the input element\n",
    "- An `input` of type `text` is a simple text box, containing only 1 line of input text\n",
    "- An `input` of type `email` is a specialised version of the simple text box: it differs only in the way the data will be validated\n",
    "- A `textarea` is a generalisation of the simple text box: it supports multiple rows of input text\n",
    "- In order for the data input to be sent to the server, the `name` attributes have to be set to names unique within the form (some exceptions to this rule will be covered later on)\n",
    "    - without a `name` attribute, the input data will not be sent\n",
    "- The last 2 form elements are buttons\n",
    "    - the first button will `submit` the form data to the `action` specified in the `form` element\n",
    "    - the second button will clear, or `reset` the form data\n",
    "    - the text shown on the buttons will be, respectively, *Send* and *Clear*"
   ]
  },
  {
   "cell_type": "markdown",
   "metadata": {
    "slideshow": {
     "slide_type": "subslide"
    }
   },
   "source": [
    "#### `/` and `/contact_form` endpoints"
   ]
  },
  {
   "cell_type": "code",
   "execution_count": null,
   "metadata": {},
   "outputs": [],
   "source": [
    "@app.route('/')\n",
    "def contact_form():\n",
    "    return render_template('01_contact_form.html')\n",
    "\n",
    "\n",
    "@app.route('/contact_form', methods=['POST'])\n",
    "def handle_contact_form():\n",
    "    # we should normally validate the submitted form data before \n",
    "    # using it\n",
    "    # by default, the template rendering will be considered unsafe,\n",
    "    # so the data will be escaped\n",
    "    return render_template('03_contact_response.html', \n",
    "                           data=request.form)"
   ]
  },
  {
   "cell_type": "markdown",
   "metadata": {
    "slideshow": {
     "slide_type": "subslide"
    }
   },
   "source": [
    "- The `/` endpoint simply renders the template containing the form, which is just the HTML file shown above\n",
    "- The `/contact_form` endpoint will handle the POST request coming from the form submission\n",
    "- The `methods=['POST']` argument to the `route` function specifies that this endpoint will only handle POST requests\n",
    "    - GET requests will not be accepted\n",
    "- The only thing we do, for now, is to render the `03_contact_response.html` template with the form data that was submitted\n",
    "    - to access the submitted form data, simply use `request.form`\n",
    "    - request must be imported from the `flask` package\n",
    "    - `request.form` is a special kind of object holding the form data, and its properties correspond to the `name` attributes specified in the form"
   ]
  },
  {
   "cell_type": "markdown",
   "metadata": {
    "slideshow": {
     "slide_type": "subslide"
    }
   },
   "source": [
    "#### File: `03_contact_response.html`"
   ]
  },
  {
   "cell_type": "markdown",
   "metadata": {},
   "source": [
    "~~~~html\n",
    "<!DOCTYPE html>\n",
    "<html lang=\"en\">\n",
    "<head>\n",
    "    <meta charset=\"UTF-8\">\n",
    "    <title>Message Received</title>\n",
    "</head>\n",
    "<body>\n",
    "    <h1>Thank you <em>{{ data.name }}</em> for your message!</h1>\n",
    "    <p>We will contact you shortly.</p>\n",
    "    <p>Email: {{ data.email }}</p>\n",
    "    <p>Message: {{ data.message }}</p>\n",
    "</body>\n",
    "</html>\n",
    "~~~~"
   ]
  },
  {
   "cell_type": "markdown",
   "metadata": {
    "slideshow": {
     "slide_type": "subslide"
    }
   },
   "source": [
    "![Contact Form](images/contact_form1.png)\n",
    "![Contact Response](images/contact_response1.png)"
   ]
  },
  {
   "cell_type": "markdown",
   "metadata": {
    "slideshow": {
     "slide_type": "subslide"
    }
   },
   "source": [
    "![Contact Form](images/contact_form2.png)\n",
    "![Contact Response](images/contact_response2.png)"
   ]
  },
  {
   "cell_type": "markdown",
   "metadata": {
    "slideshow": {
     "slide_type": "subslide"
    }
   },
   "source": [
    "#### Do Not Trust the Data Sent to the Server!\n",
    "- By default, Flask and Jinja2 do not trust the data sent to the server\n",
    "- This is the safe and smart way to deal with form data\n",
    "- Before inserting the form data in the template, it will *escape* the data\n",
    "    - the message `Hello <h1>SOEN</h1>287!` is not safe, it can mess up the template if not escaped properly\n",
    "![Contact Response](images/contact_response3.png)"
   ]
  },
  {
   "cell_type": "markdown",
   "metadata": {
    "slideshow": {
     "slide_type": "subslide"
    }
   },
   "source": [
    "- Escaping the string `Hello <h1>SOEN</h1>287!` will give the string `Hello &lt;h1&gt;SOEN&lt;/h1&gt;287!`\n",
    "- In this way, the form data will not mess up the HTML in the template\n",
    "- Instead of a simple `h1` element, someone could try to inject some JavaScript code and try to take advantage of the client and/or server\n",
    "- If the data to be inserted in the template can be trusted, then we can use the `safe` template decorator in this way:\n",
    "    - `<p>Message: {{ data.message|safe }}</p>`\n",
    "    - in this case, `data.message` will not be escaped, and we will get the result shown in the previous screenshot"
   ]
  },
  {
   "cell_type": "markdown",
   "metadata": {
    "slideshow": {
     "slide_type": "subslide"
    }
   },
   "source": [
    "#### `/contact_form2` endpoint\n",
    "- Usually, we should not only echo the form data back to the client, we should process the data in some way\n",
    "- For our example, we could save the form data in a file or in a database, and/or send some email to the web site owner\n",
    "- Since interacting with a database and sending emails have not been covered yet, we will, for now, save the form data in a CSV file\n",
    "- Modify the `/` endpoint to render the `02_contact_form.html` template\n",
    "    - it contains a slightly different version of the contact form\n",
    "    - the form data will be sent to the `/contact_form2` endpoint"
   ]
  },
  {
   "cell_type": "markdown",
   "metadata": {
    "slideshow": {
     "slide_type": "subslide"
    }
   },
   "source": [
    "#### `/contact_form2` Endpoint"
   ]
  },
  {
   "cell_type": "code",
   "execution_count": null,
   "metadata": {},
   "outputs": [],
   "source": [
    "@app.route('/contact_form2', methods=['POST'])\n",
    "def handle_contact_form2():\n",
    "    with open('data/messages.csv', 'a') as f:\n",
    "        writer = csv.writer(f)\n",
    "        writer.writerow([request.form['name'], \n",
    "                         request.form['email'], \n",
    "                         request.form['message']])\n",
    "    return render_template('03_contact_response.html', \n",
    "                           data=request.form)"
   ]
  },
  {
   "cell_type": "markdown",
   "metadata": {},
   "source": [
    "#### File `messages.csv`\n",
    "```Denis,Denis@example.com,Hello SOEN287!\n",
    "Alice,Alice@example.com,Alice and Bob\n",
    "Alice,Alice@example.com,\"Alice and Bob\n",
    "Bob and Alice\"```"
   ]
  },
  {
   "cell_type": "markdown",
   "metadata": {
    "slideshow": {
     "slide_type": "subslide"
    }
   },
   "source": [
    "![Contact Form](images/contact_form4.png)\n",
    "![Contact Response](images/contact_response4.png)"
   ]
  },
  {
   "cell_type": "markdown",
   "metadata": {
    "slideshow": {
     "slide_type": "subslide"
    }
   },
   "source": [
    "#### Contact Form, File `02_contact_form`"
   ]
  },
  {
   "cell_type": "markdown",
   "metadata": {},
   "source": [
    "~~~~html\n",
    "<!DOCTYPE html>\n",
    "<html lang=\"en\">\n",
    "<head>\n",
    "    <meta charset=\"UTF-8\">\n",
    "    <title>Contact Form</title>\n",
    "</head>\n",
    "<body>\n",
    "<h1>Contact Form</h1>\n",
    "<!-- The action is usually an endpoint on the server to handle the submitted data -->\n",
    "<form action=\"/contact_form2\" method=\"post\">\n",
    "    <table>\n",
    "        <tr>\n",
    "            <td><label>Your name</label></td>\n",
    "            <td><input type=\"text\" name=\"name\"/></td>\n",
    "        </tr>\n",
    "        <tr>\n",
    "            <td><label>Your email address </label></td>\n",
    "            <td><input type=\"email\" name=\"email\"/></td>\n",
    "        </tr>\n",
    "        <tr>\n",
    "            <td><label>Your message </label></td>\n",
    "            <td><textarea name=\"message\" rows=\"10\" cols=\"40\"></textarea></td>\n",
    "        </tr>\n",
    "        <tr>\n",
    "            <td></td>\n",
    "            <td>\n",
    "                <button type=\"submit\">Send</button>\n",
    "                <button type=\"reset\">Clear</button>\n",
    "            </td>\n",
    "        </tr>\n",
    "    </table>\n",
    "\n",
    "\n",
    "</form>\n",
    "</body>\n",
    "</html>\n",
    "~~~~"
   ]
  },
  {
   "cell_type": "markdown",
   "metadata": {
    "slideshow": {
     "slide_type": "subslide"
    }
   },
   "source": [
    "### GET vs. POST Requests\n",
    "- W3Schools *HTTP Methods* https://www.w3schools.com/tags/ref_httpmethods.asp\n",
    "- The two most common HTTP methods are: GET and POST.\n",
    "#### What is HTTP?\n",
    "- The Hypertext Transfer Protocol (HTTP) is designed to enable communications between clients and servers.\n",
    "- HTTP works as a request-response protocol between a client and server.\n",
    "- A web browser may be the client, and an application on a computer that hosts a web site may be the server.\n",
    "- Example: \n",
    "    - A client (browser) submits an HTTP request to the server\n",
    "    - then the server returns a response to the client\n",
    "    - the response contains status information about the request and may also contain the requested content.\n",
    "    \n",
    "![W3Schools](https://www.w3schools.com/images/w3schools80x15.gif)"
   ]
  },
  {
   "cell_type": "markdown",
   "metadata": {
    "slideshow": {
     "slide_type": "subslide"
    }
   },
   "source": [
    "#### HTTP Methods\n",
    "- GET\n",
    "- POST\n",
    "- PUT\n",
    "- HEAD\n",
    "- DELETE\n",
    "- PATCH\n",
    "- OPTIONS\n",
    "\n",
    "![W3Schools](https://www.w3schools.com/images/w3schools80x15.gif)"
   ]
  },
  {
   "cell_type": "markdown",
   "metadata": {
    "slideshow": {
     "slide_type": "subslide"
    }
   },
   "source": [
    "#### The GET Method\n",
    "- GET is used to request data from a specified resource.\n",
    "- GET is one of the most common HTTP methods.\n",
    "- Note that the query string (name/value pairs) is sent in the URL of a GET request:\n",
    "    - `test/demo_form.php?name1=value1&name2=value2`\n",
    "- Some other notes on GET requests:\n",
    "    - GET requests can be cached\n",
    "    - GET requests remain in the browser history\n",
    "    - GET requests can be bookmarked\n",
    "    - GET requests should never be used when dealing with sensitive data\n",
    "    - GET requests have length restrictions\n",
    "    - GET requests is only used to request data (not modify)\n",
    "    \n",
    "![W3Schools](https://www.w3schools.com/images/w3schools80x15.gif)"
   ]
  },
  {
   "cell_type": "markdown",
   "metadata": {
    "slideshow": {
     "slide_type": "subslide"
    }
   },
   "source": [
    "#### The POST Method\n",
    "- POST is used to send data to a server to create/update a resource.\n",
    "- The data sent to the server with POST is stored in the request body of the HTTP request:\n",
    "\n",
    "`POST /test/demo_form.php HTTP/1.1\n",
    "Host: w3schools.com\n",
    "name1=value1&name2=value2`\n",
    "- POST is one of the most common HTTP methods.\n",
    "- Some other notes on POST requests:\n",
    "    - POST requests are never cached\n",
    "    - POST requests do not remain in the browser history\n",
    "    - POST requests cannot be bookmarked\n",
    "    - POST requests have no restrictions on data length\n",
    "    \n",
    "![W3Schools](https://www.w3schools.com/images/w3schools80x15.gif)"
   ]
  },
  {
   "cell_type": "markdown",
   "metadata": {
    "slideshow": {
     "slide_type": "subslide"
    }
   },
   "source": [
    "#### GET vs. POST\n",
    "<table class=\"w3-table-all notranslate\">\n",
    "  <tbody><tr>\n",
    "    <th style=\"width:30%\">&nbsp;</th>\n",
    "    <th style=\"width:35%\">GET</th>\n",
    "    <th>POST</th>\n",
    "  </tr>\n",
    "  <tr>\n",
    "    <td>BACK button/Reload</td>\n",
    "    <td>Harmless</td>\n",
    "    <td>Data will be re-submitted (the browser should alert the user that the data are about to be re-submitted)</td>\n",
    "  </tr>\n",
    "  <tr>\n",
    "    <td>Bookmarked</td>\n",
    "    <td>Can be bookmarked</td>\n",
    "    <td>Cannot be bookmarked</td>\n",
    "  </tr>\n",
    "  <tr>\n",
    "    <td>Cached</td>\n",
    "    <td>Can be cached</td>\n",
    "    <td>Not cached</td>\n",
    "  </tr>\n",
    "  <tr>\n",
    "    <td>Encoding type</td>\n",
    "    <td>application/x-www-form-urlencoded</td>\n",
    "    <td>application/x-www-form-urlencoded or multipart/form-data. Use multipart encoding for binary data</td>\n",
    "  </tr>\n",
    "  <tr>\n",
    "    <td>History</td>\n",
    "    <td>Parameters remain in browser history</td>\n",
    "    <td>Parameters are not saved in browser history</td>\n",
    "  </tr>\n",
    "  </tbody></table>\n",
    "  \n",
    "  ![W3Schools](https://www.w3schools.com/images/w3schools80x15.gif)"
   ]
  },
  {
   "cell_type": "markdown",
   "metadata": {
    "slideshow": {
     "slide_type": "subslide"
    }
   },
   "source": [
    "#### GET vs. POST\n",
    "<table class=\"w3-table-all notranslate\">\n",
    "  <tbody><tr>\n",
    "    <th style=\"width:30%\">&nbsp;</th>\n",
    "    <th style=\"width:35%\">GET</th>\n",
    "    <th>POST</th>\n",
    "  </tr>\n",
    "  <tr>\n",
    "    <td>Restrictions on data length</td>\n",
    "    <td>Yes, when sending data, the GET method adds the data to the URL; and the length of a URL is limited (maximum URL length is 2048 characters)</td>\n",
    "    <td>No restrictions</td>\n",
    "  </tr>\n",
    "  <tr>\n",
    "    <td>Restrictions on data type</td>\n",
    "    <td>Only ASCII characters allowed</td>\n",
    "    <td>No restrictions. Binary data is also allowed</td>\n",
    "  </tr>\n",
    "  <tr>\n",
    "    <td>Security</td>\n",
    "    <td>GET is less secure compared to POST because data sent is part of the URL<br>\n",
    " <br>\n",
    " Never use GET when sending passwords or other sensitive information!</td>\n",
    "    <td>POST is a little safer than GET because the parameters are not stored in browser history or in web server logs</td>\n",
    "  </tr>\n",
    "  <tr>\n",
    "    <td>Visibility</td>\n",
    "    <td>Data is visible to everyone in the URL</td>\n",
    "    <td>Data is not displayed in the URL</td>\n",
    "  </tr>\n",
    "  </tbody></table>\n",
    "  \n",
    "![W3Schools](https://www.w3schools.com/images/w3schools80x15.gif)"
   ]
  },
  {
   "cell_type": "markdown",
   "metadata": {
    "slideshow": {
     "slide_type": "subslide"
    }
   },
   "source": [
    "#### Reloading a Page With POSTed Data\n",
    "- When reloading a page having POSTed data associated to it, depending on which browser you use,\n",
    "    - it will ask you to confirm if you want to resubmit the data to the server\n",
    "        - if yes, it will resubmit the data\n",
    "    - or it will resubmit the data without asking for your confirmation\n",
    "- In both cases, you may end up with duplicated data on the server, depending on how the form submission is handled\n",
    "- When no precautions are implemented (like in the previous examples), you will end up with duplicated data\n",
    "- When forms are handled correctly (like in the following examples), no duplicated data will end up on the server (at least not because of form resubmission through a reload)"
   ]
  },
  {
   "cell_type": "markdown",
   "metadata": {
    "slideshow": {
     "slide_type": "slide"
    }
   },
   "source": [
    "### Proper Form Submission and Handling \n",
    "#### With `wtforms` and `flask_wtf`\n",
    "- *WTForms* are used to simplify and standardize HTML forms creation and handling\n",
    "- `flask_wtf` is a Flask wrapper around `wtforms`\n",
    "- The first step is to define a subclass of `FlaskForm`\n",
    "    - in our example we define a `ContactForm` class\n",
    "- We need to import these classes in order to be able to define our contact form"
   ]
  },
  {
   "cell_type": "code",
   "execution_count": null,
   "metadata": {},
   "outputs": [],
   "source": [
    "from flask_wtf import FlaskForm\n",
    "from wtforms import StringField, TextAreaField\n",
    "from wtforms.fields.html5 import EmailField\n",
    "from wtforms.validators import InputRequired, Email"
   ]
  },
  {
   "cell_type": "markdown",
   "metadata": {
    "slideshow": {
     "slide_type": "subslide"
    }
   },
   "source": [
    "#### `ContactForm` Class, File `02_app.py`"
   ]
  },
  {
   "cell_type": "code",
   "execution_count": null,
   "metadata": {},
   "outputs": [],
   "source": [
    "class ContactForm(FlaskForm):\n",
    "    name = StringField('Name', validators=[InputRequired()])\n",
    "    email = EmailField('Email', validators=[InputRequired(), Email()])\n",
    "    message = TextAreaField('Message', validators=[InputRequired()])"
   ]
  },
  {
   "cell_type": "markdown",
   "metadata": {},
   "source": [
    "- `name`, `email` and `message` are *class variables* (similar to *static fields* in Java)\n",
    "- They are initialized to `Field` objects of the correct types\n",
    "    - the first argument to each field constructor is the field name\n",
    "    - the second is a list of *validators*\n",
    "        - in our form, all the fields are *required*, meaning they cannot be empty (`InputRequired` validator)\n",
    "        - additionally, our email field must be a valid email address (`Email` validator)\n",
    "        - note the use of parentheses `()` after the validators"
   ]
  },
  {
   "cell_type": "markdown",
   "metadata": {
    "slideshow": {
     "slide_type": "subslide"
    }
   },
   "source": [
    "#### Some Other Available Fields\n",
    "https://wtforms.readthedocs.io/en/stable/fields.html\n",
    "- `BooleanField`\n",
    "- `DateField`\n",
    "- `DecimalField`\n",
    "- `IntegerField`\n",
    "- `RadioField`\n",
    "- `SelectField`\n",
    "- `EmailField`"
   ]
  },
  {
   "cell_type": "markdown",
   "metadata": {
    "slideshow": {
     "slide_type": "subslide"
    }
   },
   "source": [
    "#### Some Other Built-In Validators\n",
    "https://wtforms.readthedocs.io/en/stable/validators.html\n",
    "- `EqualTo`: useful to compare 2 form fields for equality\n",
    "- `Length`: validate a string's length\n",
    "- `NumberRange`: check if a number is within a given range\n",
    "- `RegExp`: check if the field matches a given regular expression\n",
    "- `AnyOf`: check if the field value is in a list of values (*white-listing*)\n",
    "- `NoneOf`: check if the field value is *not* in a list of values (*black-listing*)\n"
   ]
  },
  {
   "cell_type": "markdown",
   "metadata": {
    "slideshow": {
     "slide_type": "subslide"
    }
   },
   "source": [
    "#### Rendering the Form and Handling the Form Data\n",
    "- The best solution is to have a single endpoint for both\n",
    "    - if the request method was GET, or if the submitted data doesn't validate, then render the form\n",
    "    - if the request method was POST, and the submitted data validates, then process the form data"
   ]
  },
  {
   "cell_type": "code",
   "execution_count": null,
   "metadata": {},
   "outputs": [],
   "source": [
    "@app.route('/contact_form4', methods=['GET', 'POST'])\n",
    "def handle_contact_form4():\n",
    "    form = ContactForm()\n",
    "    if form.validate_on_submit():\n",
    "        with open('data/messages.csv', 'a') as f:\n",
    "            writer = csv.writer(f)\n",
    "            writer.writerow([form.name.data, form.email.data, \n",
    "                             form.message.data])\n",
    "        return redirect(url_for('contact_response', \n",
    "                                name=form.name.data))\n",
    "    return render_template('04_contact_form.html', form=form)"
   ]
  },
  {
   "cell_type": "markdown",
   "metadata": {
    "slideshow": {
     "slide_type": "subslide"
    }
   },
   "source": [
    "1. create a form by instantiating the `ContactForm` class\n",
    "    - this will automatically use the form data available in `request.form`\n",
    "2. `form.validate_on_submit()` will first check if there was data submitted, and if the submitted data is valid\n",
    "3. if it is valid, then process the form data as before, \n",
    "    - except that the data is taken from `form`, not `request.form`\n",
    "    - and that on success, we redirect to a response page\n",
    "        - this way, reloading the response page will not resubmit the data since it will not have any form data associated to it\n",
    "4. if we don't have valid submitted data, then render the form template"
   ]
  },
  {
   "cell_type": "markdown",
   "metadata": {
    "slideshow": {
     "slide_type": "subslide"
    }
   },
   "source": [
    "- The first time a user gets to this endpoint should be through a GET request\n",
    "    - no data was submitted (the submit method is always POST), so the contact form in variable `form` will have empty data\n",
    "    - `form.validate_on_submit()` will be false, so the form template will be rendered with empty form data\n",
    "- If there was data submitted (through the POST method)\n",
    "    - the `form` object will contain that data\n",
    "    - if the data doesn't validate, then the form template will be rendered with the submitted form data, to avoid requiring the user to fill the form again\n",
    "    - if the form data validates, then it will be processed as described earlier"
   ]
  },
  {
   "cell_type": "markdown",
   "metadata": {
    "slideshow": {
     "slide_type": "subslide"
    }
   },
   "source": [
    "#### File `04_contact_form.html`\n",
    "##### `<form>` element"
   ]
  },
  {
   "cell_type": "markdown",
   "metadata": {},
   "source": [
    "~~~~html\n",
    "<!DOCTYPE html>\n",
    "<html lang=\"en\">\n",
    "<head>\n",
    "    <meta charset=\"UTF-8\">\n",
    "    <title>Contact Form</title>\n",
    "</head>\n",
    "<body>\n",
    "<h1>Contact Form</h1>\n",
    "{% if form.errors %}\n",
    "    <ul class=\"errors\">\n",
    "        {% for field_name, field_errors in form.errors|dictsort if field_errors %}\n",
    "            {% for error in field_errors %}\n",
    "                <li>{{ form[field_name].label }}: {{ error }}</li>\n",
    "            {% endfor %}\n",
    "        {% endfor %}\n",
    "    </ul>\n",
    "{% endif %}\n",
    "<!-- The action is usually an endpoint on the server to handle the submitted data -->\n",
    "<form action=\"/contact_form4\" method=\"post\">\n",
    "    {{ form.csrf_token }}\n",
    "    <table>\n",
    "        <tr>\n",
    "            <td>{{ form.name.label }}</td>\n",
    "            <td>{{ form.name }}</td>\n",
    "        </tr>\n",
    "        <tr>\n",
    "            <td>{{ form.email.label }}</td>\n",
    "            <td>{{ form.email }}</td>\n",
    "        </tr>\n",
    "        <tr>\n",
    "            <td>{{ form.message.label }}</td>\n",
    "            <td>{{ form.message }}</td>\n",
    "        </tr>\n",
    "        <tr>\n",
    "            <td></td>\n",
    "            <td>\n",
    "                <button type=\"submit\">Send</button>\n",
    "                <button type=\"reset\">Clear</button>\n",
    "            </td>\n",
    "        </tr>\n",
    "    </table>\n",
    "\n",
    "\n",
    "</form>\n",
    "</body>\n",
    "</html>\n",
    "~~~~"
   ]
  },
  {
   "cell_type": "markdown",
   "metadata": {
    "slideshow": {
     "slide_type": "subslide"
    }
   },
   "source": [
    "- The layout of this form is similar to the previous example, it is using a `table` to align the fields.\n",
    "- To get a field's label, we need to use, for example for the email field, `form.email.label`\n",
    "- For the field itself, we need to use `form.email`\n",
    "    - this will be translated to `<input id=\"email\" name=\"email\" required=\"\" type=\"email\" value=\"\">`\n",
    "    - in this example, we created the email field with \n",
    "    `email = EmailField('Email', validators=[InputRequired(), Email()])`\n",
    "    - `'Email'` is actually the label for this field, and the `id` and the `name` attributes will be equal to the class variable name used when defining the `ContactForm` (in this case, the class variable name is `email`)\n",
    "    - if we want a different id, we could create the field in this way \n",
    "    `email = EmailField('Your email address', id='someotherid', validators=[InputRequired(), Email()])`\n",
    "- the `form.csrf_token` is for security purpose, to help prevent *Cross-Site Request Forgery* attacks\n",
    "    - in the Python file, we also need to set the `app.secret_key`\n",
    "        - to make more secure, we should something better than `'allo'`\n",
    "    - more on this later on"
   ]
  },
  {
   "cell_type": "markdown",
   "metadata": {
    "slideshow": {
     "slide_type": "subslide"
    }
   },
   "source": [
    "#### Error Reporting\n",
    "- Some error reporting is done automatically through some kind of tooltips or pop-ups\n",
    "    - this type of error reporting is handled by the browser, so the way it's done may vary\n",
    "- The browsers don't catch everything, they only catch the validation rules that can be specified in HTML\n",
    "- The other validation errors are caught when we create the `ContactForm` object and call `form.validate_on_submit()`\n",
    "    - the errors are associated with the fields inside the form object\n",
    "    - the contact form template needs to check if there are any errors and include them in the HTML if necessary\n",
    "    - the easiest way to do it is with an if statement and 2 for loops before the form element\n",
    "    - another way to do it will be shown later on"
   ]
  },
  {
   "cell_type": "markdown",
   "metadata": {
    "slideshow": {
     "slide_type": "subslide"
    }
   },
   "source": [
    "~~~~html\n",
    "{% if form.errors %}\n",
    "    <ul class=\"errors\">\n",
    "        {% for field_name, field_errors in \n",
    "                         form.errors|dictsort if field_errors %}\n",
    "            {% for error in field_errors %}\n",
    "                <li>{{ form[field_name].label }}: {{ error }}</li>\n",
    "            {% endfor %}\n",
    "        {% endfor %}\n",
    "    </ul>\n",
    "{% endif %}\n",
    "~~~~"
   ]
  },
  {
   "cell_type": "markdown",
   "metadata": {
    "slideshow": {
     "slide_type": "subslide"
    }
   },
   "source": [
    "### Post/Redirect/Get Pattern\n",
    "#### From Book: Flask Web Development 2e, Miguel Grinberg\n",
    "- When the last request sent is a POST request with form data, a refresh would cause a duplicate form submission, which in almost all cases is not the desired action. \n",
    "- For that reason, the browser asks for confirmation from the user.\n",
    "- Many users do not understand this warning from the browser. \n",
    "- *Consequently, it is considered good practice for web applications to never leave a POST request as the last request sent by the browser.*\n",
    "- This is achieved by responding to POST requests with a redirect instead of a normal response. \n",
    "- A redirect is a special type of response that contains a URL instead of a string with HTML code. \n",
    "- When the browser receives a redirect response, it issues a GET request for the redirect URL, and that is the page that it displays. \n",
    "- Now the last request is a GET, so the refresh command works as expected. \n",
    "- **This trick is known as the Post/Redirect/Get pattern.**"
   ]
  },
  {
   "cell_type": "markdown",
   "metadata": {
    "slideshow": {
     "slide_type": "subslide"
    }
   },
   "source": [
    "- In our example, the line\n",
    "\n",
    "    `return redirect(url_for('contact_response', name=form.name.data))`\n",
    "\n",
    "    will redirect to the contact response using the GET method\n",
    "- That endpoint doesn't have access to the form data, so we pass the name to it to have a personalized message\n",
    "- Don't pass `form.name` to the redirect because it will pass the whole input field to the redirect\n",
    "- `form.name.data` will pass only the value of that field\n",
    "- The contact response endpoint simply takes the name given as argument and renders a template"
   ]
  },
  {
   "cell_type": "code",
   "execution_count": null,
   "metadata": {},
   "outputs": [],
   "source": [
    "@app.route('/contact_response/<name>')\n",
    "def contact_response(name):\n",
    "    return render_template('05_contact_response.html', name=name)"
   ]
  },
  {
   "cell_type": "markdown",
   "metadata": {
    "slideshow": {
     "slide_type": "subslide"
    }
   },
   "source": [
    "- The template is also quite simple"
   ]
  },
  {
   "cell_type": "markdown",
   "metadata": {},
   "source": [
    "~~~~html\n",
    "<!DOCTYPE html>\n",
    "<html lang=\"en\">\n",
    "<head>\n",
    "    <meta charset=\"UTF-8\">\n",
    "    <title>Message Received</title>\n",
    "</head>\n",
    "<body>\n",
    "    <h1>Thank you <em>{{ name }}</em> for your message!</h1>\n",
    "    <p>We will contact you shortly.</p>\n",
    "</body>\n",
    "</html>\n",
    "~~~~"
   ]
  },
  {
   "cell_type": "markdown",
   "metadata": {
    "slideshow": {
     "slide_type": "subslide"
    }
   },
   "source": [
    "### Bootstrap Forms\n",
    "#### Files `03_app.py` and `forms.py`\n",
    "- Since in this section we will have more forms and longer forms, it is more appropriate to create a separate file, `forms.py`, and put all the form definitions there\n",
    "- In `03_app.py`, we need to import these forms with \n",
    "\n",
    "    `from forms import ContactForm, ExamplesForm`\n",
    "- Starting from the Bootstrap templates created earlier, we will start by adding the contact form to the contact page\n",
    "- Then more form fields will be introduced in 2 different formats:\n",
    "    - plain HTML\n",
    "    - wtforms + Bootstrap"
   ]
  },
  {
   "cell_type": "markdown",
   "metadata": {
    "slideshow": {
     "slide_type": "subslide"
    }
   },
   "source": [
    "#### ContactForm\n",
    "- The Python code for the contact form is almost identical compared to the previous section\n",
    "    - the endpoints code has been slightly modified to change the routes and the template files names to render\n",
    "    - The `ContactForm` class has been moved to `forms.py` with 2 small changes\n",
    "        - to change the number of rows in the message text area, an extra argument as been given to the field: `render_kw={'rows': 10}`\n",
    "        - a submit field has been added directly in the form"
   ]
  },
  {
   "cell_type": "code",
   "execution_count": null,
   "metadata": {},
   "outputs": [],
   "source": [
    "class ContactForm(FlaskForm):\n",
    "    name = StringField('Name', validators=[InputRequired()])\n",
    "    email = EmailField('Email', validators=[InputRequired(), Email()])\n",
    "    message = TextAreaField('Message', validators=[InputRequired()], \n",
    "                            render_kw={'rows': 10})\n",
    "    submit = SubmitField('Send')"
   ]
  },
  {
   "cell_type": "markdown",
   "metadata": {
    "slideshow": {
     "slide_type": "subslide"
    }
   },
   "source": [
    "![Contact Form](images/contact_boot.png)"
   ]
  },
  {
   "cell_type": "markdown",
   "metadata": {
    "slideshow": {
     "slide_type": "subslide"
    }
   },
   "source": [
    "#### `/contact` and `/contact_response` endpoints "
   ]
  },
  {
   "cell_type": "code",
   "execution_count": null,
   "metadata": {},
   "outputs": [],
   "source": [
    "@app.route('/contact', methods=['GET', 'POST'])\n",
    "def contact():\n",
    "    form = ContactForm()\n",
    "    if form.validate_on_submit():\n",
    "        with open('data/messages.csv', 'a') as f:\n",
    "            writer = csv.writer(f)\n",
    "            writer.writerow([form.name.data, form.email.data, \n",
    "                             form.message.data])\n",
    "        return redirect(url_for('contact_response', \n",
    "                                name=form.name.data))\n",
    "    return render_template('contact.html', form=form)\n",
    "\n",
    "@app.route('/contact_response/<name>')\n",
    "def contact_response(name):\n",
    "    return render_template('contact_response.html', name=name)"
   ]
  },
  {
   "cell_type": "markdown",
   "metadata": {
    "slideshow": {
     "slide_type": "subslide"
    }
   },
   "source": [
    "#### `contact.html`\n",
    "- The contact template is quite simple because it is calling a *macro* (similar to a function) defined in the base template\n",
    "- It is calling the `quick_form` macro taking the form object as an argument along with the action attribute for the form"
   ]
  },
  {
   "cell_type": "markdown",
   "metadata": {},
   "source": [
    "~~~~html\n",
    "{% extends \"base.html\" %}\n",
    "\n",
    "{% block title %}{{ super() }} - Contact{% endblock %}\n",
    "\n",
    "{% block content %}\n",
    "    <div class=\"container\">\n",
    "        {# This div container is the same as before #}\n",
    "        <h1>Contact</h1>\n",
    "        <dl class=\"row\">\n",
    "            <dt class=\"col-sm-3\">Professor</dt>\n",
    "            <dd class=\"col-sm-9\">Denis Rinfret</dd>\n",
    "\n",
    "            <dt class=\"col-sm-3\">Email</dt>\n",
    "            <dd class=\"col-sm-9\"><a href=\"mailto:denis.rinfret@concordia.ca\">mailto:denis.rinfret@concordia.ca</a></dd>\n",
    "\n",
    "            <dt class=\"col-sm-3\">Office</dt>\n",
    "            <dd class=\"col-sm-9\">EV3.217</dd>\n",
    "\n",
    "            <dt class=\"col-sm-3\">Office Hours</dt>\n",
    "            <dd class=\"col-sm-9\">To be announced (probably Wednesday and/or Friday morning)</dd>\n",
    "        </dl>\n",
    "    </div>\n",
    "\n",
    "    <div class=\"container\">\n",
    "        <h1>Contact Form</h1>\n",
    "        {{ quick_form(form, '/contact') }}\n",
    "    </div>\n",
    "{% endblock %} <!-- content -->\n",
    "~~~~"
   ]
  },
  {
   "cell_type": "markdown",
   "metadata": {
    "slideshow": {
     "slide_type": "subslide"
    }
   },
   "source": [
    "#### `base.html` macros\n",
    "- There are actually 2 macros in the base template\n",
    "    - `quick_form`, called by the contact template to quickly render a form\n",
    "    - `form_group`, called by the other macro, to render 1 form field\n",
    "- `quick_form` basically loops on all the form fields, and calls `form_group` on each field (with some exceptions)"
   ]
  },
  {
   "cell_type": "markdown",
   "metadata": {
    "slideshow": {
     "slide_type": "subslide"
    }
   },
   "source": [
    "~~~~html\n",
    "{% macro quick_form(form, action) -%}\n",
    "    <form action=\"{{ action }}\" class=\"form\" method=\"POST\">\n",
    "        {% for field in form %}\n",
    "            {% if field.type in ('HiddenField', 'CSRFTokenField') %}\n",
    "                {{ field() }}\n",
    "            {% elif field.type == 'SubmitField' %}\n",
    "                {{ field(class_=\"btn btn-primary\") }}\n",
    "            {% else %}\n",
    "                {{ form_group(field) }}\n",
    "            {% endif %}\n",
    "        {% endfor %}\n",
    "    </form>\n",
    "{% endmacro %}\n",
    "~~~~"
   ]
  },
  {
   "cell_type": "markdown",
   "metadata": {},
   "source": [
    "- `HiddenField`, `CSRFTokenField` and `SubmitField` are special fields\n",
    "    - they don't need any label\n",
    "    - they won't have any error messages associated to them\n",
    "    - so render them directly"
   ]
  },
  {
   "cell_type": "markdown",
   "metadata": {
    "slideshow": {
     "slide_type": "subslide"
    }
   },
   "source": [
    "#### `form_group` macro\n",
    "- This macro renders a form field\n",
    "- Depending on the field type, it will be rendered differently\n",
    "- It starts by putting the field in a *form-group row*\n",
    "- And then renders the field label with the proper Bootstrap classes\n",
    "- The following step depends on the field type:\n",
    "    - if it's a checkbox group (`MultiCheckboxField`) or a radio button group (`RadioField`), it will loop over all the choices to include them in proper `div` elements with proper Bootstrap classes\n",
    "        - if there are errors, it will use the `is-invalid` class\n",
    "        - if not, it will use the `col-sm-6` class\n",
    "        - it will render all the choices in a single row (class `form-check-inline`)"
   ]
  },
  {
   "cell_type": "markdown",
   "metadata": {
    "slideshow": {
     "slide_type": "subslide"
    }
   },
   "source": [
    "~~~~html\n",
    "{% macro form_group(field) -%}\n",
    "    <div class=\"form-group row required\">\n",
    "        {{ field.label(class_=\"col-sm-2 col-form-label\") }}\n",
    "        {% if field.type in ['MultiCheckboxField', 'RadioField'] %}\n",
    "            {% if field.errors %}\n",
    "                <div class=\"form-control is-invalid\">\n",
    "            {% else %}\n",
    "                <div class=\"form-control col-sm-6\">\n",
    "            {% endif %}\n",
    "            {% for choice in field %}\n",
    "                <div class=\"form-check form-check-inline\">\n",
    "                    {{ choice(class_=\"form-check-input\") }}\n",
    "                    {{ choice.label(class_=\"form-check-label\") }}\n",
    "                </div>\n",
    "            {% endfor %}\n",
    "            </div>\n",
    "                    ~~~~"
   ]
  },
  {
   "cell_type": "markdown",
   "metadata": {
    "slideshow": {
     "slide_type": "subslide"
    }
   },
   "source": [
    "- if the field is not a group, it will also check if there are errors or not, and use either the `is-invalid` or the `col-sm-6` classes\n",
    "- if there are errors, if will render what the errors are (and not just change the style to invalid)"
   ]
  },
  {
   "cell_type": "markdown",
   "metadata": {
    "slideshow": {
     "slide_type": "subslide"
    }
   },
   "source": [
    "~~~~html\n",
    "        {% else %}\n",
    "            {% if field.errors %}\n",
    "                {{ field(class_=\"form-control is-invalid\") }}\n",
    "            {% else %}\n",
    "                {{ field(class_=\"form-control col-sm-6\") }}\n",
    "            {% endif %}\n",
    "        {% endif %}\n",
    "        {% if field.errors %}\n",
    "            {%  for error in field.errors %}\n",
    "                <div class=\"invalid-feedback\">\n",
    "                    {{ error }}\n",
    "                </div>\n",
    "            {% endfor %}\n",
    "        {% endif %}\n",
    "    </div>\n",
    "{% endmacro %}\n",
    "~~~~"
   ]
  },
  {
   "cell_type": "markdown",
   "metadata": {
    "slideshow": {
     "slide_type": "subslide"
    }
   },
   "source": [
    "### More Form Field Examples\n",
    "- The `examples1` endpoint shows how to use a few more different kinds of form fields\n",
    "- It simply renders a template containing a form with many different field types\n",
    "- A more complete example with a `FlaskForm` will follow"
   ]
  },
  {
   "cell_type": "code",
   "execution_count": null,
   "metadata": {
    "slideshow": {
     "slide_type": "-"
    }
   },
   "outputs": [],
   "source": [
    "@app.route('/examples1')\n",
    "def examples():\n",
    "    return render_template('examples1.html')"
   ]
  },
  {
   "cell_type": "markdown",
   "metadata": {
    "slideshow": {
     "slide_type": "subslide"
    }
   },
   "source": [
    "![Contact Form](images/examples1.png)"
   ]
  },
  {
   "cell_type": "markdown",
   "metadata": {
    "slideshow": {
     "slide_type": "subslide"
    }
   },
   "source": [
    "![Contact Form](images/examples1_response.png)"
   ]
  },
  {
   "cell_type": "markdown",
   "metadata": {
    "slideshow": {
     "slide_type": "subslide"
    }
   },
   "source": [
    "#### File `example1.html`"
   ]
  },
  {
   "cell_type": "markdown",
   "metadata": {},
   "source": [
    "~~~~html\n",
    "{% extends \"base.html\" %}\n",
    "\n",
    "{% block title %}{{ super() }} - Examples 1{% endblock %}\n",
    "\n",
    "{% block content %}\n",
    "    <div class=\"container\">\n",
    "        <h1>Examples 1</h1>\n",
    "        <h3>Forms</h3>\n",
    "        <form id=\"form01\" action=\"/form_data1\" method=\"post\">\n",
    "            <label>Username <input type=\"text\" name=\"username\"/></label><br/>\n",
    "            <label>Password <input type=\"password\" name=\"pwd\"></label><br/>\n",
    "            <label>Age <input type=\"number\" name=\"age\" min=\"1\" max=\"125\"/></label><br/>\n",
    "            <label>Favorite color <input type=\"color\" name=\"fav_color\"/></label><br/>\n",
    "            <label>Date of birth <input type=\"date\" name=\"dob\"/></label><br/>\n",
    "            <label>Checkbox group\n",
    "                <label><input type=\"checkbox\" name=\"checkbox_group\" value=\"c1\"/>Checkbox 1</label>\n",
    "                <label><input type=\"checkbox\" name=\"checkbox_group\" value=\"c2\"/>Checkbox 2</label>\n",
    "                <label><input type=\"checkbox\" name=\"checkbox_group\" value=\"c3\"/>Checkbox 3</label>\n",
    "            </label><br/>\n",
    "            <label>Radio button group\n",
    "                <label><input type=\"radio\" name=\"radio_group\" value=\"r1\"/>Radio button 1</label>\n",
    "                <label><input type=\"radio\" name=\"radio_group\" value=\"r2\"/>Radio button 2</label>\n",
    "                <label><input type=\"radio\" name=\"radio_group\" value=\"r3\"/>Radio button 3</label>\n",
    "            </label><br/>\n",
    "            <label>Drop down select <select name=\"select1\">\n",
    "                <option value=\"o1\">Option 1</option>\n",
    "                <option value=\"o2\">Option 2</option>\n",
    "                <option value=\"o3\">Option 3</option>\n",
    "            </select></label><br/>\n",
    "            <input type=\"submit\" name=\"Input Submit\"/>\n",
    "            <button type=\"submit\">Button Submit</button>\n",
    "            <input type=\"reset\" name=\"Input Reset\"/>\n",
    "            <button type=\"reset\">Button Reset</button>\n",
    "        </form>\n",
    "    </div>\n",
    "{% endblock %} <!-- content -->\n",
    "~~~~"
   ]
  },
  {
   "cell_type": "markdown",
   "metadata": {
    "slideshow": {
     "slide_type": "subslide"
    }
   },
   "source": [
    "- The form's action is `/form_data1`, which renders a template that simply loops through all the form fields and displays them in a `dl` element"
   ]
  },
  {
   "cell_type": "code",
   "execution_count": null,
   "metadata": {},
   "outputs": [],
   "source": [
    "@app.route('/form_data1', methods=['POST'])\n",
    "def form_data1():\n",
    "    return render_template('form_data1.html', form=request.form,\n",
    "                checkboxes=request.form.getlist('checkbox_group'))"
   ]
  },
  {
   "cell_type": "markdown",
   "metadata": {
    "slideshow": {
     "slide_type": "subslide"
    }
   },
   "source": [
    "#### File `form_data1.html`"
   ]
  },
  {
   "cell_type": "markdown",
   "metadata": {},
   "source": [
    "~~~~html\n",
    "{% extends \"base.html\" %}\n",
    "\n",
    "{% block title %}{{ super() }} - Form Data{% endblock %}\n",
    "\n",
    "{% block content %}\n",
    "    <div class=\"container\">\n",
    "        <h1>Form Data</h1>\n",
    "        <dl>\n",
    "            {% for key in form %}\n",
    "                <dt>{{ key }}</dt><dd>{{ form[key] }}</dd>\n",
    "            {% endfor %}\n",
    "        </dl>\n",
    "    {{ checkboxes }}\n",
    "    </div>\n",
    "{% endblock %} <!-- content -->\n",
    "~~~~"
   ]
  },
  {
   "cell_type": "markdown",
   "metadata": {
    "slideshow": {
     "slide_type": "subslide"
    }
   },
   "source": [
    "#### Checkboxes\n",
    "- There only one tricky part in this example: handling checkboxes\n",
    "- Checkboxes are different from other fields since there might be many checkboxes checked at any given time\n",
    "- We need to get all the checked checkboxes from a checkbox group with `request.form.getlist('checkbox_group')`\n",
    "- In this example, this list of checked checkboxes is passed separately to the template, which inserts it directly in the page with `{{ checkboxes }}`\n",
    "- We could also loop on `checkboxes` to get a fancier output"
   ]
  },
  {
   "cell_type": "markdown",
   "metadata": {
    "slideshow": {
     "slide_type": "subslide"
    }
   },
   "source": [
    "#### `/examples2` endpoint\n",
    "- This example is similar to the previous one, except that\n",
    "    - it defines a subclass of `FlaskForm` to facilitate form validation and handling\n",
    "    - it uses Bootstrap classes for rendering\n",
    "- For simplicity, it is reusing the `form_data1.html` template from the previous example to display form data if the form is valid"
   ]
  },
  {
   "cell_type": "code",
   "execution_count": null,
   "metadata": {},
   "outputs": [],
   "source": [
    "@app.route('/examples2', methods=['GET', 'POST'])\n",
    "def examples2():\n",
    "    form = ExamplesForm()\n",
    "    if form.validate_on_submit():\n",
    "        return render_template('form_data1.html', form=request.form,\n",
    "                               checkboxes=request.form.getlist('checkbox_group'))\n",
    "    return render_template('examples2.html', form=form)"
   ]
  },
  {
   "cell_type": "markdown",
   "metadata": {
    "slideshow": {
     "slide_type": "subslide"
    }
   },
   "source": [
    "![Contact Form](images/examples2.png)"
   ]
  },
  {
   "cell_type": "markdown",
   "metadata": {
    "slideshow": {
     "slide_type": "subslide"
    }
   },
   "source": [
    "![Contact Form](images/examples2_response.png)"
   ]
  },
  {
   "cell_type": "markdown",
   "metadata": {
    "slideshow": {
     "slide_type": "subslide"
    }
   },
   "source": [
    "#### `ExamplesForm`"
   ]
  },
  {
   "cell_type": "code",
   "execution_count": null,
   "metadata": {},
   "outputs": [],
   "source": [
    "class ExamplesForm(FlaskForm):\n",
    "    username = StringField('Username',\n",
    "               validators=[InputRequired(), Length(4, 64),\n",
    "               Regexp('^[A-Za-z][A-Za-z0-9_.]*$', 0,\n",
    "                      'Usernames must start with a letter and must have only letters, numbers, dots or underscores')])\n",
    "    password = PasswordField('Password', \n",
    "               validators=[InputRequired(), Length(8)])\n",
    "    age = IntegerField('Age', \n",
    "               validators=[InputRequired(), NumberRange(1, 125)])\n",
    "    fav_color = ColorField('Favorite Color', \n",
    "                           validators=[InputRequired()])\n",
    "    dob = DateField('Date of birth', validators=[InputRequired()])"
   ]
  },
  {
   "cell_type": "markdown",
   "metadata": {
    "slideshow": {
     "slide_type": "subslide"
    }
   },
   "source": [
    "#### New validators\n",
    "- `Length(4, 64)` and `Length(8)`: the string length must be between 4 and 64 characters (inclusive), and the length must be at least 8 characters long\n",
    "- `NumberRange(1, 125)`: a number must be between 1 and 125 (inclusive)\n",
    "- `Regexp('^[A-Za-z][A-Za-z0-9_.]*$', 0, 'Error Message')`: the string must match the given regular expression to be valid (refer to the section on regular expressions)\n",
    "    - in this case, usernames must start with a letter and must have only letters, numbers, dots or underscores"
   ]
  },
  {
   "cell_type": "code",
   "execution_count": null,
   "metadata": {
    "slideshow": {
     "slide_type": "subslide"
    }
   },
   "outputs": [],
   "source": [
    "    checkbox_group = MultiCheckboxField('Checkbox group', \n",
    "                     validators=[InputRequired()],\n",
    "                     choices=[('c1', 'Checkbox 1'), ('c2', 'Checkbox 2'), \n",
    "                              ('c3', 'Checkbox 3')],\n",
    "                     render_kw={'required': True})\n",
    "    radio_group = RadioField('Radio button group', \n",
    "                  validators=[InputRequired()],\n",
    "                  choices=[('r1', 'Radio button 1'), \n",
    "                           ('r2', 'Radio button 2'), \n",
    "                           ('r3', 'Radio button 3')],\n",
    "                  render_kw={'required': True})\n",
    "    select = SelectField('Drop down select', \n",
    "             validators=[InputRequired()],\n",
    "             choices=[('o1', 'Option 1'), ('o2', 'Option 2'), \n",
    "                      ('o3', 'Option 3')])\n",
    "    submit = SubmitField('Submit')"
   ]
  },
  {
   "cell_type": "markdown",
   "metadata": {
    "slideshow": {
     "slide_type": "subslide"
    }
   },
   "source": [
    "- The field type `MultiCheckboxField` is actually not a standard field type\n",
    "    - it is defined as a subclass of `SelectMultipleField` to provide checkboxes as default widgets\n",
    "    - often, checkboxes are not used in a checkgroup, they are added in forms separately from other fields\n",
    "        - in this case use a `BooleanField`\n",
    "    - but if you need a checkbox group, you can do it this way\n",
    "- One problem with checkbox and radio button groups is that the `InputRequired` validator doesn't seem to have any effect in many Flask versions (probably a bug)\n",
    "    - this is why the parameter `render_kw={'required': True}` has been added to force it to be required\n",
    "- `choices` is a list of (obviously) choices\n",
    "    - each choice is a tuple with 2 strings: its value followed by its label"
   ]
  },
  {
   "cell_type": "code",
   "execution_count": null,
   "metadata": {},
   "outputs": [],
   "source": [
    "class MultiCheckboxField(SelectMultipleField):\n",
    "    widget = ListWidget(prefix_label=False)\n",
    "    option_widget = CheckboxInput()"
   ]
  },
  {
   "cell_type": "markdown",
   "metadata": {
    "slideshow": {
     "slide_type": "subslide"
    }
   },
   "source": [
    "- The last part of this `ExamplesForm` is a custom validator\n",
    "- Built-in validators cannot cover all possible cases\n",
    "- A custom validator is a function with a name starting with `validate_`\n",
    "- The remainder of the function name must correspond to a field name (in this case `password`)\n",
    "- It will automatically be called if the name is set correctly, no need to add it to `validators`"
   ]
  },
  {
   "cell_type": "code",
   "execution_count": null,
   "metadata": {
    "slideshow": {
     "slide_type": "-"
    }
   },
   "outputs": [],
   "source": [
    "    def validate_password(self, field):\n",
    "        with open('data/common_passwords.txt') as f:\n",
    "            for line in f.readlines():\n",
    "                if field.data == line.strip():\n",
    "                    raise ValidationError(\n",
    "                        'Your password is too common.')"
   ]
  },
  {
   "cell_type": "markdown",
   "metadata": {
    "slideshow": {
     "slide_type": "subslide"
    }
   },
   "source": [
    "- This custom validator checks if a password is too common\n",
    "- If yes, it will raise a `ValidationError` and the field will be marked as invalid\n",
    "- We assume here that the file `data/common_passwords.txt` contains 1 password per line, and that it contains the passwords we want to avoid\n",
    "- In our simplified example, the password file contains only 3 passwords"
   ]
  },
  {
   "cell_type": "code",
   "execution_count": null,
   "metadata": {},
   "outputs": [],
   "source": [
    "12345678\n",
    "11111111\n",
    "password"
   ]
  },
  {
   "cell_type": "markdown",
   "metadata": {
    "slideshow": {
     "slide_type": "subslide"
    }
   },
   "source": [
    "#### `examples2.html`\n",
    "- This template is quite simple since we are using the same `quick_form` macro to render the form\n",
    "- This is not perfect, the layout of some fields is not optimal, but that's why it's qualified as *quick*\n",
    "    - we could improve the macro to get a better layout\n",
    "    - or we could skip the macro and fine tune the layout directly in the `examples2.html` template"
   ]
  },
  {
   "cell_type": "markdown",
   "metadata": {},
   "source": [
    "~~~~html\n",
    "{% extends \"base.html\" %}\n",
    "\n",
    "{% block title %}{{ super() }} - Examples 1{% endblock %}\n",
    "\n",
    "{% block content %}\n",
    "    <div class=\"container\">\n",
    "        <h1>Examples</h1>\n",
    "        <h3>Forms</h3>\n",
    "        {{ quick_form(form, '/examples2') }}\n",
    "    </div>\n",
    "\n",
    "{% endblock %}\n",
    "~~~~"
   ]
  },
  {
   "cell_type": "markdown",
   "metadata": {
    "slideshow": {
     "slide_type": "slide"
    }
   },
   "source": [
    "## Flask Sessions\n",
    "- Sessions are used to remember some data between user requests\n",
    "- By design, the *Hypertext Transfer Protocol (HTTP)*, and the *Internet Protocol (IP)* on which HTTP is built are **stateless**\n",
    "    - the server doesn't normally retain data about the client\n",
    "- When a session is created, a special *token* will be saved as a *cookie* on the client side (normally in a web browser)\n",
    "- The server will associate data to this token and keep it in local storage (server-side)\n",
    "- When the client makes another request to the server, the session token will be checked by the server to match it with associated data\n",
    "- Without sessions, it would be harder to maintain secure sessions between the client and the server\n",
    "    - users surely don't want to re-enter their password on every request"
   ]
  },
  {
   "cell_type": "markdown",
   "metadata": {
    "slideshow": {
     "slide_type": "subslide"
    }
   },
   "source": [
    "### First Session Example\n",
    "- The first session example is quite simple\n",
    "    - it is a variation on the *Hello SOEN287!* example\n",
    "- The `/` endpoint is displaying, by default, the simple *Hello SOEN287!* page\n",
    "- But if there's a name saved in the session, say for example *Alice*, then it will display the page *Hello Alice!* instead\n",
    "- To be able to set the name inside the session, use the dynamic endpoint `/<name>`\n",
    "    - it will take the given name and save it in the session, then redirect to `/`"
   ]
  },
  {
   "cell_type": "code",
   "execution_count": null,
   "metadata": {
    "slideshow": {
     "slide_type": "subslide"
    }
   },
   "outputs": [],
   "source": [
    "from flask import Flask, session, redirect\n",
    "\n",
    "app = Flask(__name__)\n",
    "app.secret_key = 'allo'\n",
    "\n",
    "@app.route('/')\n",
    "def hello_world():\n",
    "    return 'Hello {}!'.format(session.get('name', 'SOEN287'))\n",
    "\n",
    "@app.route('/<name>')\n",
    "def set_name(name):\n",
    "    session['name'] = name\n",
    "    return redirect('/')\n",
    "\n",
    "if __name__ == '__main__':\n",
    "    app.run()"
   ]
  },
  {
   "cell_type": "markdown",
   "metadata": {
    "slideshow": {
     "slide_type": "subslide"
    }
   },
   "source": [
    "- The `session` object is like a dictionary\n",
    "    - we can use the square bracket notation `[]` to access or set values associated to some keys\n",
    "    - `session['name'] = name` sets the value associated to the `'name'` key\n",
    "    - we could simply use `session['name']` in the `/` endpoint to get the value associated to the name key\n",
    "        - but if the name key doesn't exists, it will throw a `KeyError`\n",
    "    - instead, we call the `get` function on the session, and provide a default value\n",
    "        - `session.get('name', 'SOEN287')` will get the value associated to the `name` key\n",
    "        - and if there's nothing associated to it, it will return the default value `'SOEN287'`"
   ]
  },
  {
   "cell_type": "markdown",
   "metadata": {
    "slideshow": {
     "slide_type": "subslide"
    }
   },
   "source": [
    "### Login Form V1\n",
    "#### File `02_app.py`\n",
    "- The first version of a login form to open an authenticated session has 3 endpoints:\n",
    "    - `/`: display a welcome message, with either a login or logout link\n",
    "    - `/login`: GET and POST methods accepted\n",
    "        - GET: display a login form\n",
    "        - POST: if the submitted form data validates, then start a session for the user and redirect to `/`\n",
    "    - `/logout`: clear the session data and redirect to `/`"
   ]
  },
  {
   "cell_type": "markdown",
   "metadata": {
    "slideshow": {
     "slide_type": "subslide"
    }
   },
   "source": [
    "#### `LoginForm`\n",
    "- *Note*: to keep the example simple, some validators have been omitted"
   ]
  },
  {
   "cell_type": "code",
   "execution_count": null,
   "metadata": {},
   "outputs": [],
   "source": [
    "class LoginForm(FlaskForm):\n",
    "    username = StringField('username', validators=[DataRequired()])\n",
    "    password = PasswordField('password', validators=[DataRequired()])\n",
    "    submit = SubmitField('login')"
   ]
  },
  {
   "cell_type": "markdown",
   "metadata": {
    "slideshow": {
     "slide_type": "subslide"
    }
   },
   "source": [
    "#### `/login` endpoint\n",
    "- If the submitted form data is valid, we simply, for now, set the `username` key in the `session` object\n",
    "- When the user is redirected to `/`, or when a subsequent request is made, it will be possible to get the `username` from the `session` object\n",
    "- If there is no username in the session, then we assume the user is not logged in\n",
    "    - this is not the best way to handle logins, it is only the first step to get to a better way"
   ]
  },
  {
   "cell_type": "code",
   "execution_count": null,
   "metadata": {
    "slideshow": {
     "slide_type": "subslide"
    }
   },
   "outputs": [],
   "source": [
    "@app.route('/login', methods=['GET', 'POST'])\n",
    "def login():\n",
    "    form = LoginForm()\n",
    "    if form.validate_on_submit():\n",
    "        # should check if username/password pair is valid\n",
    "        # for now, just accept everything\n",
    "        session['username'] = form.username.data\n",
    "        return redirect('/')\n",
    "    return render_template('login.html', form=form)"
   ]
  },
  {
   "cell_type": "markdown",
   "metadata": {
    "slideshow": {
     "slide_type": "subslide"
    }
   },
   "source": [
    "#### `/logout` Enpoint\n",
    "- The only thing we need to do here is to call the `clear` function on the `session` object to clear (remove) all key-value pairs in the session\n",
    "- Then we redirect to `/`"
   ]
  },
  {
   "cell_type": "code",
   "execution_count": null,
   "metadata": {},
   "outputs": [],
   "source": [
    "@app.route('/logout')\n",
    "def logout():\n",
    "    session.clear()\n",
    "    return redirect('/')"
   ]
  },
  {
   "cell_type": "markdown",
   "metadata": {
    "slideshow": {
     "slide_type": "subslide"
    }
   },
   "source": [
    "#### `/` Endpoint\n",
    "- This endpoint simply renders the `index1.html` template, with the `username` variable set to `session.get('username')`\n",
    "- In this case, we didn't provide a default value to `get`, so we will get `None` if the username is not set in the session\n",
    "    - this will, again, help us avoid a `KeyError` if the provided key is not in the session\n",
    "    - `None` will evaluate to `False` when it is used in an `if` statement, such as\n",
    "        - `if username` in a Python file\n",
    "        - `{% if username %}` in a template"
   ]
  },
  {
   "cell_type": "code",
   "execution_count": null,
   "metadata": {},
   "outputs": [],
   "source": [
    "@app.route('/')\n",
    "def index():\n",
    "    return render_template('index1.html', \n",
    "                           username=session.get('username'))"
   ]
  },
  {
   "cell_type": "markdown",
   "metadata": {
    "slideshow": {
     "slide_type": "subslide"
    }
   },
   "source": [
    "#### File `index1.html`\n",
    "- This template checks if there is a `username` or not\n",
    "    - if the `username` is `None`, then it will evaluate to `False`\n",
    "        - so we will jump to the `else` block\n",
    "        - and a default welcome message with a link to the *login* page will be displayed\n",
    "    - if the `username` is **not** `None`, then we have a username to work with \n",
    "        - so we welcome the user by a personalized welcome message\n",
    "        - then we provide a *logout* link"
   ]
  },
  {
   "cell_type": "markdown",
   "metadata": {
    "slideshow": {
     "slide_type": "subslide"
    }
   },
   "source": [
    "~~~~html\n",
    "<!DOCTYPE html>\n",
    "<html lang=\"en\">\n",
    "<head>\n",
    "    <meta charset=\"UTF-8\">\n",
    "    <title>Session Examples</title>\n",
    "</head>\n",
    "<body>\n",
    "{% if username %}\n",
    "    <h1>Welcome {{ username }}!</h1>\n",
    "    <a href=\"/logout\">Logout</a>\n",
    "{% else %}\n",
    "    <h1>Welcome Stranger!</h1>\n",
    "    <a href=\"/login\">Login</a>\n",
    "{% endif %}\n",
    "</body>\n",
    "</html>\n",
    "~~~~"
   ]
  },
  {
   "cell_type": "markdown",
   "metadata": {
    "slideshow": {
     "slide_type": "subslide"
    }
   },
   "source": [
    "### Login Form V2\n",
    "#### File `03_app.py`\n",
    "- The only change in this version compared to the previous one is how we handle the form data\n",
    "- Instead of accepting any username/password pair, we have a passwords file containing the registered users' password\n",
    "- In the `/login` endpoint, if the submitted form data validates, we call the `check_password` function with the provided username/password pair\n",
    "    - if we have a match, then we set the username in the session as before\n",
    "    - if not, we *flash* an error message\n",
    "        - *flash*ed messages will be automatically available in the templates (refer to the `login.html` template below)\n",
    "        - *flash*ed messages will be displayed just before the login form"
   ]
  },
  {
   "cell_type": "markdown",
   "metadata": {
    "slideshow": {
     "slide_type": "subslide"
    }
   },
   "source": [
    "#### `/login` Endpoint"
   ]
  },
  {
   "cell_type": "code",
   "execution_count": null,
   "metadata": {},
   "outputs": [],
   "source": [
    "@app.route('/login', methods=['GET', 'POST'])\n",
    "def login():\n",
    "    form = LoginForm()\n",
    "    if form.validate_on_submit():\n",
    "        if check_password(form.username.data, form.password.data):\n",
    "            session['username'] = form.username.data\n",
    "            return redirect('/')\n",
    "        else:\n",
    "            flash('Incorrect username/password!')\n",
    "    return render_template('login.html', form=form)"
   ]
  },
  {
   "cell_type": "markdown",
   "metadata": {
    "slideshow": {
     "slide_type": "subslide"
    }
   },
   "source": [
    "#### `check_password` Function"
   ]
  },
  {
   "cell_type": "code",
   "execution_count": null,
   "metadata": {},
   "outputs": [],
   "source": [
    "# not a safe way to store and verify passwords, but it will do for now  \n",
    "def check_password(username, password):\n",
    "    with open('data/passwords.csv') as f:\n",
    "        for user in csv.reader(f):\n",
    "            if username == user[0] and password == user[1]:\n",
    "                return True\n",
    "    return False"
   ]
  },
  {
   "cell_type": "markdown",
   "metadata": {
    "slideshow": {
     "slide_type": "subslide"
    }
   },
   "source": [
    "#### File `passwords.csv`"
   ]
  },
  {
   "cell_type": "code",
   "execution_count": null,
   "metadata": {},
   "outputs": [],
   "source": [
    "denis,1234\n",
    "rob,allo"
   ]
  },
  {
   "cell_type": "markdown",
   "metadata": {
    "slideshow": {
     "slide_type": "fragment"
    }
   },
   "source": [
    "- To verify passwords, we open a CSV file for reading\n",
    "- The first element of each row is a username\n",
    "- The second element is the corresponding password\n",
    "- If both the submitted username and password match the current record in the CSV file, then return `True`\n",
    "- If not, then keep searching\n",
    "- If we reach the end of the file without a match, then return `False`"
   ]
  },
  {
   "cell_type": "markdown",
   "metadata": {
    "slideshow": {
     "slide_type": "subslide"
    }
   },
   "source": [
    "#### File `login.html`\n",
    "- The only new thing in this template is the loop through flashed messages\n",
    "- We do a for loop on all the messages returned by the call to the built-in function `get_flashed_messages`\n",
    "- And we simply display all of them separated by a break `<br/>`"
   ]
  },
  {
   "cell_type": "markdown",
   "metadata": {
    "slideshow": {
     "slide_type": "subslide"
    }
   },
   "source": [
    "~~~~html\n",
    "<!DOCTYPE html>\n",
    "<html lang=\"en\">\n",
    "<head>\n",
    "    <meta charset=\"UTF-8\">\n",
    "    <title>Session Examples</title>\n",
    "</head>\n",
    "<body>\n",
    "{% for message in get_flashed_messages() %}\n",
    "    {{ message }}<br/>\n",
    "{% endfor %}\n",
    "<form action=\"/login\" method=\"post\">\n",
    "    {{ form.csrf_token }}\n",
    "    {{ form.username.label }} {{ form.username }}<br/>\n",
    "    {{ form.password.label }} {{ form.password }}<br/>\n",
    "    {{ form.submit }}\n",
    "</form>\n",
    "</body>\n",
    "</html>\n",
    "~~~~"
   ]
  },
  {
   "cell_type": "markdown",
   "metadata": {
    "slideshow": {
     "slide_type": "subslide"
    }
   },
   "source": [
    "### Better Login System: `flask_login` Package\n",
    "- File `04_app.py`\n",
    "- As it is the case for most common tasks required to run a web site, there exists a package to help out managing logins and sessions\n",
    "- `flask_login` helps managing logins, users and permissions, without being too restrictive\n",
    "\n",
    "#### Step 1: `LoginManager`\n",
    "- We need to start a `LoginManager`, which we import from `flask_login`, in this way:\n",
    "\n",
    "    `login_manager = LoginManager()`\n",
    "    \n",
    "    `login_manager.init_app(app)`"
   ]
  },
  {
   "cell_type": "markdown",
   "metadata": {
    "slideshow": {
     "slide_type": "subslide"
    }
   },
   "source": [
    "#### Step 2: `User` class\n",
    "- We also need to define a `User` class to represent our users\n",
    "    - the easiest way is to subclass `UserMixin` (imported from `flask_login`)\n",
    "    - for now, we only need a username, and since we must define an `id` for each user with this package, we set `self.id` to be the username in the constructor"
   ]
  },
  {
   "cell_type": "code",
   "execution_count": null,
   "metadata": {},
   "outputs": [],
   "source": [
    "class User(UserMixin):\n",
    "    def __init__(self, username):\n",
    "        self.id = username"
   ]
  },
  {
   "cell_type": "markdown",
   "metadata": {
    "slideshow": {
     "slide_type": "subslide"
    }
   },
   "source": [
    "#### Step 3: `load_user`\n",
    "- We need to define a `load_user` function to retrieve user details from a user id\n",
    "- For now, a user is defined only by its username, so we create a `User` object with the username provided\n",
    "    - in a more complete application, the user information will be more detailed (name, email address, profile photo, ...)\n",
    "    - this user information will normally be read from a file or from a database\n",
    "- The decorator `@login_manager.user_loader` is needed in order to let the login manager know which function to call to load a user"
   ]
  },
  {
   "cell_type": "code",
   "execution_count": null,
   "metadata": {},
   "outputs": [],
   "source": [
    "@login_manager.user_loader\n",
    "def load_user(user_id):\n",
    "    return User(user_id)"
   ]
  },
  {
   "cell_type": "markdown",
   "metadata": {
    "slideshow": {
     "slide_type": "subslide"
    }
   },
   "source": [
    "#### Step 4: `/login` endpoint\n",
    "- The `/login` endpoint is very similar to the previous example, except that we need to call the `login_user` function, imported from `flask_login`, to let the login manager know that the user has logged in successfully\n",
    "- The only other difference, besides the additional flashed message, is how the user is redirected to another page after a successful log in\n",
    "    - when a user tries to access a protected page without being logged in, the user will be redirected to the login page\n",
    "    - then after a successfull login, it is often more convenient to redirect the user to whatever page she was trying to access before being redirected\n",
    "    - the page to be redirected to will be stored in the session, with the key `next`\n",
    "    - so we get the `next` page from the session instead of always redirecting to `/`"
   ]
  },
  {
   "cell_type": "code",
   "execution_count": null,
   "metadata": {
    "slideshow": {
     "slide_type": "subslide"
    }
   },
   "outputs": [],
   "source": [
    "@app.route('/login', methods=['GET', 'POST'])\n",
    "def login():\n",
    "    form = LoginForm()\n",
    "    if form.validate_on_submit():\n",
    "        if check_password(form.username.data, form.password.data):\n",
    "            login_user(User(form.username.data))\n",
    "            flash('Logged in successfully.')\n",
    "            \n",
    "            # check if the next page is set in the session by the @login_required decorator\n",
    "            # if not set, it will default to '/'\n",
    "            next_page = session.get('next', '/')\n",
    "            # reset the next page to default '/'\n",
    "            session['next'] = '/'\n",
    "            return redirect(next_page)\n",
    "        else:\n",
    "            flash('Incorrect username/password!')\n",
    "    return render_template('login.html', form=form)"
   ]
  },
  {
   "cell_type": "markdown",
   "metadata": {
    "slideshow": {
     "slide_type": "subslide"
    }
   },
   "source": [
    "#### Step 5: protect endpoints with `@login_required`\n",
    "- `@login_required` is a decorator imported from `flask_login`\n",
    "- If we want an endpoint to be accessible only to logged in users, then we *decorate* the endpoint with `@login_required`"
   ]
  },
  {
   "cell_type": "code",
   "execution_count": null,
   "metadata": {},
   "outputs": [],
   "source": [
    "@app.route('/protected')\n",
    "@login_required\n",
    "def protected():\n",
    "    return render_template('protected.html')"
   ]
  },
  {
   "cell_type": "markdown",
   "metadata": {
    "slideshow": {
     "slide_type": "subslide"
    }
   },
   "source": [
    "- If the user requesting the protected endpoint is not logged in, he will be automatically redirected to the `/login` endpoint\n",
    "- If already logged in, then it will just go through and execute the endpoint function as normal\n",
    "- In order for these redirects to work correctly, we need the following 2 lines (just after setting up the login manager)\n",
    "\n",
    "    `login_manager.login_view = 'login'`\n",
    "    \n",
    "    `app.config['USE_SESSION_FOR_NEXT'] = True`\n",
    "    \n",
    "- Without setting the `login_view`, attempting to access `@login_required` endpoints will result in an error\n",
    "\n",
    "- It is more convenient to use sessions to store the `next` parameter, so that's why `'USE_SESSION_FOR_NEXT'` is set to `True` in the app configuration dictionary"
   ]
  },
  {
   "cell_type": "markdown",
   "metadata": {
    "slideshow": {
     "slide_type": "subslide"
    }
   },
   "source": [
    "#### File `protected.html`\n",
    "- Showing only the contents of the `<body>` element"
   ]
  },
  {
   "cell_type": "markdown",
   "metadata": {},
   "source": [
    "~~~~html\n",
    "<!DOCTYPE html>\n",
    "<html lang=\"en\">\n",
    "<head>\n",
    "    <meta charset=\"UTF-8\">\n",
    "    <title>Session Examples</title>\n",
    "</head>\n",
    "<body>\n",
    "{% for message in get_flashed_messages() %}\n",
    "    {{ message }}<br/>\n",
    "{% endfor %}\n",
    "\n",
    "<h1>You have to be authenticated to view this</h1>\n",
    "<h3>current_user.id: {{ current_user.id }}</h3>\n",
    "<h3>current_user.is_authenticated: {{ current_user.is_authenticated }}</h3>\n",
    "</body>\n",
    "</html>\n",
    "~~~~"
   ]
  },
  {
   "cell_type": "markdown",
   "metadata": {
    "slideshow": {
     "slide_type": "subslide"
    }
   },
   "source": [
    "- After displaying the flashed messages, this page is showing how to refer to the current user\n",
    "    - simply access the `current_user` object\n",
    "    - and access the fields you need, such as `current_user.id`\n",
    "- use `current_user.is_authenticated` to determine if the current user is authenticated of not\n",
    "    - by default, `flask_login` uses a special anonymous user when no user is logged in\n",
    "        - its `is_authenticated` field will always be false\n",
    "    - when is a user is actually logged in, `is_authenticated` will be true\n",
    "- The file `non_protected.html` is almost identical"
   ]
  },
  {
   "cell_type": "markdown",
   "metadata": {
    "slideshow": {
     "slide_type": "subslide"
    }
   },
   "source": [
    "#### Step 6: `/logout` endpoint\n",
    "- When logging out, instead of clearing the session directly, it is better to call the `logout_user` function (also imported from `flask_login`), to let the login manager handle it\n",
    "- Note that this endpoint is also decorated with `@login_required`, since it does not make sense to logout if the user is not currently logged in"
   ]
  },
  {
   "cell_type": "code",
   "execution_count": null,
   "metadata": {
    "slideshow": {
     "slide_type": "subslide"
    }
   },
   "outputs": [],
   "source": [
    "@app.route('/logout')\n",
    "@login_required\n",
    "def logout():\n",
    "    logout_user()\n",
    "    return redirect('/')"
   ]
  },
  {
   "cell_type": "markdown",
   "metadata": {
    "slideshow": {
     "slide_type": "subslide"
    }
   },
   "source": [
    "#### File `index2.html`\n",
    "- This template uses `current_user.is_authenticated` to display different things to logged in users and anonymous users\n",
    "- Note that this template is used by both this example and the next, so that's why it is checking if the current user has an email and a phone number\n",
    "    - in this example, a user doesn't have these fields\n",
    "    - but in the next, a user will have these fields\n",
    "- Showing only the contents of the `<body>` element and skipping the display of flashed messages"
   ]
  },
  {
   "cell_type": "markdown",
   "metadata": {
    "slideshow": {
     "slide_type": "subslide"
    }
   },
   "source": [
    "~~~~html\n",
    "<!DOCTYPE html>\n",
    "<html lang=\"en\">\n",
    "<head>\n",
    "    <meta charset=\"UTF-8\">\n",
    "    <title>Session Examples</title>\n",
    "</head>\n",
    "<body>\n",
    "{% for message in get_flashed_messages() %}\n",
    "    {{ message }}<br/>\n",
    "{% endfor %}\n",
    "{% if current_user.is_authenticated %}\n",
    "    <h1>Welcome {{ current_user.id }}!</h1>\n",
    "    {%  if current_user.email and current_user.phone %}\n",
    "    <dl>\n",
    "        <dt>email</dt>\n",
    "        <dd>{{ current_user.email }}</dd>\n",
    "        <dt>phone</dt>\n",
    "        <dd>{{ current_user.phone }}</dd>\n",
    "    </dl>\n",
    "        {% endif %}\n",
    "    <a href=\"/logout\">Logout</a>\n",
    "{% else %}\n",
    "    <h1>Welcome Stranger!</h1>\n",
    "    <a href=\"/login\">Login</a>\n",
    "    <a href=\"/register\">Register</a>\n",
    "{% endif %}\n",
    "<a href=\"/non_protected\">Non Protected</a>\n",
    "<a href=\"/protected\">Protected</a>\n",
    "</body>\n",
    "</html>\n",
    "~~~~"
   ]
  },
  {
   "cell_type": "markdown",
   "metadata": {
    "slideshow": {
     "slide_type": "subslide"
    }
   },
   "source": [
    "### Better Password Handling and User Registration\n",
    "- File `05_app.py`\n",
    "- In this example, we improve on the previous example by having a more complete `User` class, and with a much better way to save and retrieve users data, including a properly hashed password, from a CSV file\n",
    "- There is also a new registration page"
   ]
  },
  {
   "cell_type": "markdown",
   "metadata": {
    "slideshow": {
     "slide_type": "subslide"
    }
   },
   "source": [
    "#### `User` class\n",
    "- 3 new fields are added to the `User` class: `email`, `phone` and `password`"
   ]
  },
  {
   "cell_type": "code",
   "execution_count": null,
   "metadata": {},
   "outputs": [],
   "source": [
    "class User(UserMixin):\n",
    "    def __init__(self, username, email, phone, password=None):\n",
    "        self.id = username\n",
    "        self.email = email\n",
    "        self.phone = phone\n",
    "        self.password = password"
   ]
  },
  {
   "cell_type": "markdown",
   "metadata": {
    "slideshow": {
     "slide_type": "subslide"
    }
   },
   "source": [
    "#### `load_user` function\n",
    "- The `load_user` function calls the `find_user` to search for a user with the given user id (actually the username in our example)\n",
    "- The password will be included in the user object returned by the `find_user` function\n",
    "    - but the login manager doesn't need it\n",
    "    - so we hide it by setting it to `None` to avoid some potential security issues\n",
    "- If `find_user` doesn't find the user, it will return `None`\n",
    "    - therefore `load_user` might return `None`"
   ]
  },
  {
   "cell_type": "code",
   "execution_count": null,
   "metadata": {},
   "outputs": [],
   "source": [
    "@login_manager.user_loader\n",
    "def load_user(user_id):\n",
    "    user = find_user(user_id)\n",
    "    # user could be None\n",
    "    if user:\n",
    "        # if not None, hide the password by setting it to None\n",
    "        user.password = None\n",
    "    return user"
   ]
  },
  {
   "cell_type": "markdown",
   "metadata": {
    "slideshow": {
     "slide_type": "subslide"
    }
   },
   "source": [
    "#### `find_user` function"
   ]
  },
  {
   "cell_type": "code",
   "execution_count": null,
   "metadata": {},
   "outputs": [],
   "source": [
    "def find_user(username):\n",
    "    with open('data/users.csv') as f:\n",
    "        for user in csv.reader(f):\n",
    "            if username == user[0]:\n",
    "                return User(*user)\n",
    "    return None"
   ]
  },
  {
   "cell_type": "markdown",
   "metadata": {
    "slideshow": {
     "slide_type": "subslide"
    }
   },
   "source": [
    "- The first part of this function is similar to the `check_password` from the previous example\n",
    "    - it reads a CSV file line-by-line, each line representing a user\n",
    "    - `user[0]` is still the username\n",
    "    - the following fields are, in order, the email address, the phone number, and the password\n",
    "    - then the function returns a new user object\n",
    "    - if the username is not found, it returns `None`\n",
    "- The password is saved in a special form called a *hashed password*\n",
    "    - the `bcrypt` package is used in this example\n",
    "    - more details on this later on"
   ]
  },
  {
   "cell_type": "markdown",
   "metadata": {
    "slideshow": {
     "slide_type": "subslide"
    }
   },
   "source": [
    "- The special notation `*user` is often called *unpacking an argument list*\n",
    "    - `user` is a list containing the *username*, *email* address, *phone* number and *password* of the user\n",
    "    - the `User` constructor's arguments have to be given in the same order\n",
    "    - so `*user` will *unpack* the list elements into the constructor arguments\n",
    "    - we could write instead `return User(user[0], user[1], user[2], user[3])`\n",
    "        - but `return User(*user)` is much cleaner"
   ]
  },
  {
   "cell_type": "markdown",
   "metadata": {
    "slideshow": {
     "slide_type": "subslide"
    }
   },
   "source": [
    "#### List unpacking example"
   ]
  },
  {
   "cell_type": "code",
   "execution_count": 3,
   "metadata": {},
   "outputs": [
    {
     "name": "stdout",
     "output_type": "stream",
     "text": [
      "a = 2\n",
      "b = Hello\n",
      "c = 5.6\n",
      "\n"
     ]
    }
   ],
   "source": [
    "def f(a, b, c):\n",
    "    print(\"a = {}\\nb = {}\\nc = {}\\n\".format(a, b, c))\n",
    "    \n",
    "data = [2, \"Hello\", 5.6]\n",
    "f(*data)"
   ]
  },
  {
   "cell_type": "markdown",
   "metadata": {
    "slideshow": {
     "slide_type": "subslide"
    }
   },
   "source": [
    "#### `/login` endpoint\n",
    "- The same logic is kept in the `/login` endpoint, except that the password is not checked in the same way\n",
    "- We use the `bcrypt` package to verify the hashed password"
   ]
  },
  {
   "cell_type": "code",
   "execution_count": null,
   "metadata": {
    "slideshow": {
     "slide_type": "subslide"
    }
   },
   "outputs": [],
   "source": [
    "@app.route('/login', methods=['GET', 'POST'])\n",
    "def login():\n",
    "    form = LoginForm()\n",
    "    if form.validate_on_submit():\n",
    "        user = find_user(form.username.data)\n",
    "        # user could be None\n",
    "        # passwords are kept in hashed form, using the bcrypt algorithm\n",
    "        if user and bcrypt.checkpw(form.password.data.encode(), \n",
    "                                   user.password.encode()):\n",
    "            login_user(user)\n",
    "            flash('Logged in successfully.')\n",
    "            next_page = session.get('next', '/')\n",
    "            session['next'] = '/'\n",
    "            return redirect(next_page)\n",
    "        else:\n",
    "            flash('Incorrect username/password!')\n",
    "    return render_template('login.html', form=form)"
   ]
  },
  {
   "cell_type": "markdown",
   "metadata": {
    "slideshow": {
     "slide_type": "subslide"
    }
   },
   "source": [
    "- First, to check the password, we need to find the user (same as in `load_user`)\n",
    "- Second, we check if we have a user and if yes, we use `bcrypt` to check the password\n",
    "    - if `user` is `None`, then it will evaluate to `False` and the whole condition will be `False`\n",
    "    - if we have a user, then we will check if the submitted password matches the stored password\n",
    "        - in order for the `checkpw` to work correctly, the password strings have to be encoded properly\n",
    "    - if we have a match, then we proceed in the same way as before"
   ]
  },
  {
   "cell_type": "markdown",
   "metadata": {
    "slideshow": {
     "slide_type": "subslide"
    }
   },
   "source": [
    "#### User Registration\n",
    "- To register a new user, we need a `RegisterForm` and a corresponding `/register` endpoint\n",
    "    - note that in this example, the forms have been moved to another file `forms.py`\n",
    "- This form is reusing some fields and validators already used in other examples\n",
    "    - the *username, email, phone, password, submit* fields and the `validate_password` function are identical to previous examples\n",
    "- The only new field is the `password2` field\n",
    "    - this field is used to confirm that the password was typed correctly\n",
    "    - besides `InputRequired`, we use the `EqualTo` validator\n",
    "    \n",
    "        - `EqualTo('password', message='Passwords must match.')`\n",
    "        - it specifies that it must be equal to the `password` field\n",
    "        "
   ]
  },
  {
   "cell_type": "code",
   "execution_count": null,
   "metadata": {
    "slideshow": {
     "slide_type": "subslide"
    }
   },
   "outputs": [],
   "source": [
    "class RegisterForm(FlaskForm):\n",
    "    username = StringField('Username',\n",
    "                           validators=[InputRequired(),\n",
    "                                       Length(4, 64),\n",
    "               Regexp('^[A-Za-z][A-Za-z0-9_.]*$', 0,\n",
    "              'Usernames must start with a letter and must have only letters, numbers, dots or underscores')])\n",
    "    email = EmailField('Email', validators=[InputRequired(), Email()])\n",
    "    phone = StringField('Phone number', validators=[InputRequired()])\n",
    "    password = PasswordField('Password', validators=[InputRequired(), \n",
    "                                                     Length(8)])\n",
    "    password2 = PasswordField('Repeat password',\n",
    "                              validators=[InputRequired(), \n",
    "              EqualTo('password', message='Passwords must match.')])\n",
    "    submit = SubmitField('Login')\n",
    "    \n",
    "    def validate_password(self, field):\n",
    "        with open('data/common_passwords.txt') as f:\n",
    "            for line in f.readlines():\n",
    "                if field.data == line.strip():\n",
    "                    raise ValidationError('Your password is too common.')"
   ]
  },
  {
   "cell_type": "markdown",
   "metadata": {
    "slideshow": {
     "slide_type": "subslide"
    }
   },
   "source": [
    "#### `/register` endpoint\n",
    "- The `/register` endpoint is quite similar to the `/login` endpoint in many ways\n",
    "    - they both render and handle forms\n",
    "    - they both look for a user with a given username\n",
    "        - the difference is that in `/login`, we need to find a given user to be successful\n",
    "        - while in `/register`, we do *not* want to find a given user since we don't want 2 different users with the same username\n",
    "    - in `/login` we need to verify the submitted password, \n",
    "        - while in `/register` we need to hash the submitted password\n",
    "    - in `/register`, instead of reading a CSV files, we need to append some data to the CSV file"
   ]
  },
  {
   "cell_type": "code",
   "execution_count": null,
   "metadata": {
    "slideshow": {
     "slide_type": "subslide"
    }
   },
   "outputs": [],
   "source": [
    "@app.route('/register', methods=['GET', 'POST'])\n",
    "def register():\n",
    "    form = RegisterForm()\n",
    "    if form.validate_on_submit():\n",
    "        # check first if user already exists\n",
    "        user = find_user(form.username.data)\n",
    "        if not user:\n",
    "            salt = bcrypt.gensalt()\n",
    "            password = bcrypt.hashpw(form.password.data.encode(), \n",
    "                                     salt)"
   ]
  },
  {
   "cell_type": "code",
   "execution_count": null,
   "metadata": {
    "slideshow": {
     "slide_type": "subslide"
    }
   },
   "outputs": [],
   "source": [
    "            with open('data/users.csv', 'a') as f:\n",
    "                writer = csv.writer(f)\n",
    "                writer.writerow([form.username.data, \n",
    "                                 form.email.data, \n",
    "                                 form.phone.data, \n",
    "                                 password.decode()])\n",
    "            flash('Registered successfully.')\n",
    "            return redirect('/login')\n",
    "        else:\n",
    "            flash('This username already exists, choose another one')\n",
    "    return render_template('register.html', form=form)"
   ]
  },
  {
   "cell_type": "markdown",
   "metadata": {
    "slideshow": {
     "slide_type": "subslide"
    }
   },
   "source": [
    "- If we do *not* find a user with the submitted username, `user` will be `None` and `not None` will evaluate to `True`\n",
    "    - to hash a password with `bcrypt`, we need to generate a random *salt*, then we use this random salt to hash the password\n",
    "    - the password needs to be encoded before being hashed\n",
    "    - we then open the `users.csv` file in *append* mode to add a user row at the end of the file using a CSV writer\n",
    "    - the fields need to be put in this order: *username, email, phone* and *password*\n",
    "    - the password has to be decoded before saving it to the file\n",
    "    - after writing the data to the file, the user is redirected to the login page"
   ]
  },
  {
   "cell_type": "code",
   "execution_count": null,
   "metadata": {
    "slideshow": {
     "slide_type": "subslide"
    }
   },
   "outputs": [],
   "source": []
  },
  {
   "cell_type": "markdown",
   "metadata": {
    "slideshow": {
     "slide_type": "notes"
    }
   },
   "source": [
    "- 05_flask_db\n",
    "    - SQLAlchemy\n",
    "    - Models"
   ]
  }
 ],
 "metadata": {
  "celltoolbar": "Slideshow",
  "kernelspec": {
   "display_name": "Python 3",
   "language": "python",
   "name": "python3"
  },
  "language_info": {
   "codemirror_mode": {
    "name": "ipython",
    "version": 3
   },
   "file_extension": ".py",
   "mimetype": "text/x-python",
   "name": "python",
   "nbconvert_exporter": "python",
   "pygments_lexer": "ipython3",
   "version": "3.7.3"
  }
 },
 "nbformat": 4,
 "nbformat_minor": 2
}

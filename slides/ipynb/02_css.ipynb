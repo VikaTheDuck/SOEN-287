{
 "cells": [
  {
   "cell_type": "markdown",
   "metadata": {
    "slideshow": {
     "slide_type": "slide"
    }
   },
   "source": [
    "# SOEN287 Web Programming\n",
    "## Introduction to CSS & Bootstrap\n",
    "### Author: Denis Rinfret \n",
    "#### Based on https://www.w3schools.com/css/default.asp & https://www.w3schools.com/bootstrap4/default.asp"
   ]
  },
  {
   "cell_type": "markdown",
   "metadata": {
    "slideshow": {
     "slide_type": "fragment"
    }
   },
   "source": [
    "- HTML describes the structure of a document, while CSS describes how it should be displayed\n",
    "- CSS is a language that describes the style of an HTML document.\n",
    "- CSS describes how HTML elements should be displayed."
   ]
  },
  {
   "cell_type": "markdown",
   "metadata": {
    "slideshow": {
     "slide_type": "slide"
    }
   },
   "source": [
    "### What is CSS?\n",
    "- CSS stands for Cascading Style Sheets\n",
    "- CSS describes how HTML elements are to be displayed on screen, paper, or in other media\n",
    "- CSS saves a lot of work. It can control the layout of multiple web pages all at once\n",
    "- External stylesheets are stored in CSS files"
   ]
  },
  {
   "cell_type": "markdown",
   "metadata": {
    "slideshow": {
     "slide_type": "subslide"
    }
   },
   "source": [
    "### Why Use CSS?\n",
    "- CSS is used to define styles for your web pages, including the design, layout and variations in display for different devices and screen sizes. "
   ]
  },
  {
   "cell_type": "markdown",
   "metadata": {
    "slideshow": {
     "slide_type": "subslide"
    }
   },
   "source": [
    "### CSS Solved a Big Problem\n",
    "- HTML was **NEVER** intended to contain tags for formatting a web page!\n",
    "\n",
    "- HTML was created to describe the content of a web page, like:\n",
    "\n",
    "    ```html\n",
    "<h1>This is a heading</h1>```\n",
    "  \n",
    "    ```html\n",
    "<p>This is a paragraph.</p>```\n",
    "\n",
    "- When tags like `<font>`, and color attributes were added to the HTML 3.2 specification, it started a nightmare for web developers.\n",
    " \n",
    "- Development of large websites, where fonts and color information were added to every single page, became a long and expensive process.\n",
    "\n",
    "- To solve this problem, the World Wide Web Consortium (W3C) created CSS.\n",
    "\n",
    "- CSS removed the style formatting from the HTML page!"
   ]
  },
  {
   "cell_type": "markdown",
   "metadata": {
    "slideshow": {
     "slide_type": "subslide"
    }
   },
   "source": [
    "### CSS Saves a Lot of Work!\n",
    "\n",
    "- The style definitions are normally saved in external `.css` files.\n",
    "\n",
    "- With an external stylesheet file, you can change the look of an entire website by changing just one file!"
   ]
  },
  {
   "cell_type": "markdown",
   "metadata": {
    "slideshow": {
     "slide_type": "slide"
    }
   },
   "source": [
    "### CSS Syntax\n",
    "\n",
    "- A CSS rule-set consists of a selector and a declaration block:\n",
    "\n",
    "![CSS Selector](images/css_selector.gif)\n",
    "\n",
    "- The selector points to the HTML element you want to style.\n",
    "\n",
    "- The declaration block contains one or more declarations separated by semicolons.\n",
    "\n",
    "- Each declaration includes a CSS property name and a value, separated by a colon.\n",
    "\n",
    "- A CSS declaration always ends with a semicolon, and declaration blocks are surrounded by curly braces. "
   ]
  },
  {
   "cell_type": "markdown",
   "metadata": {
    "slideshow": {
     "slide_type": "subslide"
    }
   },
   "source": [
    "#### Example 1: `ex1.html`\n",
    "- `<style>` element: CSS declarations included in the HTML file\n",
    "- `<style>` should be inside the `<head>` element\n",
    "- This is called an *internal style sheet*\n",
    "- 2 element selectors: `h1` and `p`\n",
    "    - apply to all `<h1>` and `<p>` elements in the document"
   ]
  },
  {
   "cell_type": "markdown",
   "metadata": {
    "slideshow": {
     "slide_type": "subslide"
    }
   },
   "source": [
    "```html\n",
    "<!DOCTYPE html>\n",
    "<html lang=\"en\">\n",
    "<head>\n",
    "    <meta charset=\"UTF-8\">\n",
    "    <title>CSS Example 1</title>\n",
    "    <style>\n",
    "        h1 {\n",
    "            border-color: blue;\n",
    "            border-width: 10px;\n",
    "            border-style: dotted;\n",
    "        }\n",
    "        p {\n",
    "            color: red;\n",
    "            background-color: yellow;\n",
    "        }\n",
    "    </style>\n",
    "</head>\n",
    "<body>\n",
    "<h1>CSS Example 1</h1>\n",
    "<p>Some paragraph</p>\n",
    "</body>\n",
    "</html>```"
   ]
  },
  {
   "cell_type": "markdown",
   "metadata": {
    "slideshow": {
     "slide_type": "fragment"
    }
   },
   "source": [
    "![CSS Example 1](images/css_ex1.png)"
   ]
  },
  {
   "cell_type": "markdown",
   "metadata": {
    "slideshow": {
     "slide_type": "slide"
    }
   },
   "source": [
    "### CSS Selectors\n",
    "- ***Element selector***: to select all elements of some type (for example `<h1>`), write the element name without the `<>` as the selector (as in the previous example, write `h1` as the selector)\n",
    "\n",
    "- ***ID selector***: to select a specific element by ID, write the element id preceded by a `#`\n",
    "    - if an element has the id attribute set this way: `id=\"top\"`\n",
    "    - use the selector `#top` to select exactly this element"
   ]
  },
  {
   "cell_type": "markdown",
   "metadata": {
    "slideshow": {
     "slide_type": "subslide"
    }
   },
   "source": [
    "#### Example2: `ex2.html`\n",
    "![CSS Example 2](images/css_ex2.png)"
   ]
  },
  {
   "cell_type": "markdown",
   "metadata": {
    "slideshow": {
     "slide_type": "subslide"
    }
   },
   "source": [
    "```html\n",
    "<!DOCTYPE html>\n",
    "<html lang=\"en\">\n",
    "<head>\n",
    "    <meta charset=\"UTF-8\">\n",
    "    <title>CSS Example 2</title>\n",
    "    <style>\n",
    "        p {\n",
    "            color: red;\n",
    "            background-color: yellow;\n",
    "        }\n",
    "        #second {\n",
    "            background-color: lightblue;\n",
    "        }\n",
    "    </style>\n",
    "</head>\n",
    "<body>\n",
    "<p>First paragraph.</p>\n",
    "<p id=\"second\">Second paragraph.</p>\n",
    "<p>Third paragraph.</p>\n",
    "</body>\n",
    "</html>```"
   ]
  },
  {
   "cell_type": "markdown",
   "metadata": {},
   "source": [
    "- `p` selector applies to all paragraphs\n",
    "- `#second` applies only to the element with `id=\"second\"`, in this case the second paragraph\n",
    "- Note that IDs are unique in an HTML document, so only 1 element can have a specific ID\n",
    "- Therefore, an ID selector can apply only to 1 element (if it exists)"
   ]
  },
  {
   "cell_type": "markdown",
   "metadata": {
    "slideshow": {
     "slide_type": "subslide"
    }
   },
   "source": [
    "- ***Class selector***: to select elements of a specific class (elements with the `class` attribute set to some class name, for example `class=\"important\"`), use the selector `.important`\n",
    "\n",
    "- ***Element Class selector***: to select specific elements of a a specific class, combine the element and class selectors\n",
    "    - for example, to select all paragraphs of class `important`, use the selector `p.important`"
   ]
  },
  {
   "cell_type": "markdown",
   "metadata": {
    "slideshow": {
     "slide_type": "subslide"
    }
   },
   "source": [
    "#### Example 3: `ex3.html`\n",
    "![CSS Example 3](images/css_ex3.png)"
   ]
  },
  {
   "cell_type": "markdown",
   "metadata": {
    "slideshow": {
     "slide_type": "subslide"
    }
   },
   "source": [
    "```html\n",
    "<!DOCTYPE html>\n",
    "<html lang=\"en\">\n",
    "<head>\n",
    "    <meta charset=\"UTF-8\">\n",
    "    <title>CSS Example 3</title>\n",
    "    <style>\n",
    "        p {\n",
    "            color: red;\n",
    "            background-color: yellow;\n",
    "        }\n",
    "        .important {\n",
    "            background-color: lightgreen;\n",
    "        }\n",
    "        p.important {\n",
    "            border-width: 5px;\n",
    "            border-style: solid;\n",
    "        }\n",
    "    </style>\n",
    "</head>\n",
    "<body>\n",
    "<h1 class=\"important\">CSS Example 3</h1>\n",
    "<p>First paragraph.</p>\n",
    "<p class=\"important\">Second paragraph.</p>\n",
    "<p>Third paragraph.</p>\n",
    "</body>\n",
    "</html>```"
   ]
  },
  {
   "cell_type": "markdown",
   "metadata": {},
   "source": [
    "- `p` applies to all paragraphs\n",
    "- `.important` applies to all elements with `class=\"important\"`\n",
    "    - in this case the `<h1>` and the second `<p>`\n",
    "- `p.important` applies only to the paragraphs with `class=\"important\"`\n",
    "    - in this case, only the second `<p>`"
   ]
  },
  {
   "cell_type": "markdown",
   "metadata": {
    "slideshow": {
     "slide_type": "subslide"
    }
   },
   "source": [
    "- ***Grouping selector***: to select multiple element types, list the different element types separated by commas\n",
    "    - for example, to select multiple header levels, such as `h1`, `h2` and `h3`, use the selector `h1, h2, h3`\n",
    "    - this can help avoid duplicating too many declarations if we want to apply the same style to many elements"
   ]
  },
  {
   "cell_type": "markdown",
   "metadata": {
    "slideshow": {
     "slide_type": "subslide"
    }
   },
   "source": [
    "#### Example 4: `ex4.html`\n",
    "![CSS Example 4](images/css_ex4.png)"
   ]
  },
  {
   "cell_type": "markdown",
   "metadata": {
    "slideshow": {
     "slide_type": "subslide"
    }
   },
   "source": [
    "### External Stylesheet\n",
    "- On larger projects, when we want to apply the same stylesheet to many HTML documents, or when the style sheet is getting too big, it is better to put the stylesheet in an *external file*\n",
    "- Instead of using the `<style>` element in the `<head>`, use the `<link>` element\n",
    "    \n",
    "    `<link rel=\"stylesheet\" type=\"text/css\" href=\"ex5.css\">`\n",
    "- The contents of the external stylesheet, in this case `ex5.css`, is identical to the content of the `<style>` element when using the internal stylesheet"
   ]
  },
  {
   "cell_type": "markdown",
   "metadata": {
    "slideshow": {
     "slide_type": "subslide"
    }
   },
   "source": [
    "#### Example 5: `ex5.html`\n",
    "![CSS Example 5](images/css_ex5.png)"
   ]
  },
  {
   "cell_type": "markdown",
   "metadata": {
    "slideshow": {
     "slide_type": "subslide"
    }
   },
   "source": [
    "```html\n",
    "<!DOCTYPE html>\n",
    "<html lang=\"en\">\n",
    "<head>\n",
    "    <meta charset=\"UTF-8\">\n",
    "    <title>CSS Example 5</title>\n",
    "    <link rel=\"stylesheet\" type=\"text/css\" \n",
    "            href=\"ex5.css\">\n",
    "</head>\n",
    "<body>\n",
    "<h1>CSS Example 5</h1>\n",
    "<h2>Grouping Selector</h2>\n",
    "<h3>Apply style to headers 1, 2 and 3</h3>\n",
    "<h4>Header 4 keeps the default style</h4>\n",
    "</body>\n",
    "</html>```"
   ]
  },
  {
   "cell_type": "markdown",
   "metadata": {
    "slideshow": {
     "slide_type": "subslide"
    }
   },
   "source": [
    "#### File: `ex5.css`"
   ]
  },
  {
   "cell_type": "markdown",
   "metadata": {},
   "source": [
    "```css\n",
    "h1, h2, h3 {\n",
    "    color: red;\n",
    "    background-color: yellow;\n",
    "}```"
   ]
  },
  {
   "cell_type": "markdown",
   "metadata": {
    "slideshow": {
     "slide_type": "slide"
    }
   },
   "source": [
    "### The CSS Box Model\n",
    "\n",
    "- All HTML elements can be considered as boxes. In CSS, the term \"box model\" is used when talking about design and layout.\n",
    "\n",
    "- The CSS box model is essentially a box that wraps around every HTML element. \n",
    "\n",
    "![CSS Box Model](images/box_model.png)"
   ]
  },
  {
   "cell_type": "markdown",
   "metadata": {
    "slideshow": {
     "slide_type": "subslide"
    }
   },
   "source": [
    "- **Content**: The content of the box, where text and images appear\n",
    "- **Padding**: Clears an area around the content. The padding is transparent\n",
    "- **Border**: A border that goes around the padding and content\n",
    "- **Margin**: Clears an area outside the border. The margin is transparent"
   ]
  },
  {
   "cell_type": "markdown",
   "metadata": {
    "slideshow": {
     "slide_type": "subslide"
    }
   },
   "source": [
    "#### Example 6: `ex6.html`\n",
    "- The `hidden` class can be used to hide some elements. \n",
    "    - It will be used and explained later on\n",
    "![CSS Example 6](images/css_ex6.png)"
   ]
  },
  {
   "cell_type": "markdown",
   "metadata": {
    "slideshow": {
     "slide_type": "subslide"
    }
   },
   "source": [
    "```html\n",
    "<!DOCTYPE html>\n",
    "<html lang=\"en\">\n",
    "<head>\n",
    "    <meta charset=\"UTF-8\">\n",
    "    <title>CSS Example 6</title>\n",
    "    <link rel=\"stylesheet\" type=\"text/css\" href=\"ex6.css\">\n",
    "</head>\n",
    "<body>\n",
    "<h1>CSS Example 6</h1>\n",
    "<dl class=\"special_box\">\n",
    "    <dt>Content</dt>\n",
    "    <dd>The content of the box, where text and images appear</dd>\n",
    "    <dt>Padding</dt>\n",
    "    <dd>Clears an area around the content. The padding is transparent</dd>\n",
    "    <dt class=\"hidden\">Border</dt>\n",
    "    <dd class=\"hidden\">A border that goes around the padding and content</dd>\n",
    "    <dt>Margin</dt>\n",
    "    <dd>Clears an area outside the border. The margin is transparent</dd>\n",
    "</dl>\n",
    "</body>\n",
    "</html>```"
   ]
  },
  {
   "cell_type": "markdown",
   "metadata": {
    "slideshow": {
     "slide_type": "subslide"
    }
   },
   "source": [
    "#### File `ex6.css`"
   ]
  },
  {
   "cell_type": "markdown",
   "metadata": {},
   "source": [
    "```css\n",
    ".special_box {\n",
    "    background-color: lightgoldenrodyellow;\n",
    "    padding: 25px ;\n",
    "    border: 5px solid red;\n",
    "    margin: 100px;\n",
    "}\n",
    "\n",
    "dt {\n",
    "    font-weight: bolder;\n",
    "}\n",
    "\n",
    "/* uncomment either the display or visibility declaration to enable the hidden class */\n",
    ".hidden {\n",
    "    /*display: none;*/\n",
    "    /*visibility: hidden;*/\n",
    "}```"
   ]
  },
  {
   "cell_type": "markdown",
   "metadata": {
    "slideshow": {
     "slide_type": "slide"
    }
   },
   "source": [
    "### The Display Property\n",
    "\n",
    "- The display property specifies if/how an element is displayed.\n",
    "\n",
    "- Every HTML element has a default display value depending on what type of element it is. \n",
    "\n",
    "- The default display value for most elements is block or inline."
   ]
  },
  {
   "cell_type": "markdown",
   "metadata": {
    "slideshow": {
     "slide_type": "subslide"
    }
   },
   "source": [
    "### Block-level Elements\n",
    "- A block-level element always starts on a new line and takes up the full width available (stretches out to the left and right as far as it can).\n",
    "\n",
    "- Examples of block-level elements:\n",
    "    - `<div>`\n",
    "    - `<h1>` to `<h6>`\n",
    "    - `<p>`\n",
    "    - `<form>`"
   ]
  },
  {
   "cell_type": "markdown",
   "metadata": {
    "slideshow": {
     "slide_type": "subslide"
    }
   },
   "source": [
    "### Inline Elements\n",
    "- An inline element does not start on a new line and only takes up as much width as necessary.\n",
    "\n",
    "- Examples of inline elements:\n",
    "    - `<span>`\n",
    "    - `<a>`\n",
    "    - `<img>`"
   ]
  },
  {
   "cell_type": "markdown",
   "metadata": {
    "slideshow": {
     "slide_type": "subslide"
    }
   },
   "source": [
    "### Hiding an Element \n",
    "#### `display: none` or `visibility: hidden`?\n",
    "- Hiding an element can be done by setting the display property to none. \n",
    "    - The element will be hidden, and the page will be displayed as if the element is not there\n",
    "    - modify `ex6.css` to uncomment `display: none` from the `hidden` class declarations, then save and reload `ex6.html`\n",
    "- `visibility: hidden`; also hides an element.\n",
    "    - However, the element will still take up the same space as before. \n",
    "    - The element will be hidden, but still affect the layout\n",
    "    - modify `ex6.css` to comment `display: none` and uncomment`visibility: hidden` from the `hidden` class declarations, then save and reload `ex6.html`\n",
    "    - what has changed?"
   ]
  },
  {
   "cell_type": "markdown",
   "metadata": {
    "slideshow": {
     "slide_type": "subslide"
    }
   },
   "source": [
    "#### `display: none`\n",
    "![CSS Example 6](images/css_ex6_hidden1.png)"
   ]
  },
  {
   "cell_type": "markdown",
   "metadata": {},
   "source": [
    "#### `visibility: hidden`\n",
    "![CSS Example 6](images/css_ex6_hidden2.png)"
   ]
  },
  {
   "cell_type": "markdown",
   "metadata": {
    "slideshow": {
     "slide_type": "slide"
    }
   },
   "source": [
    "### The `float` Property\n",
    "- The float property is used for positioning and formatting content e.g. let an image float left to the text in a container.\n",
    "\n",
    "- The float property can have one of the following values:\n",
    "\n",
    "    - `left`: The element floats to the left of its container\n",
    "    - `right`: The element floats to the right of its container\n",
    "    - `none`: The element does not float (will be displayed just where it occurs in the text). This is default\n",
    "    - `inherit`: The element inherits the float value of its parent\n"
   ]
  },
  {
   "cell_type": "markdown",
   "metadata": {
    "slideshow": {
     "slide_type": "subslide"
    }
   },
   "source": [
    "#### Example: `css_float.html`\n",
    "![CSS Example 6](images/css_float.png)"
   ]
  },
  {
   "cell_type": "markdown",
   "metadata": {
    "slideshow": {
     "slide_type": "subslide"
    }
   },
   "source": [
    "```html\n",
    "<!DOCTYPE html>\n",
    "<html lang=\"en\">\n",
    "<head>\n",
    "    <title>CSS Example 1</title>\n",
    "    <link rel=\"stylesheet\" type=\"text/css\" href=\"css_float.css\">\n",
    "</head>\n",
    "<body>\n",
    "<div id=\"floating-div\">\n",
    "    <h1>Hello</h1>\n",
    "    <p>Some Text. Some Text. Some Text. Some Text. Some Text. Some Text. Some Text. Some Text. Some Text. </p>\n",
    "</div>\n",
    "<div>\n",
    "    <h1>Goodbye</h1>\n",
    "    <p>Some other text. Some other text. Some other text. Some other text. Some other text. Some other text. </p>\n",
    "    <h2>Hi</h2>\n",
    "    <p>Some other text. Some other text. Some other text. Some other text. Some other text. Some other text. </p>\n",
    "    <h2>Bye</h2>\n",
    "    <p>Lorem ipsum dolor sit amet, consectetur adipisicing elit, sed do eiusmod\n",
    "        tempor incididunt ut labore et dolore magna aliqua. Ut enim ad minim veniam,\n",
    "        quis nostrud exercitation ullamco laboris nisi ut aliquip ex ea commodo\n",
    "        consequat. Duis aute irure dolor in reprehenderit in voluptate velit esse\n",
    "        cillum dolore eu fugiat nulla pariatur. Excepteur sint occaecat cupidatat non\n",
    "        proident, sunt in culpa qui officia deserunt mollit anim id est laborum.</p>\n",
    "</div>\n",
    "</body>\n",
    "</html>```"
   ]
  },
  {
   "cell_type": "markdown",
   "metadata": {
    "slideshow": {
     "slide_type": "subslide"
    }
   },
   "source": [
    "#### File: `css_float.css`"
   ]
  },
  {
   "cell_type": "markdown",
   "metadata": {},
   "source": [
    "```css\n",
    "#floating-div {\n",
    "\tbackground-color: #44ff44;\n",
    "\tfloat: right;\n",
    "\twidth: 20vw;\n",
    "\tmin-width: 100px;\n",
    "}\n",
    "\n",
    "div {\n",
    "\tbackground-color: #ff4444;\n",
    "}```\n"
   ]
  },
  {
   "cell_type": "markdown",
   "metadata": {
    "slideshow": {
     "slide_type": "slide"
    }
   },
   "source": [
    "### CSS Tables\n",
    "#### Example: `css_table.html`\n",
    "![CSS Table](images/css_table.png)\n",
    "![CSS Table](images/css_table_hover.png)"
   ]
  },
  {
   "cell_type": "markdown",
   "metadata": {
    "slideshow": {
     "slide_type": "subslide"
    }
   },
   "source": [
    "```html\n",
    "<!DOCTYPE html>\n",
    "<html lang=\"en\">\n",
    "<head>\n",
    "\t<title>CSS Table Example</title>\n",
    "\t<link rel=\"stylesheet\" type=\"text/css\" href=\"css_table.css\">\n",
    "</head>\n",
    "<body>\n",
    "    <table>\n",
    "        <caption>CSS Table Example</caption>\n",
    "        <tr>\n",
    "            <th>ID</th>\n",
    "            <th>Name</th>\n",
    "            <th>Email</th>\n",
    "        </tr>\n",
    "        <tr>\n",
    "            <td>1</td>\n",
    "            <td>Bob</td>\n",
    "            <td>bob@bob.com</td>\n",
    "        </tr>\n",
    "        <tr>\n",
    "            <td>4</td>\n",
    "            <td>Amy</td>\n",
    "            <td>amy@concordia.ca</td>\n",
    "        </tr>\n",
    "        <tr>\n",
    "            <td>7</td>\n",
    "            <td>Jean</td>\n",
    "            <td>jean@jean.org</td>\n",
    "        </tr>\n",
    "        <tr>\n",
    "            <td>8</td>\n",
    "            <td>Tan</td>\n",
    "            <td>tan@concordia.ca</td>\n",
    "        </tr>\n",
    "    </table>\n",
    "</body>\n",
    "</html>```"
   ]
  },
  {
   "cell_type": "markdown",
   "metadata": {
    "slideshow": {
     "slide_type": "subslide"
    }
   },
   "source": [
    "#### File `css_table.css`\n",
    "```css\n",
    "table {\n",
    "\tborder-collapse: collapse;\n",
    "    color: black;\n",
    "}\n",
    "\n",
    "th, td {\n",
    "\tpadding: 10px;\n",
    "\tborder-bottom: 1px solid black;\n",
    "}\n",
    "\n",
    "th {\n",
    "\tfont-variant: small-caps;\n",
    "\ttext-align: center;\n",
    "\tbackground-color: black;\n",
    "\tcolor: limegreen;\n",
    "}\n",
    "\n",
    "caption {\n",
    "\tcaption-side: bottom;\n",
    "\tfont-style: oblique;\n",
    "\tfont-size: 75%;\n",
    "\tmargin-top: 5px;\n",
    "}\n",
    "\n",
    "tr:nth-child(even) {\n",
    "\tbackground-color: #eafaea;\n",
    "}\n",
    "\n",
    "tr:nth-child(odd) {\n",
    "\tbackground-color: #98e698;\n",
    "}\n",
    "\n",
    "tr:hover {\n",
    "\tbackground-color: limegreen;\n",
    "  \tcolor: white;\n",
    "}```"
   ]
  },
  {
   "cell_type": "markdown",
   "metadata": {
    "slideshow": {
     "slide_type": "subslide"
    }
   },
   "source": [
    "- The `border-collapse` property sets whether the table borders should be collapsed into a single border\n",
    "    - setting it to `collapse` will avoid leaving a gap between the cell borders\n",
    "- Different styles are applied the table header `th`, table data `td` and `caption`\n",
    "- To make table rows easier to read and more appealing, *pseudo-class* selectors are used to apply different styles, in our example, to odd and even numbered rows, and to rows over which the mouse moves\n",
    "    - `tr:nth-child(even)` selects only even-numbered rows of the table\n",
    "    - `tr:nth-child(odd)` selects only odd-numbered rows of the table\n",
    "    - `tr:hover` selects only the row currently under the mouse cursor (if any)\n",
    "    - in each case a different background color is applied, and in the case of `:hover`, a different text color is also applied"
   ]
  },
  {
   "cell_type": "markdown",
   "metadata": {
    "slideshow": {
     "slide_type": "slide"
    }
   },
   "source": [
    "### Navigation Bar\n",
    "#### Example: `css_nav.html`\n",
    "![CSS Example 6](images/css_nav.png)"
   ]
  },
  {
   "cell_type": "markdown",
   "metadata": {
    "slideshow": {
     "slide_type": "subslide"
    }
   },
   "source": [
    "![CSS Example 6](images/css_nav_hover.png)"
   ]
  },
  {
   "cell_type": "markdown",
   "metadata": {
    "slideshow": {
     "slide_type": "subslide"
    }
   },
   "source": [
    "### Navigation Bar = List of Links\n",
    "- A navigation bar needs standard HTML as a base.\n",
    "\n",
    "- In our examples we will build the navigation bar from a standard HTML list.\n",
    "\n",
    "- A navigation bar is basically a list of links, so using the `<ul>` and `<li>` elements makes perfect sense:\n",
    "    - the `ul` has the `menulist` class\n",
    "    - the `ul` is inside a `div` with `id` set to `menubar`\n",
    "    - each `li` has the class `menuitem`, and it contains a link (an `<a>` element)\n",
    "- Besides these, the HTML file contains nothing special\n",
    "    - the *magic* is in the CSS file"
   ]
  },
  {
   "cell_type": "markdown",
   "metadata": {
    "slideshow": {
     "slide_type": "subslide"
    }
   },
   "source": [
    "```html\n",
    "<!DOCTYPE html>\n",
    "<html lang=\"en\">\n",
    "<head>\n",
    "    <title>CSS Example 2</title>\n",
    "    <link rel=\"stylesheet\" type=\"text/css\" href=\"css_nav.css\">\n",
    "</head>\n",
    "<body>\n",
    "<div id=\"menubar\">\n",
    "    <ul class=\"menulist\">\n",
    "        <li class=\"menuitem\">\n",
    "            <a class=\"active\" href=\"\">Home</a>\n",
    "        </li>\n",
    "        <li class=\"menuitem\">\n",
    "            <a href=\"download\">Download</a>\n",
    "        </li>\n",
    "        <li class=\"menuitem\">\n",
    "            <a href=\"doc\">Documentation</a>\n",
    "        </li>\n",
    "        <li class=\"menuitem\">\n",
    "            <a href=\"blog\">Blog</a>\n",
    "        </li>\n",
    "        <li class=\"menuitem\">\n",
    "            <a href=\"contact\">Contact</a>\n",
    "        </li>\n",
    "    </ul>\n",
    "</div>\n",
    "\n",
    "<div id=\"topheader\">\n",
    "    <h1>Hello</h1>\n",
    "    <p>Some Text. Some Text. Some Text. Some Text. Some Text. Some Text. Some Text. Some Text. Some Text. </p>\n",
    "</div>\n",
    "<div>\n",
    "    <h1>Goodbye</h1>\n",
    "    <p>Some other text. Some other text. Some other text. Some other text. Some other text. Some other text. </p>\n",
    "    <h2>Hi</h2>\n",
    "    <p>Some other text. Some other text. Some other text. Some other text. Some other text. Some other text. </p>\n",
    "</div>\n",
    "</body>\n",
    "</html>```"
   ]
  },
  {
   "cell_type": "markdown",
   "metadata": {
    "slideshow": {
     "slide_type": "subslide"
    }
   },
   "source": [
    "#### File `css_nav.html`\n",
    "```css\n",
    "\n",
    "#menubar {\n",
    "    /*text-align: center;*/ /* for centering menu */\n",
    "    /*float: right;*/ /* uncomment for vertical menu floating on the right */\n",
    "    display: block /* block will use full width, flex will not use full width */\n",
    "    /* make it sticky */\n",
    "    /*position: -webkit-sticky; /* Safari */\n",
    "    /*position: sticky;\n",
    "    top: 0;*/\n",
    "}\n",
    "\n",
    "ul.menulist {\n",
    "    padding: 0;\n",
    "    position: relative;\n",
    "    overflow: auto;\n",
    "    list-style-type: none;\n",
    "    margin: 0;\n",
    "    padding: 0;\n",
    "    background-color: black;\n",
    "    border: 2px solid limegreen;\n",
    "    font-family: monospace;\n",
    "    font-size: 1.2em;\n",
    "    /*width: auto;*/ /* for centering menu */\n",
    "    /*display: inline-block;*/ /* for centering menu */\n",
    "}\n",
    "\n",
    "li.menuitem {\n",
    "    text-align: center;\n",
    "    float: left; /* comment out to make a vertical menu */\n",
    "}\n",
    "\n",
    "li.menuitem a {\n",
    "    display: block;\n",
    "    color: limegreen;\n",
    "    font-weight: bolder;\n",
    "    padding: 8px 8px;\n",
    "    text-decoration: none;\n",
    "}\n",
    "\n",
    "li.menuitem a.active {\n",
    "    background-color: limegreen;\n",
    "    color: white;\n",
    "}\n",
    "\n",
    "li.menuitem a:hover:not(.active) {\n",
    "    background-color: limegreen;\n",
    "    color: black;\n",
    "}\n",
    "\n",
    "```"
   ]
  },
  {
   "cell_type": "markdown",
   "metadata": {
    "slideshow": {
     "slide_type": "slide"
    }
   },
   "source": [
    "### Readings\n",
    "- W3Schools CSS Tutorial: https://www.w3schools.com/css/css_colors.asp\n",
    "    - *Introduction* to *Navigation Bar*\n",
    "    - **Optional**: *Outline*, *Icons*, *Overflow*, *Inline-block*, *Align*, *Position*, *Opacity*"
   ]
  },
  {
   "cell_type": "markdown",
   "metadata": {
    "slideshow": {
     "slide_type": "slide"
    }
   },
   "source": [
    "## What is Bootstrap?\n",
    "\n",
    "- Bootstrap is a free front-end framework for faster and easier web development\n",
    "- Bootstrap includes HTML and CSS based design templates for typography, forms, buttons, tables, navigation, modals, image carousels and many other, as well as optional JavaScript plugins\n",
    "- Bootstrap also gives you the ability to easily create responsive designs"
   ]
  },
  {
   "cell_type": "markdown",
   "metadata": {
    "slideshow": {
     "slide_type": "subslide"
    }
   },
   "source": [
    "### What is Responsive Web Design?\n",
    "\n",
    "Responsive web design is about creating web sites which automatically adjust themselves to look good on all devices, from small phones to large desktops."
   ]
  },
  {
   "cell_type": "markdown",
   "metadata": {
    "slideshow": {
     "slide_type": "subslide"
    }
   },
   "source": [
    "### Why Use Bootstrap?\n",
    "- Advantages of Bootstrap:\n",
    "    - **Easy to use**: Anybody with just basic knowledge of HTML and CSS can start using Bootstrap\n",
    "    - **Responsive features**: Bootstrap's responsive CSS adjusts to phones, tablets, and desktops\n",
    "    - **Mobile-first approach**: In Bootstrap, mobile-first styles are part of the core framework\n",
    "    - **Browser compatibility**: Bootstrap 4 is compatible with all modern browsers (Chrome, Firefox, Internet Explorer 10+, Edge, Safari, and Opera)"
   ]
  },
  {
   "cell_type": "markdown",
   "metadata": {
    "slideshow": {
     "slide_type": "subslide"
    }
   },
   "source": [
    "### How to Create a Page Using Bootstrap\n",
    "- Create an HTML5 document\n",
    "- Include the proper CSS and JavaScript files\n",
    "- Use `<div>`s with the proper Bootstrap CSS classes to structure your page\n",
    "- Use other HTML elements with Bootstrap CSS classes for the web page contents\n",
    "\n",
    "**Notes**:\n",
    "- In this course, Bootstrap is very important for  assignments 2 and 3, but much less important for the exams\n",
    "- We will cover only the basics in class, and you will have to *\"play\"* with it for assignments 2 and 3"
   ]
  },
  {
   "cell_type": "markdown",
   "metadata": {
    "slideshow": {
     "slide_type": "subslide"
    }
   },
   "source": [
    "### Bootstrap 4 Grid System\n",
    "- Bootstrap's grid system is built with flexbox and allows up to 12 columns across the page.\n",
    "\n",
    "- If you do not want to use all 12 columns individually, you can group the columns together to create wider columns\n",
    "\n",
    "- The grid system is responsive, and the columns will re-arrange automatically depending on the screen size.\n",
    "\n",
    "- Make sure that the sum adds up to 12 or fewer (it is not required that you use all 12 available columns).\n",
    "\n"
   ]
  },
  {
   "cell_type": "markdown",
   "metadata": {
    "slideshow": {
     "slide_type": "subslide"
    }
   },
   "source": [
    "### Example: `bs4_ex1.html`"
   ]
  },
  {
   "cell_type": "markdown",
   "metadata": {},
   "source": [
    "~~~~html\n",
    "<!DOCTYPE html>\n",
    "<html lang=\"en\">\n",
    "<head>\n",
    "    <meta charset=\"UTF-8\">\n",
    "    <meta name=\"viewport\" content=\"width=device-width, initial-scale=1\">\n",
    "    <!-- Latest compiled and minified CSS -->\n",
    "    <link rel=\"stylesheet\" href=\"https://maxcdn.bootstrapcdn.com/bootstrap/4.3.1/css/bootstrap.min.css\">\n",
    "    <!-- jQuery library -->\n",
    "    <script src=\"https://ajax.googleapis.com/ajax/libs/jquery/3.4.1/jquery.min.js\"></script>\n",
    "    <!-- Popper JS -->\n",
    "    <script src=\"https://cdnjs.cloudflare.com/ajax/libs/popper.js/1.14.7/umd/popper.min.js\"></script>\n",
    "    <!-- Latest compiled JavaScript -->\n",
    "    <script src=\"https://maxcdn.bootstrapcdn.com/bootstrap/4.3.1/js/bootstrap.min.js\"></script>\n",
    "    <title>Bootstrap 4 Example 1</title>\n",
    "</head>\n",
    "<body>\n",
    "<div class=\"container bg-primary\">\n",
    "    <h1>Bootstrap 4 Example 1</h1>\n",
    "    <p>Header and paragraph in a <code class=\"bg-dark\">container</code> div, with\n",
    "        <code class=\"bg-light\">bg_primary</code> background.</p>\n",
    "</div>\n",
    "\n",
    "<div class=\"container-fluid bg-secondary\">\n",
    "    <h1>Bootstrap 4 Example 1</h1>\n",
    "    <p>Header and paragraph in a <code class=\"bg-dark\">container-fluid</code> div, with <code class=\"bg-light\">bg_secondary</code>\n",
    "        background.</p>\n",
    "</div>\n",
    "\n",
    "<h3>Non-Responsive columns</h3>\n",
    "<div class=\"row\">\n",
    "    <div class=\"col-2 bg-primary\">Col 1</div>\n",
    "    <div class=\"col-3 bg-secondary\">Col 2</div>\n",
    "    <div class=\"col-3 bg-light\">Col 3</div>\n",
    "    <div class=\"col-4 bg-dark\">Col 4</div>\n",
    "</div>\n",
    "\n",
    "<h3>Responsive columns</h3>\n",
    "<div class=\"row\">\n",
    "    <div class=\"col-md-2 bg-primary\">Col 1</div>\n",
    "    <div class=\"col-md-3 bg-secondary\">Col 2</div>\n",
    "    <div class=\"col-md-3 bg-light\">Col 3</div>\n",
    "    <div class=\"col-md-4 bg-dark\">Col 4</div>\n",
    "</div>\n",
    "\n",
    "</body>\n",
    "</html>\n",
    "~~~~"
   ]
  },
  {
   "cell_type": "markdown",
   "metadata": {
    "slideshow": {
     "slide_type": "subslide"
    }
   },
   "source": [
    "### Bootstrap Table Example\n",
    "- A Bootstrap can be specified the same way as a basic HTML table, except that some CSS classes are added to the table element\n",
    "- At least the `table` class has to be specified, plus some other classes to modify the colors\n",
    "- CSS classes can also be added to `tr` and `td` elements to modify specific rows or cells\n",
    "- To make a table responsive, put the table inside a `<div class=\"table-responsive\">` element\n",
    "    - it will add scrollbars automatically if necessary instead of shrinking the table to fit the screen\n",
    "    - `table-responsive-sm`, `table-responsive-md`, `table-responsive-lg` and `table-responsive-xl` can also be used"
   ]
  },
  {
   "cell_type": "markdown",
   "metadata": {
    "slideshow": {
     "slide_type": "subslide"
    }
   },
   "source": [
    "#### File `bs4_ex2.html`"
   ]
  },
  {
   "cell_type": "markdown",
   "metadata": {},
   "source": [
    "~~~~html\n",
    "<!DOCTYPE html>\n",
    "<html lang=\"en\">\n",
    "<head>\n",
    "    <meta charset=\"UTF-8\">\n",
    "    <meta name=\"viewport\" content=\"width=device-width, initial-scale=1\">\n",
    "    <!-- Latest compiled and minified CSS -->\n",
    "    <link rel=\"stylesheet\" href=\"https://maxcdn.bootstrapcdn.com/bootstrap/4.3.1/css/bootstrap.min.css\">\n",
    "    <!-- jQuery library -->\n",
    "    <script src=\"https://ajax.googleapis.com/ajax/libs/jquery/3.4.1/jquery.min.js\"></script>\n",
    "    <!-- Popper JS -->\n",
    "    <script src=\"https://cdnjs.cloudflare.com/ajax/libs/popper.js/1.14.7/umd/popper.min.js\"></script>\n",
    "    <!-- Latest compiled JavaScript -->\n",
    "    <script src=\"https://maxcdn.bootstrapcdn.com/bootstrap/4.3.1/js/bootstrap.min.js\"></script>\n",
    "    <title>Bootstrap 4 Example 2</title>\n",
    "</head>\n",
    "<body>\n",
    "<div class=\"container\">\n",
    "    <h1>Bootstrap 4 Example 2</h1>\n",
    "    <table class=\"table table-striped table-hover\">\n",
    "        <caption>A striped table with hover</caption>\n",
    "        <thead>\n",
    "        <tr>\n",
    "            <th>ID</th>\n",
    "            <th>Name</th>\n",
    "            <th>Email</th>\n",
    "        </tr>\n",
    "        </thead>\n",
    "        <tbody>\n",
    "        <tr>\n",
    "            <td>1</td>\n",
    "            <td>Bob</td>\n",
    "            <td>bob@bob.com</td>\n",
    "        </tr>\n",
    "        <tr>\n",
    "            <td>4</td>\n",
    "            <td>Amy</td>\n",
    "            <td>amy@concordia.ca</td>\n",
    "        </tr>\n",
    "        <tr>\n",
    "            <td>7</td>\n",
    "            <td>Jean</td>\n",
    "            <td>jean@jean.org</td>\n",
    "        </tr>\n",
    "        <tr>\n",
    "            <td>8</td>\n",
    "            <td>Tan</td>\n",
    "            <td>tan@concordia.ca</td>\n",
    "        </tr>\n",
    "        </tbody>\n",
    "    </table>\n",
    "</div>\n",
    "</body>\n",
    "</html>\n",
    "~~~~"
   ]
  },
  {
   "cell_type": "markdown",
   "metadata": {
    "slideshow": {
     "slide_type": "subslide"
    }
   },
   "source": [
    "### Navigation Bars\n",
    "- The following example shows a basic template for a course web site with a navigation bars at the top\n",
    "- This example is based on the examples given on W3Schools\n",
    "- This navigation bar (navbar) is collapsible, so that on medium and smaller screens, the navbar items will collapse into a button.\n",
    "- The navbar is also fixed at the top, so that in a page with lots of contents, when the user scrolls down the page, the navbar will always be at the top\n",
    "    - In order for the fixed navbar to not overlap any of the contents following it in the document, a `padding-top: 50px` declaration is added to the body element\n",
    "- The navbar items are specified inside a `<ul>`, as `<li>`s containing links (`<a>` elements)"
   ]
  },
  {
   "cell_type": "markdown",
   "metadata": {
    "slideshow": {
     "slide_type": "subslide"
    }
   },
   "source": [
    "#### File `bs4_base.html`"
   ]
  },
  {
   "cell_type": "markdown",
   "metadata": {
    "slideshow": {
     "slide_type": "-"
    }
   },
   "source": [
    "~~~~html\n",
    "<!DOCTYPE html>\n",
    "<html lang=\"en\">\n",
    "<head>\n",
    "    <title>SOEN287 Web Programming</title>\n",
    "    <meta charset=\"utf-8\">\n",
    "    <meta name=\"viewport\" content=\"width=device-width, initial-scale=1\">\n",
    "    <link rel=\"stylesheet\" href=\"https://maxcdn.bootstrapcdn.com/bootstrap/4.3.1/css/bootstrap.min.css\">\n",
    "    <script src=\"https://ajax.googleapis.com/ajax/libs/jquery/3.4.1/jquery.min.js\"></script>\n",
    "    <script src=\"https://cdnjs.cloudflare.com/ajax/libs/popper.js/1.14.7/umd/popper.min.js\"></script>\n",
    "    <script src=\"https://maxcdn.bootstrapcdn.com/bootstrap/4.3.1/js/bootstrap.min.js\"></script>\n",
    "    <style>body {\n",
    "        padding-top: 50px\n",
    "    }</style>\n",
    "</head>\n",
    "<body>\n",
    "\n",
    "<nav class=\"navbar navbar-expand-md bg-dark navbar-dark fixed-top\">\n",
    "    <a class=\"navbar-brand\" href=\"\">SOEN287</a>\n",
    "    <button class=\"navbar-toggler\" type=\"button\" data-toggle=\"collapse\" data-target=\"#collapsibleNavbar\">\n",
    "        <span class=\"navbar-toggler-icon\"></span>\n",
    "    </button>\n",
    "    <div class=\"collapse navbar-collapse\" id=\"collapsibleNavbar\">\n",
    "        <ul class=\"navbar-nav\">\n",
    "            <li class=\"nav-item\">\n",
    "                <a class=\"nav-link\" href=\"/slides\">Slides</a>\n",
    "            </li>\n",
    "            <li class=\"nav-item\">\n",
    "                <a class=\"nav-link\" href=\"/documents\">Course Documents</a>\n",
    "            </li>\n",
    "            <li class=\"nav-item\">\n",
    "                <a class=\"nav-link\" href=\"/assignments\">Assignments</a>\n",
    "            </li>\n",
    "            <li class=\"nav-item\">\n",
    "                <a class=\"nav-link\" href=\"bs4_contact.html\">Contact</a>\n",
    "            </li>\n",
    "        </ul>\n",
    "    </div>\n",
    "</nav>\n",
    "<br>\n",
    "\n",
    "<div class=\"container\">\n",
    "    <h1>Welcome to the <em>SOEN287 Web Programming</em> course web site!</h1>\n",
    "    <p>This is a course taught at <a href=\"https://concordia.ca\">Concordia University</a> in Montreal, Canada.</p>\n",
    "    <p>Follow the links in the navigation bar for more details.</p>\n",
    "</div>\n",
    "\n",
    "</body>\n",
    "</html>\n",
    "~~~~"
   ]
  },
  {
   "cell_type": "markdown",
   "metadata": {
    "slideshow": {
     "slide_type": "subslide"
    }
   },
   "source": [
    "#### File `bs4_contact.html`\n",
    "- Same navbar as the previous example, but with a `<dl>` as the contents below the navbar\n",
    "- In general, the same (or almost the same) navbar will be in many different pages, if not all pages, of a website\n",
    "- It will not be pratical to copy and paste the common code for every file\n",
    "- Later (when covering Flask), we will see how to create HTML template files and use template inheritance to avoid having to copy and paste the same code in many HTML files"
   ]
  },
  {
   "cell_type": "markdown",
   "metadata": {
    "slideshow": {
     "slide_type": "subslide"
    }
   },
   "source": [
    "~~~~html\n",
    "<!DOCTYPE html>\n",
    "<html lang=\"en\">\n",
    "<head>\n",
    "    <title>SOEN287 Web Programming</title>\n",
    "    <meta charset=\"utf-8\">\n",
    "    <meta name=\"viewport\" content=\"width=device-width, initial-scale=1\">\n",
    "    <link rel=\"stylesheet\" href=\"https://maxcdn.bootstrapcdn.com/bootstrap/4.3.1/css/bootstrap.min.css\">\n",
    "    <script src=\"https://ajax.googleapis.com/ajax/libs/jquery/3.4.1/jquery.min.js\"></script>\n",
    "    <script src=\"https://cdnjs.cloudflare.com/ajax/libs/popper.js/1.14.7/umd/popper.min.js\"></script>\n",
    "    <script src=\"https://maxcdn.bootstrapcdn.com/bootstrap/4.3.1/js/bootstrap.min.js\"></script>\n",
    "    <style>body {\n",
    "        padding-top: 50px\n",
    "    }</style>\n",
    "</head>\n",
    "<body>\n",
    "\n",
    "<nav class=\"navbar navbar-expand-md bg-dark navbar-dark fixed-top\">\n",
    "    <a class=\"navbar-brand\" href=\"bs4_base.html\">SOEN287</a>\n",
    "    <button class=\"navbar-toggler\" type=\"button\" data-toggle=\"collapse\" data-target=\"#collapsibleNavbar\">\n",
    "        <span class=\"navbar-toggler-icon\"></span>\n",
    "    </button>\n",
    "    <div class=\"collapse navbar-collapse\" id=\"collapsibleNavbar\">\n",
    "        <ul class=\"navbar-nav\">\n",
    "            <li class=\"nav-item\">\n",
    "                <a class=\"nav-link\" href=\"/slides\">Slides</a>\n",
    "            </li>\n",
    "            <li class=\"nav-item\">\n",
    "                <a class=\"nav-link\" href=\"/documents\">Course Documents</a>\n",
    "            </li>\n",
    "            <li class=\"nav-item\">\n",
    "                <a class=\"nav-link\" href=\"/assignments\">Assignments</a>\n",
    "            </li>\n",
    "            <li class=\"nav-item\">\n",
    "                <a class=\"nav-link\" href=\"bs4_contact.html\">Contact</a>\n",
    "            </li>\n",
    "        </ul>\n",
    "    </div>\n",
    "</nav>\n",
    "<br>\n",
    "\n",
    "<div class=\"container\">\n",
    "    <h1>Contact</h1>\n",
    "    <dl class=\"row\">\n",
    "        <dt class=\"col-sm-3\">Professor</dt>\n",
    "        <dd class=\"col-sm-9\">Denis Rinfret</dd>\n",
    "\n",
    "        <dt class=\"col-sm-3\">Email</dt>\n",
    "        <dd class=\"col-sm-9\"><a href=\"mailto:denis.rinfret@concordia.ca\">mailto:denis.rinfret@concordia.ca</a></dd>\n",
    "\n",
    "        <dt class=\"col-sm-3\">Office</dt>\n",
    "        <dd class=\"col-sm-9\">EV3.217</dd>\n",
    "\n",
    "        <dt class=\"col-sm-3\">Office Hours</dt>\n",
    "        <dd class=\"col-sm-9\">To be announced (probably Wednesday and/or Friday morning)</dd>\n",
    "    </dl>\n",
    "</div>\n",
    "\n",
    "</body>\n",
    "</html>\n",
    "~~~~"
   ]
  }
 ],
 "metadata": {
  "celltoolbar": "Slideshow",
  "kernelspec": {
   "display_name": "Python 3",
   "language": "python",
   "name": "python3"
  },
  "language_info": {
   "codemirror_mode": {
    "name": "ipython",
    "version": 3
   },
   "file_extension": ".py",
   "mimetype": "text/x-python",
   "name": "python",
   "nbconvert_exporter": "python",
   "pygments_lexer": "ipython3",
   "version": "3.7.3"
  }
 },
 "nbformat": 4,
 "nbformat_minor": 2
}

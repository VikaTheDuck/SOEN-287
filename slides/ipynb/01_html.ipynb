{
 "cells": [
  {
   "cell_type": "markdown",
   "metadata": {
    "collapsed": true,
    "slideshow": {
     "slide_type": "slide"
    }
   },
   "source": [
    " # SOEN287 Web Programming\n",
    "## HTML: HyperText Markup Language\n",
    "### Author: Denis Rinfret \n"
   ]
  },
  {
   "cell_type": "markdown",
   "metadata": {
    "slideshow": {
     "slide_type": "subslide"
    }
   },
   "source": [
    "## Hello World Example\n",
    "~~~~html\n",
    "<!DOCTYPE html>\n",
    "<html lang=\"en\">\n",
    "<head>\n",
    "    <meta charset=\"UTF-8\">\n",
    "    <title>Hello SOEN287!</title>\n",
    "</head>\n",
    "<body>\n",
    "    <h1>Hello SOEN287!</h1>\n",
    "</body>\n",
    "</html>\n",
    "~~~~"
   ]
  },
  {
   "cell_type": "markdown",
   "metadata": {
    "slideshow": {
     "slide_type": "fragment"
    }
   },
   "source": [
    "### Output: `hello.html`\n",
    "<!DOCTYPE html>\n",
    "<html lang=\"en\">\n",
    "<head>\n",
    "    <meta charset=\"UTF-8\">\n",
    "    <title>Hello SOEN287!</title>\n",
    "</head>\n",
    "<body>\n",
    "    <h1>Hello SOEN287!</h1>\n",
    "</body>\n",
    "</html>"
   ]
  },
  {
   "cell_type": "markdown",
   "metadata": {
    "slideshow": {
     "slide_type": "subslide"
    }
   },
   "source": [
    "- An HTML document is a file containing *text* in a specific format\n",
    "- The file name extension is usually `.html`, or sometimes `.htm`\n",
    "- An HTML file can be edited with *any text editor*\n",
    "- Usually, a *web browser* is used to view an HTML document\n",
    "- HTML documents, along with *Cascading Style Sheets (CSS)*, *JavaScript* and other technologies, are used to build web sites"
   ]
  },
  {
   "cell_type": "markdown",
   "metadata": {
    "slideshow": {
     "slide_type": "slide"
    }
   },
   "source": [
    "## Introduction\n",
    "\n",
    "- A good source of information, used throughout this course among other resources, is the W3Schools [https://www.w3schools.com/html/html_intro.asp](https://www.w3schools.com/html/html_intro.asp)\n",
    "[![W3Schools](https://www.w3schools.com/images/w3schools200x60.gif)](https://www.w3schools.com/html/html_intro.asp)\n",
    "- Some sections, like this one, are based in part on the W3Schools tutorials and reference documents, while other sections are completely independent of the W3Schools"
   ]
  },
  {
   "cell_type": "markdown",
   "metadata": {
    "slideshow": {
     "slide_type": "subslide"
    }
   },
   "source": [
    "### What is HTML?\n",
    "\n",
    "HTML is the standard markup language for creating Web pages.\n",
    "- HTML stands for *Hyper Text Markup Language*\n",
    "- HTML describes the *structure* of Web pages using *markup*\n",
    "- HTML *elements* are the building blocks of HTML pages\n",
    "- HTML elements are represented by *tags*\n",
    "- HTML tags label pieces of content such as *heading*, *paragraph*, *table*, and so on\n",
    "- *Browsers* do not display the HTML tags, but use them to *render* the content of the page\n",
    "\n",
    "![W3Schools](https://www.w3schools.com/images/w3schools80x15.gif)"
   ]
  },
  {
   "cell_type": "markdown",
   "metadata": {
    "slideshow": {
     "slide_type": "subslide"
    }
   },
   "source": [
    "### HTML Versions\n",
    "\n",
    "Since the early days of the web, there have been many versions of HTML:\n",
    "\n",
    "| Version | Year|\n",
    "|---------|-----|\n",
    "| HTML | 1991 |\n",
    "| HTML 2.0 | 1995 |\n",
    "| HTML 3.2 | 1997 |\n",
    "| HTML 4.01 | 1999 |\n",
    "| XHTML | 2000 |\n",
    "| HTML5 | 2014 |\n",
    "\n",
    "![W3Schools](https://www.w3schools.com/images/w3schools80x15.gif)"
   ]
  },
  {
   "cell_type": "markdown",
   "metadata": {
    "slideshow": {
     "slide_type": "subslide"
    }
   },
   "source": [
    "### A Simple HTML Document\n",
    "~~~~html\n",
    "<!DOCTYPE html>\n",
    "<html>\n",
    "<head>\n",
    "    <title>Page Title</title>\n",
    "</head>\n",
    "<body>\n",
    "<h1>My First Heading</h1>\n",
    "<p>My first paragraph.</p>\n",
    "</body>\n",
    "</html>\n",
    "~~~~\n",
    "\n",
    "![W3Schools](https://www.w3schools.com/images/w3schools80x15.gif)"
   ]
  },
  {
   "cell_type": "markdown",
   "metadata": {
    "slideshow": {
     "slide_type": "subslide"
    }
   },
   "source": [
    "### Output: `intro.html`\n",
    "<!DOCTYPE html>\n",
    "<html>\n",
    "<head>\n",
    "    <title>Page Title</title>\n",
    "</head>\n",
    "<body>\n",
    "\n",
    "<h1>My First Heading</h1>\n",
    "<p>My first paragraph.</p>\n",
    "\n",
    "</body>\n",
    "</html>"
   ]
  },
  {
   "cell_type": "markdown",
   "metadata": {
    "slideshow": {
     "slide_type": "subslide"
    }
   },
   "source": [
    "### Example Explained\n",
    "\n",
    "- The `<!DOCTYPE html>` declaration defines this document to be *HTML5*\n",
    "- The `<html>` element is the *root* element of an HTML page\n",
    "- The `<head>` element contains *meta* information about the document\n",
    "- The `<title>` element specifies a *title* for the document\n",
    "- The `<body>` element contains the *visible page content*\n",
    "- The `<h1>` element defines a *large heading*\n",
    "- The `<p>` element defines a *paragraph*\n",
    "\n",
    "![W3Schools](https://www.w3schools.com/images/w3schools80x15.gif)"
   ]
  },
  {
   "cell_type": "markdown",
   "metadata": {
    "slideshow": {
     "slide_type": "subslide"
    }
   },
   "source": [
    "### HTML Tags\n",
    "\n",
    "- HTML tags are element names surrounded by angle brackets:\n",
    "~~~~html\n",
    "<tagname>content goes here...</tagname>\n",
    "~~~~\n",
    "\n",
    "- HTML tags normally come in pairs like `<p>` and `</p>`\n",
    "- The first tag in a pair is the *start tag*, the second tag is the *end tag*\n",
    "- The end tag is written like the start tag, but with a *forward slash* inserted before the tag name\n",
    "\n",
    "![W3Schools](https://www.w3schools.com/images/w3schools80x15.gif)"
   ]
  },
  {
   "cell_type": "markdown",
   "metadata": {
    "slideshow": {
     "slide_type": "subslide"
    }
   },
   "source": [
    "### Do Not Forget the End Tag\n",
    "Some HTML elements will display correctly, even if you forget the end tag:\n",
    "\n",
    "Example:\n",
    "~~~~html\n",
    "<html>\n",
    "<body>\n",
    "\n",
    "<p>This is a paragraph\n",
    "<p>This is a paragraph\n",
    "\n",
    "</body>\n",
    "</html>\n",
    "~~~~\n"
   ]
  },
  {
   "cell_type": "markdown",
   "metadata": {
    "slideshow": {
     "slide_type": "fragment"
    }
   },
   "source": [
    "- The previous example works in all browsers, because the closing tag is considered optional.\n",
    "\n",
    "- **Never rely on this. It might produce unexpected results and/or errors if you forget the end tag**.\n",
    "\n",
    "![W3Schools](https://www.w3schools.com/images/w3schools80x15.gif)"
   ]
  },
  {
   "cell_type": "markdown",
   "metadata": {
    "slideshow": {
     "slide_type": "subslide"
    }
   },
   "source": [
    "### Empty HTML Elements\n",
    "- HTML elements with no content are called empty elements.\n",
    "\n",
    "- `<br>` is an empty element without a closing tag\n",
    "\n",
    "- Example:\n",
    "~~~~html\n",
    "<p>This is a <br> paragraph with a line break.</p>\n",
    "~~~~\n",
    "\n",
    "- Empty elements can be *closed* in the opening tag like this: `<br />`.\n",
    "\n",
    "- HTML5 does not require empty elements to be closed. But if you want stricter validation, or if you need to make your document readable by XML parsers, you must close all HTML elements properly.\n",
    "\n",
    "![W3Schools](https://www.w3schools.com/images/w3schools80x15.gif)"
   ]
  },
  {
   "cell_type": "markdown",
   "metadata": {
    "slideshow": {
     "slide_type": "subslide"
    }
   },
   "source": [
    "### Use Lowercase Tags\n",
    "\n",
    "- HTML tags are not case sensitive: `<P>` means the same as `<p>`.\n",
    "\n",
    "- The HTML5 standard does not require lowercase tags, but W3C *recommends lowercase in HTML*, and demands lowercase for stricter document types like XHTML.\n",
    "\n",
    "![W3Schools](https://www.w3schools.com/images/w3schools80x15.gif)"
   ]
  },
  {
   "cell_type": "markdown",
   "metadata": {
    "slideshow": {
     "slide_type": "slide"
    }
   },
   "source": [
    "## Editors\n",
    "\n",
    "- Use any text editor to edit HTML documents, such as\n",
    "    - SublimeText\n",
    "    - Brackets\n",
    "    - Notepad++\n",
    "    - Visual Studio Code\n",
    "    - and many others...\n",
    "\n",
    "- Because we will do server-side programming in Python later on in the course, and that we will be using the PyCharm IDE from JetBrains for that part of the course, it's a good idea to start using PyCharm immediately.\n",
    "\n",
    "- Save your files with the `.html` extension, preferably using the *UTF-8* encoding."
   ]
  },
  {
   "cell_type": "markdown",
   "metadata": {
    "slideshow": {
     "slide_type": "subslide"
    }
   },
   "source": [
    "## PyCharm\n",
    "\n",
    "- Download PyCharm from [JetBrains.com](https://www.jetbrains.com/pycharm/download/)\n",
    "- Choose the *Professional* version.\n",
    "- Apply for a *Student* license [here](https://www.jetbrains.com/student/)\n",
    "- Use your *university email address* to apply\n",
    "- Or you can use your GitHub account if you already have a [GitHub Student Developer Pack](https://education.github.com/pack)\n",
    "- If you are already using another JetBtains IDE, such as IntelliJ IDEA, you can install the Python plugin, which will enable most of the PyCharm functionality"
   ]
  },
  {
   "cell_type": "markdown",
   "metadata": {
    "slideshow": {
     "slide_type": "slide"
    }
   },
   "source": [
    "## Examples\n",
    "1. `profile1.html`\n",
    "1. `profile2.html`\n",
    "1. `links.html`\n",
    "1. `lists.html`\n",
    "1. `table1.html`\n",
    "1. `table2.html`"
   ]
  },
  {
   "cell_type": "markdown",
   "metadata": {
    "slideshow": {
     "slide_type": "slide"
    }
   },
   "source": [
    "### `Pre` Element\n",
    "\n",
    "The `p` element doesn't preserve whitespaces, but the `pre` element does. The font styles are also different.\n",
    "\n",
    "~~~html\n",
    "<p>Whitespaces are       not \n",
    "    preserved\n",
    "in a paragraph, but are preserved \n",
    "            in a pre element.</p>\n",
    "~~~"
   ]
  },
  {
   "cell_type": "markdown",
   "metadata": {
    "slideshow": {
     "slide_type": "fragment"
    }
   },
   "source": [
    "#### Output:\n",
    "<p>Whitespaces are       not \n",
    "    preserved\n",
    "in a paragraph, but are preserved \n",
    "            in a pre element.</p>"
   ]
  },
  {
   "cell_type": "markdown",
   "metadata": {
    "slideshow": {
     "slide_type": "subslide"
    }
   },
   "source": [
    "~~~html\n",
    "<pre>Whitespaces are       not \n",
    "    preserved\n",
    "in a paragraph, but are preserved \n",
    "            in a pre element.</pre>\n",
    "~~~"
   ]
  },
  {
   "cell_type": "markdown",
   "metadata": {
    "slideshow": {
     "slide_type": "fragment"
    }
   },
   "source": [
    "#### Output:\n",
    "<pre>Whitespaces are       not \n",
    "    preserved\n",
    "in a paragraph, but are preserved \n",
    "            in a pre element.</pre>"
   ]
  },
  {
   "cell_type": "markdown",
   "metadata": {
    "slideshow": {
     "slide_type": "subslide"
    }
   },
   "source": [
    "### Code\n",
    "`code` is similar to `pre`, but doesn't preserve whitespaces by default, and could have different styles\n",
    "    applied to it. To preserve whitespaces in `code`, surround it with a `pre`, or apply some CSS rules to preserve whitespaces.\n",
    "~~~html\n",
    "<pre>\n",
    "<code>\n",
    "hello        =     \"Hello, SOEN287!\"\n",
    "print(hello)\n",
    "</code>\n",
    "</pre>\n",
    "~~~"
   ]
  },
  {
   "cell_type": "markdown",
   "metadata": {
    "slideshow": {
     "slide_type": "fragment"
    }
   },
   "source": [
    "#### Output:\n",
    "<pre>\n",
    "<code>\n",
    "hello        =     \"Hello, SOEN287!\"\n",
    "print(hello)\n",
    "</code>\n",
    "</pre>"
   ]
  },
  {
   "cell_type": "markdown",
   "metadata": {
    "slideshow": {
     "slide_type": "subslide"
    }
   },
   "source": [
    "### Entities\n",
    "How to display a *less than* character <, either in a code section or elsewhere? Use an entity.\n",
    "~~~html\n",
    "<pre>\n",
    "<code>\n",
    "x = 5\n",
    "if x &lt; 10:\n",
    "    print(x)\n",
    "</code>\n",
    "</pre>\n",
    "~~~"
   ]
  },
  {
   "cell_type": "markdown",
   "metadata": {
    "slideshow": {
     "slide_type": "fragment"
    }
   },
   "source": [
    "#### Output:\n",
    "<pre>\n",
    "<code>\n",
    "x = 5\n",
    "if x &lt; 10:\n",
    "    print(x)\n",
    "</code>\n",
    "</pre>"
   ]
  },
  {
   "cell_type": "markdown",
   "metadata": {
    "slideshow": {
     "slide_type": "subslide"
    }
   },
   "source": [
    "### Other Symbols\n",
    "\n",
    "There are too many symbols to list them all. Examples:\n",
    "- `&euro;` &euro; \n",
    "- `&alpha;` &alpha;\n",
    "- `&copy;` &copy;\n",
    "- `&hearts;` &hearts;"
   ]
  },
  {
   "cell_type": "markdown",
   "metadata": {
    "slideshow": {
     "slide_type": "slide"
    }
   },
   "source": [
    "## URL - Uniform Resource Locator\n",
    "\n",
    "- A URL is another word for a web address.\n",
    "- A URL can be composed of words (w3schools.com), or an Internet Protocol (IP) address (192.68.20.50).\n",
    "- Most people enter the name when surfing, because names are easier to remember than numbers.\n",
    "- Web browsers request pages from web servers by using a URL.\n",
    "- A Uniform Resource Locator (URL) is used to address a document (or other data) on the web.\n",
    "\n",
    "![W3Schools](https://www.w3schools.com/images/w3schools80x15.gif)"
   ]
  },
  {
   "cell_type": "markdown",
   "metadata": {
    "slideshow": {
     "slide_type": "subslide"
    }
   },
   "source": [
    "A web address like https://www.w3schools.com/html/default.asp follows these syntax rules:\n",
    "\n",
    "> **scheme://prefix.domain:port/path/filename**\n",
    "\n",
    "- **scheme**: defines the type of Internet service (most common is http or https)\n",
    "- **prefix**: defines a domain prefix (default for http is www)\n",
    "- **domain**: defines the Internet domain name (like w3schools.com)\n",
    "- **port**: defines the port number at the host (default for http is 80)\n",
    "- **path**: defines a path at the server (If omitted: the root directory of the site)\n",
    "- **filename**: defines the name of a document or resource\n",
    "\n",
    "![W3Schools](https://www.w3schools.com/images/w3schools80x15.gif)"
   ]
  },
  {
   "cell_type": "markdown",
   "metadata": {
    "slideshow": {
     "slide_type": "slide"
    }
   },
   "source": [
    "## HTML Validator\n",
    "- Valid HTML code should render correctly in all modern browsers\n",
    "- Invalid HTML code might render correctly if you are lucky, or possibly render into something unreadable\n",
    "- Validate your HTML code using the [W3C Validator](https://validator.w3.org/nu/)\n",
    "- Errors are problematic. You should get rid of all errors\n",
    "- Warnings should not create any rendering issues, but it is better to get rid of warnings if possible"
   ]
  },
  {
   "cell_type": "markdown",
   "metadata": {
    "slideshow": {
     "slide_type": "slide"
    }
   },
   "source": [
    "## Readings and Resources\n",
    "\n",
    "1. [W3Schools HTML5 Tutorial](https://www.w3schools.com/html/default.asp)\n",
    "    - HTML sections *HOME* to *Lists*\n",
    "    - Skip (for now) sections *Styles*, *Colors* and *CSS*, and also the parts in other scetions referring to these 3 sections\n",
    "    - *Cascading Style Sheets (CSS)* will be covered later\n",
    "    - Sections *Computercode* to *Charset*\n",
    "    - HTML *Forms* will be covered later\n",
    "    - HTML5 sections *Intro*, *New Elements*, *Semantics* and *Style Guide*\n",
    "2. [W3Schools HTML Reference](https://www.w3schools.com/tags/default.asp)\n",
    "    - Don't worry, you will not have to memorize all these HTML tags, attributes, etc...\n",
    "    - But it's a good resource to use to discover new tags or to refresh your memory"
   ]
  }
 ],
 "metadata": {
  "celltoolbar": "Slideshow",
  "kernelspec": {
   "display_name": "Python 3",
   "language": "python",
   "name": "python3"
  },
  "language_info": {
   "codemirror_mode": {
    "name": "ipython",
    "version": 3
   },
   "file_extension": ".py",
   "mimetype": "text/x-python",
   "name": "python",
   "nbconvert_exporter": "python",
   "pygments_lexer": "ipython3",
   "version": "3.7.3"
  }
 },
 "nbformat": 4,
 "nbformat_minor": 1
}

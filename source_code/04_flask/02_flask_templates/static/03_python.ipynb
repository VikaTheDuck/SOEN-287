{
 "cells": [
  {
   "cell_type": "markdown",
   "metadata": {
    "slideshow": {
     "slide_type": "slide"
    }
   },
   "source": [
    "# SOEN287 Web Programming\n",
    "## Introduction to Python\n",
    "### Author: Denis Rinfret "
   ]
  },
  {
   "cell_type": "markdown",
   "metadata": {
    "slideshow": {
     "slide_type": "subslide"
    }
   },
   "source": [
    "## About Python\n",
    "\n",
    "> Python is powerful... and fast; \n",
    "plays well with others; \n",
    "runs everywhere; \n",
    "is friendly & easy to learn; \n",
    "is Open.\n",
    "\n",
    "> These are some of the reasons people who use Python would rather not use anything else.\n",
    "\n",
    "https://www.python.org/about/ \n",
    "[![python.org](https://www.python.org/static/img/python-logo.png)](https://www.python.org/)"
   ]
  },
  {
   "cell_type": "markdown",
   "metadata": {
    "slideshow": {
     "slide_type": "subslide"
    }
   },
   "source": [
    "## Getting Started\n",
    "\n",
    "Python can be easy to pick up whether you're a first time programmer or you're experienced with other languages.\n",
    "\n",
    "- [Beginner's Guide, Programmers](https://wiki.python.org/moin/BeginnersGuide/Programmers)\n",
    "- [Beginner's Guide, Non-Programmers](https://wiki.python.org/moin/BeginnersGuide/NonProgrammers)\n",
    "- [Beginner's Guide, Download & Installation](https://wiki.python.org/moin/BeginnersGuide/Download)\n",
    "- [Code sample and snippets for Beginners](https://wiki.python.org/moin/BeginnersGuide/Examples)\n",
    "\n",
    "![python.org](https://www.python.org/static/community_logos/python-powered-w-70x28.png)"
   ]
  },
  {
   "cell_type": "markdown",
   "metadata": {
    "slideshow": {
     "slide_type": "subslide"
    }
   },
   "source": [
    "### Friendly & Easy to Learn\n",
    "\n",
    "- The community hosts conferences and meetups, collaborates on code, and much more. \n",
    "- Python's documentation will help you along the way, and the mailing lists will keep you in touch."
   ]
  },
  {
   "cell_type": "markdown",
   "metadata": {
    "slideshow": {
     "slide_type": "fragment"
    }
   },
   "source": [
    "### Open-source\n",
    "\n",
    "- Python is developed under an OSI-approved open source license, making it freely usable and distributable, even for commercial use. \n",
    "- Python's license is administered by the Python Software Foundation.\n",
    "\n",
    "![python.org](https://www.python.org/static/community_logos/python-powered-w-70x28.png)"
   ]
  },
  {
   "cell_type": "markdown",
   "metadata": {
    "slideshow": {
     "slide_type": "subslide"
    }
   },
   "source": [
    "### Applications\n",
    "\n",
    "- The Python Package Index (PyPI) hosts thousands of third-party modules for Python. \n",
    "- Both Python's standard library and the community-contributed modules allow for endless possibilities:\n",
    "    - Web and Internet Development\n",
    "    - Database Access\n",
    "    - Desktop GUIs\n",
    "    - Scientific & Numeric\n",
    "    - Education\n",
    "    - Network Programming\n",
    "    - Software & Game Development\n",
    "    \n",
    "![python.org](https://www.python.org/static/community_logos/python-powered-w-70x28.png)"
   ]
  },
  {
   "cell_type": "markdown",
   "metadata": {
    "slideshow": {
     "slide_type": "subslide"
    }
   },
   "source": [
    "### Python Version\n",
    "\n",
    "- Any python version 3.5 or higher will work for this course\n",
    "- It should already be installed if you use any Linux distribution or MacOS\n",
    "- On Windows, download the latest stable version from here: https://www.python.org/downloads/"
   ]
  },
  {
   "cell_type": "markdown",
   "metadata": {
    "slideshow": {
     "slide_type": "subslide"
    }
   },
   "source": [
    "### PyCharm IDE\n",
    "\n",
    "- You should use the PyCharm IDE, professional version, available from https://www.jetbrains.com/pycharm/download/, as explained earlier\n",
    "- *Reminder*:\n",
    "    - Download PyCharm from [JetBrains.com](https://www.jetbrains.com/pycharm/download/)\n",
    "    - Choose the *Professional* version.\n",
    "    - Apply for a *Student* license [here](https://www.jetbrains.com/student/)\n",
    "    - Use your *university email address* to apply\n",
    "    - Or you can use your GitHub account if you already have a [GitHub Student Developer Pack](https://education.github.com/pack)\n",
    "- You can use another IDE or text editor, but it might be harder to follow the presentations and it might be harder to get help from the professor and from the tutors\n",
    "- If you are already using another JetBtains IDE, such as IntelliJ IDEA, you can install the Python plugin, which will enable most of the PyCharm functionality"
   ]
  },
  {
   "cell_type": "markdown",
   "metadata": {
    "slideshow": {
     "slide_type": "slide"
    }
   },
   "source": [
    "## First Python Program"
   ]
  },
  {
   "cell_type": "code",
   "execution_count": 1,
   "metadata": {
    "slideshow": {
     "slide_type": "-"
    }
   },
   "outputs": [
    {
     "name": "stdout",
     "output_type": "stream",
     "text": [
      "Hello, SOEN287!\n"
     ]
    }
   ],
   "source": [
    "print(\"Hello, SOEN287!\")"
   ]
  },
  {
   "cell_type": "markdown",
   "metadata": {
    "slideshow": {
     "slide_type": "fragment"
    }
   },
   "source": [
    "- Python is a scripting language\n",
    "- it is interpreted and dynamically typed\n",
    "- proper indentation is a must\n",
    "    - no curly brackets `{}` for blocks of code\n",
    "    - no semi-colon at the end of a statement or line\n",
    "- Python supports *procedural* and *Object-Oriented* programming styles, as well as many *functional* programming constructs"
   ]
  },
  {
   "cell_type": "markdown",
   "metadata": {
    "slideshow": {
     "slide_type": "subslide"
    }
   },
   "source": [
    "### Strings\n",
    "\n",
    "String literals in Python can be defined with a pair of double quotes, single quotes, triple double quotes or triple single quotes."
   ]
  },
  {
   "cell_type": "code",
   "execution_count": 2,
   "metadata": {
    "slideshow": {
     "slide_type": "-"
    }
   },
   "outputs": [],
   "source": [
    "str1 = \"a string with double quotes\"\n",
    "str2 = 'a string with single quotes'\n",
    "str3 = \"\"\"a string with triple double quotes\"\"\"\n",
    "str4 = '''a string with triple single quotes'''"
   ]
  },
  {
   "cell_type": "markdown",
   "metadata": {
    "slideshow": {
     "slide_type": "subslide"
    }
   },
   "source": [
    "Triple double and triple single quoted strings can be multi-line strings."
   ]
  },
  {
   "cell_type": "code",
   "execution_count": 3,
   "metadata": {
    "slideshow": {
     "slide_type": "-"
    }
   },
   "outputs": [],
   "source": [
    "str3 = \"\"\"a string with\n",
    "triple double quotes\"\"\"\n",
    "str4 = '''a string\n",
    "with triple \n",
    "single quotes'''"
   ]
  },
  {
   "cell_type": "markdown",
   "metadata": {
    "slideshow": {
     "slide_type": "subslide"
    }
   },
   "source": [
    "### Variables\n",
    "\n",
    "- Variables don't need to be declared with a type\n",
    "- Simply assign to a variable to create it\n",
    "- If already created, the assignment will replace the old value by a new one"
   ]
  },
  {
   "cell_type": "code",
   "execution_count": 4,
   "metadata": {
    "slideshow": {
     "slide_type": "fragment"
    }
   },
   "outputs": [],
   "source": [
    "x = 5 # creates a new variable and assigns 5 to it\n",
    "x = 10 # replaces the value 5 in x by the value 10"
   ]
  },
  {
   "cell_type": "markdown",
   "metadata": {
    "slideshow": {
     "slide_type": "subslide"
    }
   },
   "source": [
    "### Variable Types\n",
    "\n",
    "- Variables don't have types in Python\n",
    "- All variables actually hold references to some object\n",
    "- The objects referred to by the variables have a type, but the variables themselves don't have a type"
   ]
  },
  {
   "cell_type": "code",
   "execution_count": 5,
   "metadata": {
    "slideshow": {
     "slide_type": "fragment"
    }
   },
   "outputs": [],
   "source": [
    "name = \"Denis\"\n",
    "name = 4"
   ]
  },
  {
   "cell_type": "markdown",
   "metadata": {
    "slideshow": {
     "slide_type": "fragment"
    }
   },
   "source": [
    "- The code above is legal, although assigning the integer `4` to a variable `name` doesn't make much sense"
   ]
  },
  {
   "cell_type": "markdown",
   "metadata": {
    "slideshow": {
     "slide_type": "subslide"
    }
   },
   "source": [
    "### Integers and Floating-Point Numbers\n",
    "- Be careful, Python doesn't handle division between integers the same way as most other programming languages"
   ]
  },
  {
   "cell_type": "code",
   "execution_count": 6,
   "metadata": {
    "slideshow": {
     "slide_type": "fragment"
    }
   },
   "outputs": [
    {
     "name": "stdout",
     "output_type": "stream",
     "text": [
      "3.3333333333333335\n"
     ]
    }
   ],
   "source": [
    "print(10 / 3)"
   ]
  },
  {
   "cell_type": "markdown",
   "metadata": {
    "slideshow": {
     "slide_type": "fragment"
    }
   },
   "source": [
    "- The single slash `/` is actually a *float* division in Python, even though both operands are integers\n",
    "- Use the double slash `//` to get an integer division\n",
    "- Use can use the modulo operator `%` to get the remainder"
   ]
  },
  {
   "cell_type": "code",
   "execution_count": 7,
   "metadata": {
    "slideshow": {
     "slide_type": "fragment"
    }
   },
   "outputs": [
    {
     "name": "stdout",
     "output_type": "stream",
     "text": [
      "3 1\n"
     ]
    }
   ],
   "source": [
    "print(10 // 3, 10 % 3)"
   ]
  },
  {
   "cell_type": "markdown",
   "metadata": {
    "slideshow": {
     "slide_type": "subslide"
    }
   },
   "source": [
    "- Integers in Python are *infinite precision* integers\n",
    "- They will not overflow like in most other progamming languages"
   ]
  },
  {
   "cell_type": "code",
   "execution_count": 8,
   "metadata": {
    "slideshow": {
     "slide_type": "-"
    }
   },
   "outputs": [
    {
     "name": "stdout",
     "output_type": "stream",
     "text": [
      "1267650600228229401496703205376\n",
      "0x10000000000000000000000000\n"
     ]
    }
   ],
   "source": [
    "# the double star ** is the power (or exponent) operator\n",
    "x = 2 ** 100\n",
    "print(x)\n",
    "# the hex() function converts an integer into an hexadecimal string\n",
    "print(hex(x))"
   ]
  },
  {
   "cell_type": "markdown",
   "metadata": {
    "slideshow": {
     "slide_type": "slide"
    }
   },
   "source": [
    "## Lists\n",
    "\n",
    "- There are no arrays in the core Python programming language\n",
    "- Instead, we use lists to get similar functionality\n",
    "- Arrays can be faster than lists in some cases, but lists are more convenient in many (even most) cases"
   ]
  },
  {
   "cell_type": "code",
   "execution_count": 9,
   "metadata": {
    "slideshow": {
     "slide_type": "fragment"
    }
   },
   "outputs": [
    {
     "name": "stdout",
     "output_type": "stream",
     "text": [
      "[88, 52, 69, 100, 89, 78, 95, 75]\n",
      "69\n",
      "[90, 52, 69, 100, 89, 78, 95, 75]\n"
     ]
    }
   ],
   "source": [
    "scores = [88, 52, 69, 100, 89, 78, 95, 75]\n",
    "print(scores)\n",
    "print(scores[2])\n",
    "scores[0] = 90\n",
    "print(scores)"
   ]
  },
  {
   "cell_type": "markdown",
   "metadata": {
    "slideshow": {
     "slide_type": "subslide"
    }
   },
   "source": [
    "#### Out of bounds indexes"
   ]
  },
  {
   "cell_type": "code",
   "execution_count": 10,
   "metadata": {
    "slideshow": {
     "slide_type": "-"
    }
   },
   "outputs": [
    {
     "ename": "IndexError",
     "evalue": "list index out of range",
     "output_type": "error",
     "traceback": [
      "\u001b[0;31m---------------------------------------------------------------------------\u001b[0m",
      "\u001b[0;31mIndexError\u001b[0m                                Traceback (most recent call last)",
      "\u001b[0;32m<ipython-input-10-928d2dfbdeac>\u001b[0m in \u001b[0;36m<module>\u001b[0;34m\u001b[0m\n\u001b[0;32m----> 1\u001b[0;31m \u001b[0mprint\u001b[0m\u001b[0;34m(\u001b[0m\u001b[0mscores\u001b[0m\u001b[0;34m[\u001b[0m\u001b[0;36m100\u001b[0m\u001b[0;34m]\u001b[0m\u001b[0;34m)\u001b[0m\u001b[0;34m\u001b[0m\u001b[0m\n\u001b[0m",
      "\u001b[0;31mIndexError\u001b[0m: list index out of range"
     ]
    }
   ],
   "source": [
    "print(scores[100])"
   ]
  },
  {
   "cell_type": "code",
   "execution_count": 11,
   "metadata": {
    "slideshow": {
     "slide_type": "subslide"
    }
   },
   "outputs": [
    {
     "name": "stdout",
     "output_type": "stream",
     "text": [
      "75\n"
     ]
    }
   ],
   "source": [
    "# negative indexes start from the end\n",
    "print(scores[-1])"
   ]
  },
  {
   "cell_type": "code",
   "execution_count": 12,
   "metadata": {
    "slideshow": {
     "slide_type": "fragment"
    }
   },
   "outputs": [
    {
     "ename": "IndexError",
     "evalue": "list index out of range",
     "output_type": "error",
     "traceback": [
      "\u001b[0;31m---------------------------------------------------------------------------\u001b[0m",
      "\u001b[0;31mIndexError\u001b[0m                                Traceback (most recent call last)",
      "\u001b[0;32m<ipython-input-12-a2344b221d15>\u001b[0m in \u001b[0;36m<module>\u001b[0;34m\u001b[0m\n\u001b[0;32m----> 1\u001b[0;31m \u001b[0mprint\u001b[0m\u001b[0;34m(\u001b[0m\u001b[0mscores\u001b[0m\u001b[0;34m[\u001b[0m\u001b[0;34m-\u001b[0m\u001b[0;36m100\u001b[0m\u001b[0;34m]\u001b[0m\u001b[0;34m)\u001b[0m\u001b[0;34m\u001b[0m\u001b[0m\n\u001b[0m",
      "\u001b[0;31mIndexError\u001b[0m: list index out of range"
     ]
    }
   ],
   "source": [
    "print(scores[-100])"
   ]
  },
  {
   "cell_type": "markdown",
   "metadata": {
    "slideshow": {
     "slide_type": "subslide"
    }
   },
   "source": [
    "### Sublists"
   ]
  },
  {
   "cell_type": "code",
   "execution_count": 13,
   "metadata": {
    "slideshow": {
     "slide_type": "-"
    }
   },
   "outputs": [
    {
     "name": "stdout",
     "output_type": "stream",
     "text": [
      "[90, 52, 69, 100, 89, 78, 95, 75]\n",
      "[69, 100, 89, 78]\n"
     ]
    }
   ],
   "source": [
    "print(scores)\n",
    "# the first index is inclusive\n",
    "# the second index is exclusive\n",
    "print(scores[2:6])   "
   ]
  },
  {
   "cell_type": "code",
   "execution_count": 14,
   "metadata": {
    "slideshow": {
     "slide_type": "fragment"
    }
   },
   "outputs": [
    {
     "name": "stdout",
     "output_type": "stream",
     "text": [
      "[90, 52, 69, 100, 89, 78]\n"
     ]
    }
   ],
   "source": [
    "print(scores[:6])    # missing first index defaults to 0"
   ]
  },
  {
   "cell_type": "code",
   "execution_count": 15,
   "metadata": {
    "slideshow": {
     "slide_type": "fragment"
    }
   },
   "outputs": [
    {
     "name": "stdout",
     "output_type": "stream",
     "text": [
      "[69, 100, 89, 78, 95, 75]\n"
     ]
    }
   ],
   "source": [
    "print(scores[2:])    # missing second index defaults to len(scores)"
   ]
  },
  {
   "cell_type": "code",
   "execution_count": 16,
   "metadata": {
    "slideshow": {
     "slide_type": "subslide"
    }
   },
   "outputs": [
    {
     "name": "stdout",
     "output_type": "stream",
     "text": [
      "[90, 52, 69, 100, 89, 78, 95]\n"
     ]
    }
   ],
   "source": [
    "print(scores[:-1])    # can use negative indexes too"
   ]
  },
  {
   "cell_type": "code",
   "execution_count": 17,
   "metadata": {
    "slideshow": {
     "slide_type": "fragment"
    }
   },
   "outputs": [
    {
     "name": "stdout",
     "output_type": "stream",
     "text": [
      "[69, 89]\n"
     ]
    }
   ],
   "source": [
    "print(scores[2:6:2])    # the third index is the step; defaults to 1"
   ]
  },
  {
   "cell_type": "markdown",
   "metadata": {
    "slideshow": {
     "slide_type": "subslide"
    }
   },
   "source": [
    "#### Exercises\n",
    "1. How do you get a sublist with only the elements with an **even** index value?\n",
    "1. How do you get a sublist with only the elements with an **odd** index value?"
   ]
  },
  {
   "cell_type": "code",
   "execution_count": 18,
   "metadata": {},
   "outputs": [
    {
     "name": "stdout",
     "output_type": "stream",
     "text": [
      "[90, 52, 69, 100, 89, 78, 95, 75]\n"
     ]
    }
   ],
   "source": [
    "print(scores)"
   ]
  },
  {
   "cell_type": "markdown",
   "metadata": {
    "slideshow": {
     "slide_type": "slide"
    }
   },
   "source": [
    "## Loops and Conditionals\n",
    "\n",
    "### Counted Loops with Index Variable in a Range of Values"
   ]
  },
  {
   "cell_type": "code",
   "execution_count": 19,
   "metadata": {
    "slideshow": {
     "slide_type": "-"
    }
   },
   "outputs": [
    {
     "name": "stdout",
     "output_type": "stream",
     "text": [
      "0\n",
      "1\n",
      "2\n",
      "3\n",
      "4\n"
     ]
    }
   ],
   "source": [
    "for i in range(5):    # 0 (inclusive) to 5 (exclusive)\n",
    "    print(i)"
   ]
  },
  {
   "cell_type": "markdown",
   "metadata": {
    "slideshow": {
     "slide_type": "subslide"
    }
   },
   "source": [
    "- The colon `:` is mandatory, it denotes the start of a block\n",
    "- Blocks must be indented\n",
    "- To end a block, simply *unindent* the first statement outside and after the block"
   ]
  },
  {
   "cell_type": "code",
   "execution_count": 20,
   "metadata": {
    "slideshow": {
     "slide_type": "-"
    }
   },
   "outputs": [
    {
     "name": "stdout",
     "output_type": "stream",
     "text": [
      "0\n",
      "1\n",
      "2\n",
      "3\n",
      "4\n",
      "Done!\n"
     ]
    }
   ],
   "source": [
    "for i in range(5):    # 0 (inclusive) to 5 (exclusive)\n",
    "    print(i)\n",
    "print(\"Done!\")        # What happens if you indent this statement?"
   ]
  },
  {
   "cell_type": "code",
   "execution_count": 21,
   "metadata": {
    "slideshow": {
     "slide_type": "subslide"
    }
   },
   "outputs": [
    {
     "name": "stdout",
     "output_type": "stream",
     "text": [
      "3\n",
      "4\n",
      "5\n",
      "6\n",
      "7\n",
      "8\n",
      "9\n"
     ]
    }
   ],
   "source": [
    "for i in range(3, 10):    # 3 (inclusive) to 10 (exclusive)\n",
    "    print(i)"
   ]
  },
  {
   "cell_type": "code",
   "execution_count": 22,
   "metadata": {
    "slideshow": {
     "slide_type": "subslide"
    }
   },
   "outputs": [
    {
     "name": "stdout",
     "output_type": "stream",
     "text": [
      "3\n",
      "5\n",
      "7\n",
      "9\n"
     ]
    }
   ],
   "source": [
    "# 3 (inclusive) to 10 (exclusive), steps of 2\n",
    "for i in range(3, 10, 2):\n",
    "    print(i)"
   ]
  },
  {
   "cell_type": "code",
   "execution_count": 23,
   "metadata": {
    "slideshow": {
     "slide_type": "subslide"
    }
   },
   "outputs": [
    {
     "name": "stdout",
     "output_type": "stream",
     "text": [
      "10\n",
      "8\n",
      "6\n",
      "4\n"
     ]
    }
   ],
   "source": [
    "# 10 (inclusive) to 3 (exclusive), steps of -2\n",
    "for i in range(10, 3, -2):\n",
    "    print(i)"
   ]
  },
  {
   "cell_type": "code",
   "execution_count": 24,
   "metadata": {
    "slideshow": {
     "slide_type": "subslide"
    }
   },
   "outputs": [],
   "source": [
    "# 10 (inclusive) to 3 (exclusive), steps of 2\n",
    "# gives an empty range\n",
    "for i in range(10, 3, 2):\n",
    "    print(i)                 "
   ]
  },
  {
   "cell_type": "markdown",
   "metadata": {
    "slideshow": {
     "slide_type": "subslide"
    }
   },
   "source": [
    "### Loops on the Elements of a List"
   ]
  },
  {
   "cell_type": "code",
   "execution_count": 25,
   "metadata": {
    "slideshow": {
     "slide_type": "-"
    }
   },
   "outputs": [
    {
     "name": "stdout",
     "output_type": "stream",
     "text": [
      "0 90\n",
      "1 52\n",
      "2 69\n",
      "3 100\n",
      "4 89\n",
      "5 78\n",
      "6 95\n",
      "7 75\n"
     ]
    }
   ],
   "source": [
    "for i in range(len(scores)):    # go through all elements of a list\n",
    "    print(i, scores[i])"
   ]
  },
  {
   "cell_type": "code",
   "execution_count": 26,
   "metadata": {
    "slideshow": {
     "slide_type": "subslide"
    }
   },
   "outputs": [
    {
     "name": "stdout",
     "output_type": "stream",
     "text": [
      "90\n",
      "52\n",
      "69\n",
      "100\n",
      "89\n",
      "78\n",
      "95\n",
      "75\n"
     ]
    }
   ],
   "source": [
    "for x in scores:    # often called a foreach loop in other languages\n",
    "    print(x)"
   ]
  },
  {
   "cell_type": "code",
   "execution_count": 27,
   "metadata": {
    "slideshow": {
     "slide_type": "subslide"
    }
   },
   "outputs": [
    {
     "name": "stdout",
     "output_type": "stream",
     "text": [
      "0 90\n",
      "1 52\n",
      "2 69\n",
      "3 100\n",
      "4 89\n",
      "5 78\n",
      "6 95\n",
      "7 75\n"
     ]
    }
   ],
   "source": [
    "# loop on indexes and elements of list\n",
    "for i, score in enumerate(scores):\n",
    "    print(i, score)"
   ]
  },
  {
   "cell_type": "markdown",
   "metadata": {
    "slideshow": {
     "slide_type": "subslide"
    }
   },
   "source": [
    "#### Exercises\n",
    "1. Write a loop to add up all the numbers from 1 to $n$ (inclusive). $$\\sum_{i=1}^{n}i$$ Start by creating a variable named `n`, equal to some positive integer. Print the total at the end. "
   ]
  },
  {
   "cell_type": "code",
   "execution_count": null,
   "metadata": {},
   "outputs": [],
   "source": []
  },
  {
   "cell_type": "markdown",
   "metadata": {
    "slideshow": {
     "slide_type": "subslide"
    }
   },
   "source": [
    "2. Write a loop to add up all the numbers in a list. Start by creating a list containing some numbers. Print the total at the end. "
   ]
  },
  {
   "cell_type": "code",
   "execution_count": null,
   "metadata": {},
   "outputs": [],
   "source": []
  },
  {
   "cell_type": "markdown",
   "metadata": {
    "slideshow": {
     "slide_type": "subslide"
    }
   },
   "source": [
    "3. Write a loop to add up all the numbers with an **even index** in a list. Start by creating a list containing some numbers. Print the total at the end. "
   ]
  },
  {
   "cell_type": "code",
   "execution_count": null,
   "metadata": {},
   "outputs": [],
   "source": []
  },
  {
   "cell_type": "markdown",
   "metadata": {
    "slideshow": {
     "slide_type": "subslide"
    }
   },
   "source": [
    "### Conditionals"
   ]
  },
  {
   "cell_type": "code",
   "execution_count": 28,
   "metadata": {
    "slideshow": {
     "slide_type": "-"
    }
   },
   "outputs": [
    {
     "name": "stdout",
     "output_type": "stream",
     "text": [
      "5\n"
     ]
    }
   ],
   "source": [
    "x = 5\n",
    "if x < 0:    # what does this if statement do?\n",
    "    x = -x\n",
    "print(x)"
   ]
  },
  {
   "cell_type": "markdown",
   "metadata": {
    "slideshow": {
     "slide_type": "subslide"
    }
   },
   "source": [
    "#### Example: converting scores into letter grades"
   ]
  },
  {
   "cell_type": "code",
   "execution_count": 29,
   "metadata": {
    "slideshow": {
     "slide_type": "-"
    }
   },
   "outputs": [
    {
     "name": "stdout",
     "output_type": "stream",
     "text": [
      "[90, 52, 69, 100, 89, 78, 95, 75]\n",
      "A\n"
     ]
    }
   ],
   "source": [
    "print(scores)\n",
    "if scores[0] >= 90:    # no parentheses needed around condition\n",
    "    print(\"A\")         \n",
    "else:\n",
    "    print(\"Not A\")"
   ]
  },
  {
   "cell_type": "markdown",
   "metadata": {
    "slideshow": {
     "slide_type": "fragment"
    }
   },
   "source": [
    "- Be careful with indentation: Python requires proper indentaion to work!\n",
    "- All statements in the same block must be at the same indentation level\n",
    "- The `if` and corresponding `else` must be at the same indentation level (i.e. same column)\n",
    "- If multiple statements are needed in the `if` block or `else` block, then they must all be at the same indentation level"
   ]
  },
  {
   "cell_type": "code",
   "execution_count": 30,
   "metadata": {
    "slideshow": {
     "slide_type": "subslide"
    }
   },
   "outputs": [
    {
     "name": "stdout",
     "output_type": "stream",
     "text": [
      "A\n"
     ]
    }
   ],
   "source": [
    "if scores[0] >= 90:\n",
    "    print(\"A\")\n",
    "elif scores[0] >= 80:\n",
    "    print(\"B\")\n",
    "else:\n",
    "    print(\"Less than B\")"
   ]
  },
  {
   "cell_type": "markdown",
   "metadata": {
    "slideshow": {
     "slide_type": "fragment"
    }
   },
   "source": [
    "- There are no *switch* or *case* statements in Python\n",
    "- Use a `if ... elif ... elif ... ... else ...` sequence instead\n",
    "- It's possible to do a kind of *switch* with dictionaries or classes (to be covered later)"
   ]
  },
  {
   "cell_type": "code",
   "execution_count": 31,
   "metadata": {
    "slideshow": {
     "slide_type": "subslide"
    }
   },
   "outputs": [
    {
     "name": "stdout",
     "output_type": "stream",
     "text": [
      "A\n",
      "Less than B\n",
      "Less than B\n",
      "A\n",
      "B\n",
      "Less than B\n",
      "A\n",
      "Less than B\n"
     ]
    }
   ],
   "source": [
    "# loop over all the scores and convert all grades\n",
    "for score in scores:\n",
    "    if score >= 90:\n",
    "        print(\"A\")\n",
    "    elif score >= 80:\n",
    "        print(\"B\")\n",
    "    else:\n",
    "        print(\"Less than B\")"
   ]
  },
  {
   "cell_type": "markdown",
   "metadata": {
    "slideshow": {
     "slide_type": "subslide"
    }
   },
   "source": [
    "#### Example: check invalid scores"
   ]
  },
  {
   "cell_type": "code",
   "execution_count": 32,
   "metadata": {
    "slideshow": {
     "slide_type": "-"
    }
   },
   "outputs": [],
   "source": [
    "score = 23\n",
    "if score < 0 or score > 100: \n",
    "    print(\"Invalid score!\")"
   ]
  },
  {
   "cell_type": "markdown",
   "metadata": {
    "slideshow": {
     "slide_type": "fragment"
    }
   },
   "source": [
    "#### Example: check failing scores"
   ]
  },
  {
   "cell_type": "code",
   "execution_count": 33,
   "metadata": {
    "slideshow": {
     "slide_type": "-"
    }
   },
   "outputs": [
    {
     "name": "stdout",
     "output_type": "stream",
     "text": [
      "Not good\n"
     ]
    }
   ],
   "source": [
    "if score >= 0 and score < 50:\n",
    "    print(\"Not good\")"
   ]
  },
  {
   "cell_type": "markdown",
   "metadata": {
    "slideshow": {
     "slide_type": "subslide"
    }
   },
   "source": [
    "### While Loops\n",
    "- Similar syntax to `if`"
   ]
  },
  {
   "cell_type": "code",
   "execution_count": 34,
   "metadata": {
    "slideshow": {
     "slide_type": "-"
    }
   },
   "outputs": [
    {
     "name": "stdout",
     "output_type": "stream",
     "text": [
      "5\n",
      "4\n",
      "3\n",
      "2\n",
      "1\n"
     ]
    }
   ],
   "source": [
    "x = 5\n",
    "while x > 0:\n",
    "    print(x)\n",
    "    x -= 1"
   ]
  },
  {
   "cell_type": "markdown",
   "metadata": {
    "slideshow": {
     "slide_type": "subslide"
    }
   },
   "source": [
    "- Use `break` to get out of a loop\n",
    "- Use `continue` to skip the rest of the loop body and continue the loop\n",
    "- Loops can also have an `else` block, executed just after the last \"turn\" of the loop"
   ]
  },
  {
   "cell_type": "code",
   "execution_count": 35,
   "metadata": {
    "slideshow": {
     "slide_type": "fragment"
    }
   },
   "outputs": [
    {
     "name": "stdout",
     "output_type": "stream",
     "text": [
      "5\n",
      "4\n",
      "3\n",
      "2\n",
      "1\n",
      "in the else, x = 0\n"
     ]
    }
   ],
   "source": [
    "x = 5\n",
    "while x > 0:\n",
    "    print(x)\n",
    "    x -= 1\n",
    "else:\n",
    "    print(\"in the else, x =\", x)"
   ]
  },
  {
   "cell_type": "markdown",
   "metadata": {
    "slideshow": {
     "slide_type": "subslide"
    }
   },
   "source": [
    "- Will the `else` be executed on a `break`?"
   ]
  },
  {
   "cell_type": "code",
   "execution_count": 36,
   "metadata": {
    "slideshow": {
     "slide_type": "fragment"
    }
   },
   "outputs": [
    {
     "name": "stdout",
     "output_type": "stream",
     "text": [
      "5\n",
      "4\n",
      "3\n",
      "2\n",
      "1\n"
     ]
    }
   ],
   "source": [
    "x = 5\n",
    "while True:\n",
    "    if x <= 0:\n",
    "        break\n",
    "    print(x)\n",
    "    x -= 1\n",
    "else:\n",
    "    print(\"in the else, x =\", x)"
   ]
  },
  {
   "cell_type": "markdown",
   "metadata": {
    "slideshow": {
     "slide_type": "slide"
    }
   },
   "source": [
    "## Dictionaries\n",
    "- Also called *maps* and *associative arrays* in other programming languages\n",
    "- Similar to lists, but use *keys* instead of *indexes* to access values stored in the dictionary\n",
    "- Keys can be of almost any type (they must be hashable)\n",
    "- Keys are often strings, but not always\n",
    "- **Major difference** with lists: dictionaries are not **sorted**, meaning that (key, value) pairs are not kept in any specific order"
   ]
  },
  {
   "cell_type": "code",
   "execution_count": 37,
   "metadata": {
    "slideshow": {
     "slide_type": "fragment"
    }
   },
   "outputs": [
    {
     "name": "stdout",
     "output_type": "stream",
     "text": [
      "{'age': 88, 'lastname': 'Doe', 'firstname': 'John'}\n",
      "Doe\n",
      "{'age': 66, 'lastname': 'Doe', 'firstname': 'John'}\n"
     ]
    }
   ],
   "source": [
    "data = {\"firstname\": \"John\", \"lastname\": \"Doe\", \"age\": 88}\n",
    "print(data)\n",
    "print(data[\"lastname\"])\n",
    "data[\"age\"] = 66\n",
    "print(data)"
   ]
  },
  {
   "cell_type": "markdown",
   "metadata": {
    "slideshow": {
     "slide_type": "subslide"
    }
   },
   "source": [
    "### Looping on Dictionaries"
   ]
  },
  {
   "cell_type": "code",
   "execution_count": 38,
   "metadata": {
    "slideshow": {
     "slide_type": "-"
    }
   },
   "outputs": [
    {
     "name": "stdout",
     "output_type": "stream",
     "text": [
      "age\n",
      "lastname\n",
      "firstname\n"
     ]
    }
   ],
   "source": [
    "for k in data:    # loop on keys\n",
    "    print(k)"
   ]
  },
  {
   "cell_type": "code",
   "execution_count": 39,
   "metadata": {
    "slideshow": {
     "slide_type": "fragment"
    }
   },
   "outputs": [
    {
     "name": "stdout",
     "output_type": "stream",
     "text": [
      "age 66\n",
      "lastname Doe\n",
      "firstname John\n"
     ]
    }
   ],
   "source": [
    "for k in data:    # loop on keys, get associated values\n",
    "    print(k, data[k])"
   ]
  },
  {
   "cell_type": "code",
   "execution_count": 40,
   "metadata": {
    "slideshow": {
     "slide_type": "subslide"
    }
   },
   "outputs": [
    {
     "name": "stdout",
     "output_type": "stream",
     "text": [
      "age 66\n",
      "lastname Doe\n",
      "firstname John\n"
     ]
    }
   ],
   "source": [
    "for k, v in data.items():    # loop on dictionary items\n",
    "    print(k, v)"
   ]
  },
  {
   "cell_type": "code",
   "execution_count": 41,
   "metadata": {
    "slideshow": {
     "slide_type": "subslide"
    }
   },
   "outputs": [
    {
     "name": "stdout",
     "output_type": "stream",
     "text": [
      "age 66\n",
      "firstname John\n",
      "lastname Doe\n"
     ]
    }
   ],
   "source": [
    "for k in sorted(data):    # loop on sorted keys\n",
    "    print(k, data[k])"
   ]
  },
  {
   "cell_type": "code",
   "execution_count": 42,
   "metadata": {
    "slideshow": {
     "slide_type": "subslide"
    }
   },
   "outputs": [
    {
     "name": "stdout",
     "output_type": "stream",
     "text": [
      "age 66\n",
      "firstname John\n",
      "lastname Doe\n"
     ]
    }
   ],
   "source": [
    "for k, v in sorted(data.items()):    # loop on sorted items\n",
    "    print(k, v)"
   ]
  },
  {
   "cell_type": "code",
   "execution_count": 43,
   "metadata": {
    "slideshow": {
     "slide_type": "fragment"
    }
   },
   "outputs": [
    {
     "name": "stdout",
     "output_type": "stream",
     "text": [
      "lastname Doe\n",
      "firstname John\n",
      "age 66\n"
     ]
    }
   ],
   "source": [
    "# loop on reverse sorted items\n",
    "for k, v in reversed(sorted(data.items())):\n",
    "    print(k, v)"
   ]
  },
  {
   "cell_type": "markdown",
   "metadata": {
    "slideshow": {
     "slide_type": "slide"
    }
   },
   "source": [
    "## Comprehensions\n",
    "### List Comprehensions\n",
    "- Build a list from another list, by transforming the elements\n",
    "\n",
    "#### Example: build a list of cube values"
   ]
  },
  {
   "cell_type": "code",
   "execution_count": 45,
   "metadata": {},
   "outputs": [
    {
     "name": "stdout",
     "output_type": "stream",
     "text": [
      "[0, 1, 8, 27, 64, 125, 216, 343, 512, 729]\n"
     ]
    }
   ],
   "source": [
    "cubes = [x**3 for x in range(10)]\n",
    "print(cubes)"
   ]
  },
  {
   "cell_type": "markdown",
   "metadata": {
    "slideshow": {
     "slide_type": "fragment"
    }
   },
   "source": [
    "- the square brackets `[]` are used to create a list\n",
    "- the elements are not listed explicitely: instead, they are computed from another list or sequence\n",
    "    - in this case, we compute the cube of a number `x**3`\n",
    "    - and we apply the computation to a sequence of numbers created with the `range` function\n",
    "    - but it could be applied to any list already created"
   ]
  },
  {
   "cell_type": "code",
   "execution_count": 46,
   "metadata": {
    "slideshow": {
     "slide_type": "subslide"
    }
   },
   "outputs": [
    {
     "name": "stdout",
     "output_type": "stream",
     "text": [
      "[64, -300763, 1728, 32768, 2744, -8, 343]\n"
     ]
    }
   ],
   "source": [
    "numbers = [4, -67, 12, 32, 14, -2, 7]\n",
    "cubes = [x**3 for x in numbers]\n",
    "print(cubes)"
   ]
  },
  {
   "cell_type": "markdown",
   "metadata": {},
   "source": [
    "- We can also filter out some numbers\n",
    "- For example, we might want to filter out negative values"
   ]
  },
  {
   "cell_type": "code",
   "execution_count": 47,
   "metadata": {
    "slideshow": {
     "slide_type": "fragment"
    }
   },
   "outputs": [
    {
     "name": "stdout",
     "output_type": "stream",
     "text": [
      "[64, 1728, 32768, 2744, 343]\n"
     ]
    }
   ],
   "source": [
    "numbers = [4, -67, 12, 32, 14, -2, 7]\n",
    "cubes = [x**3 for x in numbers if x >= 0]\n",
    "print(cubes)"
   ]
  },
  {
   "cell_type": "markdown",
   "metadata": {
    "slideshow": {
     "slide_type": "subslide"
    }
   },
   "source": [
    "#### Example: increase all scores by 5%"
   ]
  },
  {
   "cell_type": "code",
   "execution_count": 48,
   "metadata": {
    "slideshow": {
     "slide_type": "-"
    }
   },
   "outputs": [
    {
     "name": "stdout",
     "output_type": "stream",
     "text": [
      "[90, 52, 69, 100, 89, 78, 95, 75]\n",
      "[95, 57, 74, 105, 94, 83, 100, 80]\n"
     ]
    }
   ],
   "source": [
    "print(scores)\n",
    "scores_plus5 = [x+5 for x in scores]\n",
    "print(scores_plus5)"
   ]
  },
  {
   "cell_type": "markdown",
   "metadata": {
    "slideshow": {
     "slide_type": "subslide"
    }
   },
   "source": [
    "#### How do we avoid getting scores above 100?\n",
    "- We could filter the list, but we need to be careful to not loose scores"
   ]
  },
  {
   "cell_type": "code",
   "execution_count": 49,
   "metadata": {},
   "outputs": [
    {
     "name": "stdout",
     "output_type": "stream",
     "text": [
      "[95, 57, 74, 105, 94, 83, 100, 80]\n",
      "[95, 57, 74, 94, 83, 100, 80]\n"
     ]
    }
   ],
   "source": [
    "print(scores_plus5)\n",
    "scores_plus5_max100 = [x for x in scores_plus5 if x <= 100]\n",
    "print(scores_plus5_max100)"
   ]
  },
  {
   "cell_type": "markdown",
   "metadata": {
    "slideshow": {
     "slide_type": "fragment"
    }
   },
   "source": [
    "- We cannot put an `else` at the end of the list comprehension\n",
    "- We have to move the `if ... else ...` at the beginning"
   ]
  },
  {
   "cell_type": "code",
   "execution_count": 50,
   "metadata": {
    "slideshow": {
     "slide_type": "fragment"
    }
   },
   "outputs": [
    {
     "name": "stdout",
     "output_type": "stream",
     "text": [
      "[95, 57, 74, 100, 94, 83, 100, 80]\n"
     ]
    }
   ],
   "source": [
    "scores_plus5_max100 = [x if x <= 100 else 100 for x in scores_plus5]\n",
    "print(scores_plus5_max100)"
   ]
  },
  {
   "cell_type": "markdown",
   "metadata": {
    "slideshow": {
     "slide_type": "subslide"
    }
   },
   "source": [
    "- The problem is that, in this way, we need 2 list comprehensions\n",
    "- Better to use a function in a single list comprehension to get the correct score immediately"
   ]
  },
  {
   "cell_type": "code",
   "execution_count": 51,
   "metadata": {
    "slideshow": {
     "slide_type": "fragment"
    }
   },
   "outputs": [
    {
     "name": "stdout",
     "output_type": "stream",
     "text": [
      "[90, 52, 69, 100, 89, 78, 95, 75]\n",
      "[95, 57, 74, 100, 94, 83, 100, 80]\n"
     ]
    }
   ],
   "source": [
    "print(scores)\n",
    "scores_plus5 = [min(x+5, 100) for x in scores]\n",
    "print(scores_plus5)"
   ]
  },
  {
   "cell_type": "markdown",
   "metadata": {
    "slideshow": {
     "slide_type": "subslide"
    }
   },
   "source": [
    "### Dictionary Comprehensions\n",
    "- Same principle as list comprehensions, but build a dictionary instead\n",
    "\n",
    "#### Example: build a dictionary of cube values"
   ]
  },
  {
   "cell_type": "code",
   "execution_count": 52,
   "metadata": {},
   "outputs": [
    {
     "name": "stdout",
     "output_type": "stream",
     "text": [
      "{32: 32768, 4: 64, -2: -8, 7: 343, 12: 1728, -67: -300763, 14: 2744}\n"
     ]
    }
   ],
   "source": [
    "numbers = [4, -67, 12, 32, 14, -2, 7]\n",
    "cubes = {x: x**3 for x in numbers}\n",
    "print(cubes)"
   ]
  },
  {
   "cell_type": "code",
   "execution_count": 53,
   "metadata": {
    "slideshow": {
     "slide_type": "subslide"
    }
   },
   "outputs": [
    {
     "name": "stdout",
     "output_type": "stream",
     "text": [
      "-67 **3 = -300763\n",
      "-2 **3 = -8\n",
      "4 **3 = 64\n",
      "7 **3 = 343\n",
      "12 **3 = 1728\n",
      "14 **3 = 2744\n",
      "32 **3 = 32768\n"
     ]
    }
   ],
   "source": [
    "for k in sorted(cubes):\n",
    "    # note: a better way to produce formatted output will be \n",
    "    # covered later on\n",
    "    print(k, \"**3 =\", cubes[k])"
   ]
  },
  {
   "cell_type": "markdown",
   "metadata": {
    "slideshow": {
     "slide_type": "subslide"
    }
   },
   "source": [
    "- In this particular case, it might be better to create a list of points\n",
    "- In Python, the points created with parentheses `()` are called *tuples*\n",
    "- Tuples are exactly like lists, except that they are immutable (they cannot change)"
   ]
  },
  {
   "cell_type": "code",
   "execution_count": 54,
   "metadata": {},
   "outputs": [
    {
     "name": "stdout",
     "output_type": "stream",
     "text": [
      "[(-67, -300763), (-2, -8), (4, 64), (7, 343), (12, 1728), (14, 2744), (32, 32768)]\n"
     ]
    }
   ],
   "source": [
    "numbers = [4, -67, 12, 32, 14, -2, 7]\n",
    "cubes = [(x, x**3) for x in sorted(numbers)]\n",
    "print(cubes)"
   ]
  },
  {
   "cell_type": "markdown",
   "metadata": {
    "slideshow": {
     "slide_type": "slide"
    }
   },
   "source": [
    "## Files\n",
    "\n",
    "- Opening files for reading or writing is easy in Python\n",
    "- But you still need to handle exceptions to make sure your program will not crash\n",
    "- Use the `open` function to open a file\n",
    "    - Give the file name (including path) as an argument\n",
    "    - By default, it will open a file for reading\n",
    "    - It will return a file object, to read from (or eventually write to)\n",
    "- Better to close the file explicitely by calling the `close` function, even though the Python interpreter will eventually close it"
   ]
  },
  {
   "cell_type": "code",
   "execution_count": 55,
   "metadata": {},
   "outputs": [],
   "source": [
    "f = open(\"files/data.txt\")\n",
    "f.close()"
   ]
  },
  {
   "cell_type": "markdown",
   "metadata": {
    "slideshow": {
     "slide_type": "subslide"
    }
   },
   "source": [
    "#### Example: reading from a file, putting the lines into a list"
   ]
  },
  {
   "cell_type": "code",
   "execution_count": 56,
   "metadata": {},
   "outputs": [
    {
     "name": "stdout",
     "output_type": "stream",
     "text": [
      "['66\\n', '87\\n', '112\\n', '43\\n', '-77\\n', '98\\n', '100\\n', '34\\n']\n"
     ]
    }
   ],
   "source": [
    "# version 1\n",
    "lines = []\n",
    "f = open(\"files/data.txt\")\n",
    "for line in f:\n",
    "    lines.append(line)\n",
    "f.close()\n",
    "print(lines)"
   ]
  },
  {
   "cell_type": "code",
   "execution_count": 57,
   "metadata": {
    "slideshow": {
     "slide_type": "subslide"
    }
   },
   "outputs": [
    {
     "name": "stdout",
     "output_type": "stream",
     "text": [
      "['66', '87', '112', '43', '-77', '98', '100', '34']\n"
     ]
    }
   ],
   "source": [
    "# version 2\n",
    "# call strip to remove whitespaces from beginning and end of lines\n",
    "lines = []\n",
    "f = open(\"files/data.txt\")\n",
    "for line in f:\n",
    "    lines.append(line.strip())\n",
    "f.close()\n",
    "print(lines)"
   ]
  },
  {
   "cell_type": "code",
   "execution_count": 58,
   "metadata": {
    "slideshow": {
     "slide_type": "subslide"
    }
   },
   "outputs": [
    {
     "name": "stdout",
     "output_type": "stream",
     "text": [
      "['66', '87', '112', '43', '-77', '98', '100', '34']\n"
     ]
    }
   ],
   "source": [
    "# version 3\n",
    "# in general, strip might remove too much, depending on the data\n",
    "# only remove the \\n instead\n",
    "lines = []\n",
    "f = open(\"files/data.txt\")\n",
    "for line in f:\n",
    "    lines.append(line[:-1])\n",
    "f.close()\n",
    "print(lines)"
   ]
  },
  {
   "cell_type": "code",
   "execution_count": 59,
   "metadata": {
    "slideshow": {
     "slide_type": "subslide"
    }
   },
   "outputs": [
    {
     "name": "stdout",
     "output_type": "stream",
     "text": [
      "['66\\n', '87\\n', '112\\n', '43\\n', '-77\\n', '98\\n', '100\\n', '34\\n']\n"
     ]
    }
   ],
   "source": [
    "# version 4\n",
    "# we can do much faster\n",
    "with open(\"files/data.txt\") as f:\n",
    "    lines = f.readlines()\n",
    "# with will automatically close the file\n",
    "print(lines)\n",
    "# how do we get rid of new lines?"
   ]
  },
  {
   "cell_type": "code",
   "execution_count": 60,
   "metadata": {
    "slideshow": {
     "slide_type": "subslide"
    }
   },
   "outputs": [
    {
     "name": "stdout",
     "output_type": "stream",
     "text": [
      "['66', '87', '112', '43', '-77', '98', '100', '34']\n"
     ]
    }
   ],
   "source": [
    "# version 5\n",
    "# removing \\n from lines\n",
    "with open(\"files/data.txt\") as f:\n",
    "    lines = [line[:-1] for line in f.readlines()]\n",
    "print(lines)"
   ]
  },
  {
   "cell_type": "code",
   "execution_count": 61,
   "metadata": {
    "slideshow": {
     "slide_type": "subslide"
    }
   },
   "outputs": [
    {
     "name": "stdout",
     "output_type": "stream",
     "text": [
      "[66, 87, 112, 43, -77, 98, 100, 34]\n"
     ]
    }
   ],
   "source": [
    "# version 6\n",
    "# convert each line to an int\n",
    "with open(\"files/data.txt\") as f:\n",
    "    # the \\n will not create problems here\n",
    "    lines = [int(line) for line in f.readlines()]\n",
    "print(lines)"
   ]
  },
  {
   "cell_type": "markdown",
   "metadata": {
    "slideshow": {
     "slide_type": "subslide"
    }
   },
   "source": [
    "#### Example: writing the elements of a list to a file"
   ]
  },
  {
   "cell_type": "code",
   "execution_count": 62,
   "metadata": {
    "slideshow": {
     "slide_type": "-"
    }
   },
   "outputs": [],
   "source": [
    "# version 1\n",
    "# start with the data read in the previous example\n",
    "with open(\"files/data2.txt\", \"w\") as f:\n",
    "    for line in lines:\n",
    "        # must convert to string before writing\n",
    "        f.write(str(line))\n",
    "        # write will not automatically add \\n after writing\n",
    "        f.write(\"\\n\")"
   ]
  },
  {
   "cell_type": "code",
   "execution_count": 63,
   "metadata": {
    "slideshow": {
     "slide_type": "subslide"
    }
   },
   "outputs": [],
   "source": [
    "# version 2\n",
    "# use string formatting instead\n",
    "with open(\"files/data2.txt\", \"w\") as f:\n",
    "    for line in lines:\n",
    "        f.write(\"{}\\n\".format(line))"
   ]
  },
  {
   "cell_type": "markdown",
   "metadata": {
    "slideshow": {
     "slide_type": "slide"
    }
   },
   "source": [
    "## Exceptions\n",
    "\n",
    "- Sometimes, unexpected things can happen in a program\n",
    "- Many programming languages, such as Python, have the concept of *exceptions*\n",
    "- When something goes wrong, an exception is thrown\n",
    "- If not handled, the exception will end up crashing the program\n",
    "- Use the `try ... except ...` construct to handle (of catch) exceptions"
   ]
  },
  {
   "cell_type": "code",
   "execution_count": 65,
   "metadata": {
    "scrolled": true,
    "slideshow": {
     "slide_type": "subslide"
    }
   },
   "outputs": [
    {
     "name": "stdout",
     "output_type": "stream",
     "text": [
      "Index: 1\n",
      "5\n"
     ]
    }
   ],
   "source": [
    "numbers = [2, 5]\n",
    "index = int(input(\"Index: \"))\n",
    "try: \n",
    "    print(numbers[index])\n",
    "except IndexError as err:\n",
    "    print(err)"
   ]
  },
  {
   "cell_type": "markdown",
   "metadata": {},
   "source": [
    "- In this particular case, using a `try ... except ...` is not the best strategy\n",
    "- Exceptions should be for exceptional things: a user inputting an index out of range is quite common\n",
    "- Use if statements instead"
   ]
  },
  {
   "cell_type": "markdown",
   "metadata": {
    "slideshow": {
     "slide_type": "subslide"
    }
   },
   "source": [
    "#### Exercise\n",
    "- Rewrite the previous program without using exceptions handling\n",
    "- Use some if statement instead"
   ]
  },
  {
   "cell_type": "code",
   "execution_count": 67,
   "metadata": {},
   "outputs": [
    {
     "name": "stdout",
     "output_type": "stream",
     "text": [
      "Index: 1\n",
      "5\n"
     ]
    }
   ],
   "source": [
    "numbers = [2, 5]\n",
    "index = int(input(\"Index: \"))\n",
    "try: \n",
    "    print(numbers[index])\n",
    "except IndexError as err:\n",
    "    print(err)"
   ]
  },
  {
   "cell_type": "markdown",
   "metadata": {
    "slideshow": {
     "slide_type": "subslide"
    }
   },
   "source": [
    "#### Example: exception handling when reading files"
   ]
  },
  {
   "cell_type": "code",
   "execution_count": 68,
   "metadata": {},
   "outputs": [
    {
     "name": "stdout",
     "output_type": "stream",
     "text": [
      "[66, 87, 112, 43, -77, 98, 100, 34]\n"
     ]
    }
   ],
   "source": [
    "file_name = \"files/data.txt\"\n",
    "try:\n",
    "    with open(file_name) as f:\n",
    "        lines = [int(line) for line in f.readlines()]\n",
    "    print(lines)\n",
    "except IOError:\n",
    "    print(\"Problem opening file: \" + file_name)"
   ]
  },
  {
   "cell_type": "markdown",
   "metadata": {
    "slideshow": {
     "slide_type": "slide"
    }
   },
   "source": [
    "## Functions\n",
    "\n",
    "- Defining functions in Python is easy: use the `def` keyword\n",
    "- No types to declare\n",
    "- Function parameters can have *default* values, therefore some parameters can be omitted when invoking a function\n",
    "- Functions are *first-class objects* in Python"
   ]
  },
  {
   "cell_type": "markdown",
   "metadata": {
    "slideshow": {
     "slide_type": "slide"
    }
   },
   "source": [
    "#### Example: function computing the absolute value of its argument"
   ]
  },
  {
   "cell_type": "code",
   "execution_count": 69,
   "metadata": {
    "slideshow": {
     "slide_type": "-"
    }
   },
   "outputs": [],
   "source": [
    "# define the abs function\n",
    "def absolute(x):\n",
    "    if x < 0:\n",
    "        x = -x\n",
    "    return x"
   ]
  },
  {
   "cell_type": "markdown",
   "metadata": {},
   "source": [
    "- `x` is the only parameter to the function\n",
    "- `x` has no default value, so an argument has to be provided to it when it is called"
   ]
  },
  {
   "cell_type": "code",
   "execution_count": 70,
   "metadata": {
    "slideshow": {
     "slide_type": "fragment"
    }
   },
   "outputs": [
    {
     "name": "stdout",
     "output_type": "stream",
     "text": [
      "5\n",
      "5\n"
     ]
    }
   ],
   "source": [
    "print(absolute(-5))\n",
    "print(absolute(5))"
   ]
  },
  {
   "cell_type": "markdown",
   "metadata": {
    "slideshow": {
     "slide_type": "subslide"
    }
   },
   "source": [
    "#### Example: function with default value"
   ]
  },
  {
   "cell_type": "code",
   "execution_count": 71,
   "metadata": {},
   "outputs": [
    {
     "name": "stdout",
     "output_type": "stream",
     "text": [
      "1\n",
      "2\n",
      "4\n"
     ]
    }
   ],
   "source": [
    "# version 1\n",
    "def increment(x, step=1):\n",
    "    return x + step\n",
    "\n",
    "counter = 1\n",
    "print(counter)\n",
    "print(increment(counter))\n",
    "print(increment(counter, 3))"
   ]
  },
  {
   "cell_type": "code",
   "execution_count": 72,
   "metadata": {
    "slideshow": {
     "slide_type": "subslide"
    }
   },
   "outputs": [
    {
     "name": "stdout",
     "output_type": "stream",
     "text": [
      "1\n",
      "1\n",
      "1\n"
     ]
    }
   ],
   "source": [
    "# version 2\n",
    "def increment(x, step=1):\n",
    "    x = x + step\n",
    "\n",
    "counter = 1\n",
    "print(counter)\n",
    "increment(counter)\n",
    "print(counter)\n",
    "increment(counter, 3)\n",
    "print(counter)"
   ]
  },
  {
   "cell_type": "markdown",
   "metadata": {
    "slideshow": {
     "slide_type": "subslide"
    }
   },
   "source": [
    "#### Questions\n",
    "- Why do we get *1, 2, 4* as output in version 1?\n",
    "- Why do we get *1, 1, 1* as output in version 2?"
   ]
  },
  {
   "cell_type": "markdown",
   "metadata": {
    "slideshow": {
     "slide_type": "subslide"
    }
   },
   "source": [
    "### Passing Arguments to Functions\n",
    "\n",
    "https://www.python-course.eu/python3_passing_arguments.php\n",
    "\n",
    "- Correctly speaking, Python uses a mechanism, which is known as *Call-by-Object*, sometimes also called *Call by Object Reference* or *Call by Sharing*.\n",
    "\n",
    "- If you pass **immutable arguments** like integers, strings or tuples to a function, the passing *acts like call-by-value*. \n",
    "    - The object reference is passed to the function parameters. \n",
    "    - They can't be changed within the function, because they can't be changed at all, i.e. they are immutable.\n",
    "    - It's *different*, if we pass **mutable arguments**. \n",
    "    - They are also passed by object reference, but they can be changed in place in the function. "
   ]
  },
  {
   "cell_type": "markdown",
   "metadata": {
    "slideshow": {
     "slide_type": "subslide"
    }
   },
   "source": [
    "#### `increment` function\n",
    "- There is no need for an increment function\n",
    "- Anyway, we can only change the value of parameter `x` locally\n",
    "- Use the `+=` operator instead\n",
    "- *Note*: there is no `++` operator in Python (use `+= 1` instead)"
   ]
  },
  {
   "cell_type": "code",
   "execution_count": 73,
   "metadata": {},
   "outputs": [
    {
     "name": "stdout",
     "output_type": "stream",
     "text": [
      "1\n",
      "4\n"
     ]
    }
   ],
   "source": [
    "counter = 1\n",
    "print(counter)\n",
    "counter += 3\n",
    "print(counter)"
   ]
  },
  {
   "cell_type": "markdown",
   "metadata": {
    "slideshow": {
     "slide_type": "subslide"
    }
   },
   "source": [
    "### Python Functions are First-Class Objects\n",
    "\n",
    "- Basically, this means that we pass around function references the same way we can pass object references\n",
    "- We can, for example, maintain a list of function references, and call them on some arguments when looping through the list"
   ]
  },
  {
   "cell_type": "code",
   "execution_count": 74,
   "metadata": {},
   "outputs": [
    {
     "name": "stdout",
     "output_type": "stream",
     "text": [
      "5\n",
      "-0x5\n"
     ]
    }
   ],
   "source": [
    "# reuse the absolute function defined earlier, \n",
    "# and the hex function used earlier\n",
    "# put them in a list\n",
    "# note that there are no () after the function names\n",
    "# the () are used to call, or invoke, the functions\n",
    "func_list = [absolute, hex]\n",
    "for func in func_list:\n",
    "    print(func(-5))"
   ]
  },
  {
   "cell_type": "markdown",
   "metadata": {
    "slideshow": {
     "slide_type": "slide"
    }
   },
   "source": [
    "## PyCharm Demo\n",
    "\n",
    "- New project (pure Python, existing interpreter), Other project types later on.\n",
    "- Project tab\n",
    "- Python console\n",
    "- Create new Python file\n",
    "- Run a program\n",
    "- Run configurations"
   ]
  },
  {
   "cell_type": "markdown",
   "metadata": {
    "slideshow": {
     "slide_type": "slide"
    }
   },
   "source": [
    "## Readings and Resources\n",
    "\n",
    "1. [The Python Tutorial](https://docs.python.org/3.5/tutorial/index.html)\n",
    "    - Sections 1 through 9\n",
    "    - Sections 6 *Modules* and 9 *Classes* are useful but can be skipped for now\n",
    "2. [W3Schools Python Tutorial](https://www.w3schools.com/python/default.asp)\n",
    "    - *Python Tutorial*, all sections up to *Python Functions*\n",
    "    - *Python Arrays* (not really arrays, but *lists*)\n",
    "    - *File Handling*\n",
    "    - *Python Classes* and *Python Inheritance* are useful but can be skipped for now"
   ]
  }
 ],
 "metadata": {
  "celltoolbar": "Slideshow",
  "kernelspec": {
   "display_name": "Python 3",
   "language": "python",
   "name": "python3"
  },
  "language_info": {
   "codemirror_mode": {
    "name": "ipython",
    "version": 3
   },
   "file_extension": ".py",
   "mimetype": "text/x-python",
   "name": "python",
   "nbconvert_exporter": "python",
   "pygments_lexer": "ipython3",
   "version": "3.5.3"
  }
 },
 "nbformat": 4,
 "nbformat_minor": 2
}
